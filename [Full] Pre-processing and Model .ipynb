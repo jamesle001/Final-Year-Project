{
 "cells": [
  {
   "cell_type": "markdown",
   "id": "f9241853",
   "metadata": {},
   "source": [
    "# Pre-processing and structuring images "
   ]
  },
  {
   "cell_type": "markdown",
   "id": "919bbb45",
   "metadata": {},
   "source": [
    "## Please do not run this if you dont have zip file of 7800 images "
   ]
  },
  {
   "cell_type": "code",
   "execution_count": null,
   "id": "5f7d0ab5",
   "metadata": {},
   "outputs": [],
   "source": [
    "#Authored by Le Ngoc Canh\n",
    "#Please do not run this if you dont have zip file of 7800 images\n",
    "import os\n",
    "from PIL import Image\n",
    "import numpy as np\n",
    "\n",
    "def preprocessing(img):\n",
    "    image = img.resize((70,70))\n",
    "    image = np.array(image)\n",
    "    image = image.reshape(1,14700)\n",
    "    image = image/255.0\n",
    "    return image\n",
    "\n",
    "#Please change the path address when you open the file at your local computer\n",
    "path = 'C:\\\\Users\\\\NGOCCANH001\\\\Desktop\\\\FYPDataSet\\\\FYPDataSet'\n",
    "folderdataset = os.listdir(path)\n",
    "\n",
    "data = list()\n",
    "label = []"
   ]
  },
  {
   "cell_type": "code",
   "execution_count": null,
   "id": "ab59a2f9",
   "metadata": {},
   "outputs": [],
   "source": [
    "for i in range(0,13):\n",
    "    print(i)"
   ]
  },
  {
   "cell_type": "code",
   "execution_count": null,
   "id": "69b3bf7d",
   "metadata": {},
   "outputs": [],
   "source": [
    "for i in range(0,13):\n",
    "    print(\"Counting start at: \",i)\n",
    "    cnt = 0\n",
    "    for subject in folderdataset:\n",
    "        cnt = cnt + 1\n",
    "        print(cnt)\n",
    "        folders_path = path + '\\\\' + subject\n",
    "        folders = os.listdir(folders_path)[i*10:i*10+10]\n",
    "        for imgfile in folders:\n",
    "            img = Image.open(folders_path + '\\\\' + imgfile)\n",
    "            img = preprocessing(img)\n",
    "            data.append(img)\n",
    "            label.append(int(subject))"
   ]
  },
  {
   "cell_type": "code",
   "execution_count": null,
   "id": "8cd920a9",
   "metadata": {},
   "outputs": [],
   "source": [
    "import pandas as pd\n",
    "data = np.asarray(data)\n",
    "data = data.reshape(data.shape[0],data.shape[1]*data.shape[2])\n",
    "data"
   ]
  },
  {
   "cell_type": "code",
   "execution_count": null,
   "id": "57ac3130",
   "metadata": {},
   "outputs": [],
   "source": [
    "label = np.asarray(label)"
   ]
  },
  {
   "cell_type": "code",
   "execution_count": null,
   "id": "967108d5",
   "metadata": {},
   "outputs": [],
   "source": [
    "print(data.shape)\n",
    "print(label.shape)"
   ]
  },
  {
   "cell_type": "code",
   "execution_count": null,
   "id": "f21da2e4",
   "metadata": {},
   "outputs": [],
   "source": [
    "df = pd.DataFrame(data)\n",
    "df.to_csv('Dataset_final.csv', index=False)"
   ]
  },
  {
   "cell_type": "code",
   "execution_count": null,
   "id": "3e39dac1",
   "metadata": {},
   "outputs": [],
   "source": [
    "label = label.reshape(1,6890)\n",
    "lb = pd.DataFrame(label)\n",
    "lb.to_csv('Label_final.csv', index = False)"
   ]
  },
  {
   "cell_type": "markdown",
   "id": "1fbcbd71",
   "metadata": {},
   "source": [
    "## Run from this line onward if you have csv files of data and label. Please ignore the above part if you don't have zip files of original images. "
   ]
  },
  {
   "cell_type": "markdown",
   "id": "2fc99da5",
   "metadata": {},
   "source": [
    "\n",
    "# Model and Algortihm Design"
   ]
  },
  {
   "cell_type": "code",
   "execution_count": 1,
   "id": "c422a59a",
   "metadata": {},
   "outputs": [],
   "source": [
    "import numpy as np # linear algebra\n",
    "import pandas as pd # data processing, CSV file I/O (e.g. pd.read_csv)\n",
    "\n",
    "#Visualization\n",
    "import matplotlib.pyplot as plt\n",
    "\n",
    "#Machine Learning\n",
    "from sklearn.model_selection import train_test_split\n",
    "from sklearn.decomposition import SparsePCA as PCA\n",
    "from sklearn.svm import SVC\n",
    "from sklearn.naive_bayes import GaussianNB\n",
    "from sklearn.neighbors import KNeighborsClassifier\n",
    "from sklearn.tree import DecisionTreeClassifier\n",
    "from sklearn.linear_model import LogisticRegression\n",
    "from sklearn.discriminant_analysis import LinearDiscriminantAnalysis\n",
    "from sklearn import metrics"
   ]
  },
  {
   "cell_type": "code",
   "execution_count": 2,
   "id": "fa9c5929",
   "metadata": {},
   "outputs": [],
   "source": [
    "df = pd.read_csv('Dataset_final.csv')"
   ]
  },
  {
   "cell_type": "code",
   "execution_count": 3,
   "id": "3b442bad",
   "metadata": {
    "scrolled": true
   },
   "outputs": [
    {
     "data": {
      "text/html": [
       "<div>\n",
       "<style scoped>\n",
       "    .dataframe tbody tr th:only-of-type {\n",
       "        vertical-align: middle;\n",
       "    }\n",
       "\n",
       "    .dataframe tbody tr th {\n",
       "        vertical-align: top;\n",
       "    }\n",
       "\n",
       "    .dataframe thead th {\n",
       "        text-align: right;\n",
       "    }\n",
       "</style>\n",
       "<table border=\"1\" class=\"dataframe\">\n",
       "  <thead>\n",
       "    <tr style=\"text-align: right;\">\n",
       "      <th></th>\n",
       "      <th>0</th>\n",
       "      <th>1</th>\n",
       "      <th>2</th>\n",
       "      <th>3</th>\n",
       "      <th>4</th>\n",
       "      <th>5</th>\n",
       "      <th>6</th>\n",
       "      <th>7</th>\n",
       "      <th>8</th>\n",
       "      <th>9</th>\n",
       "      <th>...</th>\n",
       "      <th>14690</th>\n",
       "      <th>14691</th>\n",
       "      <th>14692</th>\n",
       "      <th>14693</th>\n",
       "      <th>14694</th>\n",
       "      <th>14695</th>\n",
       "      <th>14696</th>\n",
       "      <th>14697</th>\n",
       "      <th>14698</th>\n",
       "      <th>14699</th>\n",
       "    </tr>\n",
       "  </thead>\n",
       "  <tbody>\n",
       "    <tr>\n",
       "      <th>0</th>\n",
       "      <td>0.015686</td>\n",
       "      <td>0.015686</td>\n",
       "      <td>0.023529</td>\n",
       "      <td>0.011765</td>\n",
       "      <td>0.015686</td>\n",
       "      <td>0.023529</td>\n",
       "      <td>0.019608</td>\n",
       "      <td>0.027451</td>\n",
       "      <td>0.023529</td>\n",
       "      <td>0.015686</td>\n",
       "      <td>...</td>\n",
       "      <td>0.027451</td>\n",
       "      <td>0.011765</td>\n",
       "      <td>0.015686</td>\n",
       "      <td>0.031373</td>\n",
       "      <td>0.580392</td>\n",
       "      <td>0.588235</td>\n",
       "      <td>0.584314</td>\n",
       "      <td>0.015686</td>\n",
       "      <td>0.023529</td>\n",
       "      <td>0.011765</td>\n",
       "    </tr>\n",
       "    <tr>\n",
       "      <th>1</th>\n",
       "      <td>0.011765</td>\n",
       "      <td>0.015686</td>\n",
       "      <td>0.035294</td>\n",
       "      <td>0.015686</td>\n",
       "      <td>0.019608</td>\n",
       "      <td>0.035294</td>\n",
       "      <td>0.019608</td>\n",
       "      <td>0.023529</td>\n",
       "      <td>0.039216</td>\n",
       "      <td>0.031373</td>\n",
       "      <td>...</td>\n",
       "      <td>0.047059</td>\n",
       "      <td>0.027451</td>\n",
       "      <td>0.043137</td>\n",
       "      <td>0.054902</td>\n",
       "      <td>0.584314</td>\n",
       "      <td>0.592157</td>\n",
       "      <td>0.588235</td>\n",
       "      <td>0.015686</td>\n",
       "      <td>0.019608</td>\n",
       "      <td>0.035294</td>\n",
       "    </tr>\n",
       "    <tr>\n",
       "      <th>2</th>\n",
       "      <td>0.015686</td>\n",
       "      <td>0.019608</td>\n",
       "      <td>0.035294</td>\n",
       "      <td>0.003922</td>\n",
       "      <td>0.007843</td>\n",
       "      <td>0.023529</td>\n",
       "      <td>0.015686</td>\n",
       "      <td>0.019608</td>\n",
       "      <td>0.027451</td>\n",
       "      <td>0.019608</td>\n",
       "      <td>...</td>\n",
       "      <td>0.027451</td>\n",
       "      <td>0.007843</td>\n",
       "      <td>0.023529</td>\n",
       "      <td>0.027451</td>\n",
       "      <td>0.600000</td>\n",
       "      <td>0.607843</td>\n",
       "      <td>0.596078</td>\n",
       "      <td>0.027451</td>\n",
       "      <td>0.031373</td>\n",
       "      <td>0.039216</td>\n",
       "    </tr>\n",
       "    <tr>\n",
       "      <th>3</th>\n",
       "      <td>0.015686</td>\n",
       "      <td>0.011765</td>\n",
       "      <td>0.031373</td>\n",
       "      <td>0.019608</td>\n",
       "      <td>0.015686</td>\n",
       "      <td>0.035294</td>\n",
       "      <td>0.023529</td>\n",
       "      <td>0.019608</td>\n",
       "      <td>0.039216</td>\n",
       "      <td>0.011765</td>\n",
       "      <td>...</td>\n",
       "      <td>0.043137</td>\n",
       "      <td>0.031373</td>\n",
       "      <td>0.035294</td>\n",
       "      <td>0.043137</td>\n",
       "      <td>0.600000</td>\n",
       "      <td>0.607843</td>\n",
       "      <td>0.588235</td>\n",
       "      <td>0.003922</td>\n",
       "      <td>0.011765</td>\n",
       "      <td>0.007843</td>\n",
       "    </tr>\n",
       "    <tr>\n",
       "      <th>4</th>\n",
       "      <td>0.023529</td>\n",
       "      <td>0.023529</td>\n",
       "      <td>0.031373</td>\n",
       "      <td>0.015686</td>\n",
       "      <td>0.015686</td>\n",
       "      <td>0.023529</td>\n",
       "      <td>0.011765</td>\n",
       "      <td>0.011765</td>\n",
       "      <td>0.019608</td>\n",
       "      <td>0.023529</td>\n",
       "      <td>...</td>\n",
       "      <td>0.050980</td>\n",
       "      <td>0.007843</td>\n",
       "      <td>0.011765</td>\n",
       "      <td>0.019608</td>\n",
       "      <td>0.254902</td>\n",
       "      <td>0.250980</td>\n",
       "      <td>0.231373</td>\n",
       "      <td>0.019608</td>\n",
       "      <td>0.023529</td>\n",
       "      <td>0.031373</td>\n",
       "    </tr>\n",
       "  </tbody>\n",
       "</table>\n",
       "<p>5 rows × 14700 columns</p>\n",
       "</div>"
      ],
      "text/plain": [
       "          0         1         2         3         4         5         6  \\\n",
       "0  0.015686  0.015686  0.023529  0.011765  0.015686  0.023529  0.019608   \n",
       "1  0.011765  0.015686  0.035294  0.015686  0.019608  0.035294  0.019608   \n",
       "2  0.015686  0.019608  0.035294  0.003922  0.007843  0.023529  0.015686   \n",
       "3  0.015686  0.011765  0.031373  0.019608  0.015686  0.035294  0.023529   \n",
       "4  0.023529  0.023529  0.031373  0.015686  0.015686  0.023529  0.011765   \n",
       "\n",
       "          7         8         9  ...     14690     14691     14692     14693  \\\n",
       "0  0.027451  0.023529  0.015686  ...  0.027451  0.011765  0.015686  0.031373   \n",
       "1  0.023529  0.039216  0.031373  ...  0.047059  0.027451  0.043137  0.054902   \n",
       "2  0.019608  0.027451  0.019608  ...  0.027451  0.007843  0.023529  0.027451   \n",
       "3  0.019608  0.039216  0.011765  ...  0.043137  0.031373  0.035294  0.043137   \n",
       "4  0.011765  0.019608  0.023529  ...  0.050980  0.007843  0.011765  0.019608   \n",
       "\n",
       "      14694     14695     14696     14697     14698     14699  \n",
       "0  0.580392  0.588235  0.584314  0.015686  0.023529  0.011765  \n",
       "1  0.584314  0.592157  0.588235  0.015686  0.019608  0.035294  \n",
       "2  0.600000  0.607843  0.596078  0.027451  0.031373  0.039216  \n",
       "3  0.600000  0.607843  0.588235  0.003922  0.011765  0.007843  \n",
       "4  0.254902  0.250980  0.231373  0.019608  0.023529  0.031373  \n",
       "\n",
       "[5 rows x 14700 columns]"
      ]
     },
     "execution_count": 3,
     "metadata": {},
     "output_type": "execute_result"
    }
   ],
   "source": [
    "df.head()"
   ]
  },
  {
   "cell_type": "code",
   "execution_count": 4,
   "id": "6dbb6f9b",
   "metadata": {},
   "outputs": [],
   "source": [
    "label = pd.read_csv('Label_final.csv')"
   ]
  },
  {
   "cell_type": "code",
   "execution_count": 5,
   "id": "e45a1dee",
   "metadata": {},
   "outputs": [
    {
     "name": "stdout",
     "output_type": "stream",
     "text": [
      "     0    1    2    3    4    5    6    7    8    9  ...  6880  6881  6882  \\\n",
      "0  410  410  410  410  410  410  410  410  410  410  ...   670   670   670   \n",
      "\n",
      "   6883  6884  6885  6886  6887  6888  6889  \n",
      "0   670   670   670   670   670   670   670  \n",
      "\n",
      "[1 rows x 6890 columns]\n"
     ]
    }
   ],
   "source": [
    "print(label)"
   ]
  },
  {
   "cell_type": "code",
   "execution_count": 6,
   "id": "d0000a26",
   "metadata": {},
   "outputs": [
    {
     "name": "stdout",
     "output_type": "stream",
     "text": [
      "(6890, 14700)\n",
      "(6890,)\n"
     ]
    }
   ],
   "source": [
    "data = df.to_numpy()\n",
    "label = np.asarray(label)\n",
    "label = label.reshape(6890,)\n",
    "print(data.shape)\n",
    "print(label.shape)"
   ]
  },
  {
   "cell_type": "code",
   "execution_count": 7,
   "id": "456386d7",
   "metadata": {},
   "outputs": [
    {
     "name": "stdout",
     "output_type": "stream",
     "text": [
      "There are 6890 images in the dataset\n",
      "There are 53 unique targets in the dataset\n"
     ]
    }
   ],
   "source": [
    "print(\"There are {} images in the dataset\".format(len(data)))\n",
    "print(\"There are {} unique targets in the dataset\".format(len(np.unique(label))))"
   ]
  },
  {
   "cell_type": "code",
   "execution_count": 8,
   "id": "a8670e16",
   "metadata": {},
   "outputs": [
    {
     "name": "stdout",
     "output_type": "stream",
     "text": [
      "X shape: (6890, 14700)\n"
     ]
    }
   ],
   "source": [
    "X = data\n",
    "print(\"X shape:\",X.shape)"
   ]
  },
  {
   "cell_type": "code",
   "execution_count": 9,
   "id": "2dd3d0bf",
   "metadata": {},
   "outputs": [
    {
     "name": "stdout",
     "output_type": "stream",
     "text": [
      "X_train shape: (5512, 14700)\n",
      "y_train shape:(5512,)\n"
     ]
    }
   ],
   "source": [
    "X_train, X_test, y_train, y_test=train_test_split(X, label, test_size=0.2, stratify=label, random_state=42)\n",
    "print(\"X_train shape:\",X_train.shape)\n",
    "print(\"y_train shape:{}\".format(y_train.shape))"
   ]
  },
  {
   "cell_type": "code",
   "execution_count": 10,
   "id": "4a3d6c77",
   "metadata": {},
   "outputs": [
    {
     "data": {
      "text/plain": [
       "<AxesSubplot:title={'center':'Number of Samples for Each Classes'}, xlabel='subject ids'>"
      ]
     },
     "execution_count": 10,
     "metadata": {},
     "output_type": "execute_result"
    },
    {
     "data": {
      "image/png": "[encoded data removed]",
      "text/plain": [
       "<Figure size 1080x576 with 1 Axes>"
      ]
     },
     "metadata": {
      "needs_background": "light"
     },
     "output_type": "display_data"
    }
   ],
   "source": [
    "y_frame = pd.DataFrame()\n",
    "y_frame['subject ids']=y_train\n",
    "y_frame.groupby(['subject ids']).size().plot.bar(figsize=(15,8),title=\"Number of Samples for Each Classes\")"
   ]
  },
  {
   "cell_type": "code",
   "execution_count": 12,
   "id": "687ebb4e",
   "metadata": {},
   "outputs": [],
   "source": [
    "from sklearn.decomposition import PCA\n",
    "pca=PCA(n_components=2)\n",
    "pca.fit(X)\n",
    "X_pca=pca.transform(X)"
   ]
  },
  {
   "cell_type": "code",
   "execution_count": 12,
   "id": "c8f8999c",
   "metadata": {},
   "outputs": [
    {
     "data": {
      "text/plain": [
       "<matplotlib.colorbar.Colorbar at 0x19801280f40>"
      ]
     },
     "execution_count": 12,
     "metadata": {},
     "output_type": "execute_result"
    },
    {
     "data": {
      "image/png": "[encoded data removed]",
      "text/plain": [
       "<Figure size 720x576 with 2 Axes>"
      ]
     },
     "metadata": {
      "needs_background": "light"
     },
     "output_type": "display_data"
    }
   ],
   "source": [
    "number_of_label=53\n",
    "index_range = number_of_label*130\n",
    "fig=plt.figure(figsize=(10,8))\n",
    "ax=fig.add_subplot(1,1,1)\n",
    "scatter = ax.scatter(X_pca[:index_range,0],\n",
    "            X_pca[:index_range,1],\n",
    "            s=10,\n",
    "           cmap=plt.get_cmap('jet', number_of_label)\n",
    "          )\n",
    "\n",
    "ax.set_xlabel(\"First Principle Component\")\n",
    "ax.set_ylabel(\"Second Principle Component\")\n",
    "ax.set_title(\"PCA projection of {} class\".format(number_of_label))\n",
    "\n",
    "fig.colorbar(scatter)"
   ]
  },
  {
   "cell_type": "code",
   "execution_count": 13,
   "id": "fc906f9a",
   "metadata": {},
   "outputs": [
    {
     "data": {
      "image/png": "[encoded data removed]",
      "text/plain": [
       "<Figure size 864x576 with 1 Axes>"
      ]
     },
     "metadata": {
      "needs_background": "light"
     },
     "output_type": "display_data"
    }
   ],
   "source": [
    "#Skip it in case you didn't need it since it is required long period to run\n",
    "pca=PCA()\n",
    "pca.fit(X)\n",
    "\n",
    "plt.figure(1, figsize=(12,8))\n",
    "\n",
    "plt.plot(pca.explained_variance_, linewidth=2)\n",
    " \n",
    "plt.xlabel('Components')\n",
    "plt.ylabel('Explained Variaces')\n",
    "plt.xlim([0, 150])\n",
    "plt.show()"
   ]
  },
  {
   "cell_type": "markdown",
   "id": "9463f971",
   "metadata": {},
   "source": [
    "## Model running"
   ]
  },
  {
   "cell_type": "code",
   "execution_count": 14,
   "id": "831c1bcc",
   "metadata": {
    "scrolled": true
   },
   "outputs": [
    {
     "name": "stderr",
     "output_type": "stream",
     "text": [
      "C:\\ProgramData\\Anaconda3\\lib\\site-packages\\sklearn\\linear_model\\logistic.py:432: FutureWarning: Default solver will be changed to 'lbfgs' in 0.22. Specify a solver to silence this warning.\n",
      "  FutureWarning)\n",
      "C:\\ProgramData\\Anaconda3\\lib\\site-packages\\sklearn\\linear_model\\logistic.py:469: FutureWarning: Default multi_class will be changed to 'auto' in 0.22. Specify the multi_class option to silence this warning.\n",
      "  \"this warning.\", FutureWarning)\n"
     ]
    },
    {
     "name": "stdout",
     "output_type": "stream",
     "text": [
      "Number of components in PCA: 1\n",
      "Train accuracy score:0.0495\n",
      "Test accuracy score:0.0537\n",
      "Execution time: 5.431359052658081 seconds\n"
     ]
    },
    {
     "name": "stderr",
     "output_type": "stream",
     "text": [
      "C:\\ProgramData\\Anaconda3\\lib\\site-packages\\sklearn\\linear_model\\logistic.py:432: FutureWarning: Default solver will be changed to 'lbfgs' in 0.22. Specify a solver to silence this warning.\n",
      "  FutureWarning)\n",
      "C:\\ProgramData\\Anaconda3\\lib\\site-packages\\sklearn\\linear_model\\logistic.py:469: FutureWarning: Default multi_class will be changed to 'auto' in 0.22. Specify the multi_class option to silence this warning.\n",
      "  \"this warning.\", FutureWarning)\n"
     ]
    },
    {
     "name": "stdout",
     "output_type": "stream",
     "text": [
      "Number of components in PCA: 2\n",
      "Train accuracy score:0.1323\n",
      "Test accuracy score:0.1248\n",
      "Execution time: 3.1529979705810547 seconds\n"
     ]
    },
    {
     "name": "stderr",
     "output_type": "stream",
     "text": [
      "C:\\ProgramData\\Anaconda3\\lib\\site-packages\\sklearn\\linear_model\\logistic.py:432: FutureWarning: Default solver will be changed to 'lbfgs' in 0.22. Specify a solver to silence this warning.\n",
      "  FutureWarning)\n",
      "C:\\ProgramData\\Anaconda3\\lib\\site-packages\\sklearn\\linear_model\\logistic.py:469: FutureWarning: Default multi_class will be changed to 'auto' in 0.22. Specify the multi_class option to silence this warning.\n",
      "  \"this warning.\", FutureWarning)\n"
     ]
    },
    {
     "name": "stdout",
     "output_type": "stream",
     "text": [
      "Number of components in PCA: 3\n",
      "Train accuracy score:0.2696\n",
      "Test accuracy score:0.2518\n",
      "Execution time: 2.865304470062256 seconds\n"
     ]
    },
    {
     "name": "stderr",
     "output_type": "stream",
     "text": [
      "C:\\ProgramData\\Anaconda3\\lib\\site-packages\\sklearn\\linear_model\\logistic.py:432: FutureWarning: Default solver will be changed to 'lbfgs' in 0.22. Specify a solver to silence this warning.\n",
      "  FutureWarning)\n",
      "C:\\ProgramData\\Anaconda3\\lib\\site-packages\\sklearn\\linear_model\\logistic.py:469: FutureWarning: Default multi_class will be changed to 'auto' in 0.22. Specify the multi_class option to silence this warning.\n",
      "  \"this warning.\", FutureWarning)\n"
     ]
    },
    {
     "name": "stdout",
     "output_type": "stream",
     "text": [
      "Number of components in PCA: 4\n",
      "Train accuracy score:0.4784\n",
      "Test accuracy score:0.4565\n",
      "Execution time: 3.1972339153289795 seconds\n"
     ]
    },
    {
     "name": "stderr",
     "output_type": "stream",
     "text": [
      "C:\\ProgramData\\Anaconda3\\lib\\site-packages\\sklearn\\linear_model\\logistic.py:432: FutureWarning: Default solver will be changed to 'lbfgs' in 0.22. Specify a solver to silence this warning.\n",
      "  FutureWarning)\n",
      "C:\\ProgramData\\Anaconda3\\lib\\site-packages\\sklearn\\linear_model\\logistic.py:469: FutureWarning: Default multi_class will be changed to 'auto' in 0.22. Specify the multi_class option to silence this warning.\n",
      "  \"this warning.\", FutureWarning)\n"
     ]
    },
    {
     "name": "stdout",
     "output_type": "stream",
     "text": [
      "Number of components in PCA: 5\n",
      "Train accuracy score:0.5138\n",
      "Test accuracy score:0.4927\n",
      "Execution time: 3.601940631866455 seconds\n"
     ]
    },
    {
     "name": "stderr",
     "output_type": "stream",
     "text": [
      "C:\\ProgramData\\Anaconda3\\lib\\site-packages\\sklearn\\linear_model\\logistic.py:432: FutureWarning: Default solver will be changed to 'lbfgs' in 0.22. Specify a solver to silence this warning.\n",
      "  FutureWarning)\n",
      "C:\\ProgramData\\Anaconda3\\lib\\site-packages\\sklearn\\linear_model\\logistic.py:469: FutureWarning: Default multi_class will be changed to 'auto' in 0.22. Specify the multi_class option to silence this warning.\n",
      "  \"this warning.\", FutureWarning)\n"
     ]
    },
    {
     "name": "stdout",
     "output_type": "stream",
     "text": [
      "Number of components in PCA: 6\n",
      "Train accuracy score:0.5386\n",
      "Test accuracy score:0.5174\n",
      "Execution time: 3.336850166320801 seconds\n"
     ]
    },
    {
     "name": "stderr",
     "output_type": "stream",
     "text": [
      "C:\\ProgramData\\Anaconda3\\lib\\site-packages\\sklearn\\linear_model\\logistic.py:432: FutureWarning: Default solver will be changed to 'lbfgs' in 0.22. Specify a solver to silence this warning.\n",
      "  FutureWarning)\n",
      "C:\\ProgramData\\Anaconda3\\lib\\site-packages\\sklearn\\linear_model\\logistic.py:469: FutureWarning: Default multi_class will be changed to 'auto' in 0.22. Specify the multi_class option to silence this warning.\n",
      "  \"this warning.\", FutureWarning)\n"
     ]
    },
    {
     "name": "stdout",
     "output_type": "stream",
     "text": [
      "Number of components in PCA: 7\n",
      "Train accuracy score:0.6495\n",
      "Test accuracy score:0.6335\n",
      "Execution time: 3.4077861309051514 seconds\n"
     ]
    },
    {
     "name": "stderr",
     "output_type": "stream",
     "text": [
      "C:\\ProgramData\\Anaconda3\\lib\\site-packages\\sklearn\\linear_model\\logistic.py:432: FutureWarning: Default solver will be changed to 'lbfgs' in 0.22. Specify a solver to silence this warning.\n",
      "  FutureWarning)\n",
      "C:\\ProgramData\\Anaconda3\\lib\\site-packages\\sklearn\\linear_model\\logistic.py:469: FutureWarning: Default multi_class will be changed to 'auto' in 0.22. Specify the multi_class option to silence this warning.\n",
      "  \"this warning.\", FutureWarning)\n"
     ]
    },
    {
     "name": "stdout",
     "output_type": "stream",
     "text": [
      "Number of components in PCA: 8\n",
      "Train accuracy score:0.6887\n",
      "Test accuracy score:0.6756\n",
      "Execution time: 4.070780277252197 seconds\n"
     ]
    },
    {
     "name": "stderr",
     "output_type": "stream",
     "text": [
      "C:\\ProgramData\\Anaconda3\\lib\\site-packages\\sklearn\\linear_model\\logistic.py:432: FutureWarning: Default solver will be changed to 'lbfgs' in 0.22. Specify a solver to silence this warning.\n",
      "  FutureWarning)\n",
      "C:\\ProgramData\\Anaconda3\\lib\\site-packages\\sklearn\\linear_model\\logistic.py:469: FutureWarning: Default multi_class will be changed to 'auto' in 0.22. Specify the multi_class option to silence this warning.\n",
      "  \"this warning.\", FutureWarning)\n"
     ]
    },
    {
     "name": "stdout",
     "output_type": "stream",
     "text": [
      "Number of components in PCA: 9\n",
      "Train accuracy score:0.7288\n",
      "Test accuracy score:0.7141\n",
      "Execution time: 4.175396680831909 seconds\n"
     ]
    },
    {
     "name": "stderr",
     "output_type": "stream",
     "text": [
      "C:\\ProgramData\\Anaconda3\\lib\\site-packages\\sklearn\\linear_model\\logistic.py:432: FutureWarning: Default solver will be changed to 'lbfgs' in 0.22. Specify a solver to silence this warning.\n",
      "  FutureWarning)\n",
      "C:\\ProgramData\\Anaconda3\\lib\\site-packages\\sklearn\\linear_model\\logistic.py:469: FutureWarning: Default multi_class will be changed to 'auto' in 0.22. Specify the multi_class option to silence this warning.\n",
      "  \"this warning.\", FutureWarning)\n"
     ]
    },
    {
     "name": "stdout",
     "output_type": "stream",
     "text": [
      "Number of components in PCA: 10\n",
      "Train accuracy score:0.7705\n",
      "Test accuracy score:0.7656\n",
      "Execution time: 3.5477170944213867 seconds\n"
     ]
    },
    {
     "name": "stderr",
     "output_type": "stream",
     "text": [
      "C:\\ProgramData\\Anaconda3\\lib\\site-packages\\sklearn\\linear_model\\logistic.py:432: FutureWarning: Default solver will be changed to 'lbfgs' in 0.22. Specify a solver to silence this warning.\n",
      "  FutureWarning)\n",
      "C:\\ProgramData\\Anaconda3\\lib\\site-packages\\sklearn\\linear_model\\logistic.py:469: FutureWarning: Default multi_class will be changed to 'auto' in 0.22. Specify the multi_class option to silence this warning.\n",
      "  \"this warning.\", FutureWarning)\n"
     ]
    },
    {
     "name": "stdout",
     "output_type": "stream",
     "text": [
      "Number of components in PCA: 11\n",
      "Train accuracy score:0.7959\n",
      "Test accuracy score:0.7772\n",
      "Execution time: 4.068176746368408 seconds\n"
     ]
    },
    {
     "name": "stderr",
     "output_type": "stream",
     "text": [
      "C:\\ProgramData\\Anaconda3\\lib\\site-packages\\sklearn\\linear_model\\logistic.py:432: FutureWarning: Default solver will be changed to 'lbfgs' in 0.22. Specify a solver to silence this warning.\n",
      "  FutureWarning)\n",
      "C:\\ProgramData\\Anaconda3\\lib\\site-packages\\sklearn\\linear_model\\logistic.py:469: FutureWarning: Default multi_class will be changed to 'auto' in 0.22. Specify the multi_class option to silence this warning.\n",
      "  \"this warning.\", FutureWarning)\n"
     ]
    },
    {
     "name": "stdout",
     "output_type": "stream",
     "text": [
      "Number of components in PCA: 12\n",
      "Train accuracy score:0.8122\n",
      "Test accuracy score:0.7983\n",
      "Execution time: 3.909156322479248 seconds\n"
     ]
    },
    {
     "name": "stderr",
     "output_type": "stream",
     "text": [
      "C:\\ProgramData\\Anaconda3\\lib\\site-packages\\sklearn\\linear_model\\logistic.py:432: FutureWarning: Default solver will be changed to 'lbfgs' in 0.22. Specify a solver to silence this warning.\n",
      "  FutureWarning)\n",
      "C:\\ProgramData\\Anaconda3\\lib\\site-packages\\sklearn\\linear_model\\logistic.py:469: FutureWarning: Default multi_class will be changed to 'auto' in 0.22. Specify the multi_class option to silence this warning.\n",
      "  \"this warning.\", FutureWarning)\n"
     ]
    },
    {
     "name": "stdout",
     "output_type": "stream",
     "text": [
      "Number of components in PCA: 13\n",
      "Train accuracy score:0.8351\n",
      "Test accuracy score:0.8345\n",
      "Execution time: 3.9327890872955322 seconds\n"
     ]
    },
    {
     "name": "stderr",
     "output_type": "stream",
     "text": [
      "C:\\ProgramData\\Anaconda3\\lib\\site-packages\\sklearn\\linear_model\\logistic.py:432: FutureWarning: Default solver will be changed to 'lbfgs' in 0.22. Specify a solver to silence this warning.\n",
      "  FutureWarning)\n",
      "C:\\ProgramData\\Anaconda3\\lib\\site-packages\\sklearn\\linear_model\\logistic.py:469: FutureWarning: Default multi_class will be changed to 'auto' in 0.22. Specify the multi_class option to silence this warning.\n",
      "  \"this warning.\", FutureWarning)\n"
     ]
    },
    {
     "name": "stdout",
     "output_type": "stream",
     "text": [
      "Number of components in PCA: 14\n",
      "Train accuracy score:0.8509\n",
      "Test accuracy score:0.8447\n",
      "Execution time: 3.748504638671875 seconds\n"
     ]
    },
    {
     "name": "stderr",
     "output_type": "stream",
     "text": [
      "C:\\ProgramData\\Anaconda3\\lib\\site-packages\\sklearn\\linear_model\\logistic.py:432: FutureWarning: Default solver will be changed to 'lbfgs' in 0.22. Specify a solver to silence this warning.\n",
      "  FutureWarning)\n",
      "C:\\ProgramData\\Anaconda3\\lib\\site-packages\\sklearn\\linear_model\\logistic.py:469: FutureWarning: Default multi_class will be changed to 'auto' in 0.22. Specify the multi_class option to silence this warning.\n",
      "  \"this warning.\", FutureWarning)\n"
     ]
    },
    {
     "name": "stdout",
     "output_type": "stream",
     "text": [
      "Number of components in PCA: 15\n",
      "Train accuracy score:0.8520\n",
      "Test accuracy score:0.8447\n",
      "Execution time: 4.278586149215698 seconds\n"
     ]
    },
    {
     "name": "stderr",
     "output_type": "stream",
     "text": [
      "C:\\ProgramData\\Anaconda3\\lib\\site-packages\\sklearn\\linear_model\\logistic.py:432: FutureWarning: Default solver will be changed to 'lbfgs' in 0.22. Specify a solver to silence this warning.\n",
      "  FutureWarning)\n",
      "C:\\ProgramData\\Anaconda3\\lib\\site-packages\\sklearn\\linear_model\\logistic.py:469: FutureWarning: Default multi_class will be changed to 'auto' in 0.22. Specify the multi_class option to silence this warning.\n",
      "  \"this warning.\", FutureWarning)\n"
     ]
    },
    {
     "name": "stdout",
     "output_type": "stream",
     "text": [
      "Number of components in PCA: 16\n",
      "Train accuracy score:0.8636\n",
      "Test accuracy score:0.8520\n",
      "Execution time: 4.027500152587891 seconds\n"
     ]
    },
    {
     "name": "stderr",
     "output_type": "stream",
     "text": [
      "C:\\ProgramData\\Anaconda3\\lib\\site-packages\\sklearn\\linear_model\\logistic.py:432: FutureWarning: Default solver will be changed to 'lbfgs' in 0.22. Specify a solver to silence this warning.\n",
      "  FutureWarning)\n",
      "C:\\ProgramData\\Anaconda3\\lib\\site-packages\\sklearn\\linear_model\\logistic.py:469: FutureWarning: Default multi_class will be changed to 'auto' in 0.22. Specify the multi_class option to silence this warning.\n",
      "  \"this warning.\", FutureWarning)\n"
     ]
    },
    {
     "name": "stdout",
     "output_type": "stream",
     "text": [
      "Number of components in PCA: 17\n",
      "Train accuracy score:0.8708\n",
      "Test accuracy score:0.8687\n",
      "Execution time: 3.943619966506958 seconds\n"
     ]
    },
    {
     "name": "stderr",
     "output_type": "stream",
     "text": [
      "C:\\ProgramData\\Anaconda3\\lib\\site-packages\\sklearn\\linear_model\\logistic.py:432: FutureWarning: Default solver will be changed to 'lbfgs' in 0.22. Specify a solver to silence this warning.\n",
      "  FutureWarning)\n",
      "C:\\ProgramData\\Anaconda3\\lib\\site-packages\\sklearn\\linear_model\\logistic.py:469: FutureWarning: Default multi_class will be changed to 'auto' in 0.22. Specify the multi_class option to silence this warning.\n",
      "  \"this warning.\", FutureWarning)\n"
     ]
    },
    {
     "name": "stdout",
     "output_type": "stream",
     "text": [
      "Number of components in PCA: 18\n",
      "Train accuracy score:0.8797\n",
      "Test accuracy score:0.8708\n",
      "Execution time: 3.98419451713562 seconds\n"
     ]
    },
    {
     "name": "stderr",
     "output_type": "stream",
     "text": [
      "C:\\ProgramData\\Anaconda3\\lib\\site-packages\\sklearn\\linear_model\\logistic.py:432: FutureWarning: Default solver will be changed to 'lbfgs' in 0.22. Specify a solver to silence this warning.\n",
      "  FutureWarning)\n",
      "C:\\ProgramData\\Anaconda3\\lib\\site-packages\\sklearn\\linear_model\\logistic.py:469: FutureWarning: Default multi_class will be changed to 'auto' in 0.22. Specify the multi_class option to silence this warning.\n",
      "  \"this warning.\", FutureWarning)\n"
     ]
    },
    {
     "name": "stdout",
     "output_type": "stream",
     "text": [
      "Number of components in PCA: 19\n",
      "Train accuracy score:0.8830\n",
      "Test accuracy score:0.8759\n",
      "Execution time: 4.514854192733765 seconds\n"
     ]
    },
    {
     "name": "stderr",
     "output_type": "stream",
     "text": [
      "C:\\ProgramData\\Anaconda3\\lib\\site-packages\\sklearn\\linear_model\\logistic.py:432: FutureWarning: Default solver will be changed to 'lbfgs' in 0.22. Specify a solver to silence this warning.\n",
      "  FutureWarning)\n",
      "C:\\ProgramData\\Anaconda3\\lib\\site-packages\\sklearn\\linear_model\\logistic.py:469: FutureWarning: Default multi_class will be changed to 'auto' in 0.22. Specify the multi_class option to silence this warning.\n",
      "  \"this warning.\", FutureWarning)\n"
     ]
    },
    {
     "name": "stdout",
     "output_type": "stream",
     "text": [
      "Number of components in PCA: 20\n",
      "Train accuracy score:0.8877\n",
      "Test accuracy score:0.8752\n",
      "Execution time: 4.1269309520721436 seconds\n"
     ]
    },
    {
     "name": "stderr",
     "output_type": "stream",
     "text": [
      "C:\\ProgramData\\Anaconda3\\lib\\site-packages\\sklearn\\linear_model\\logistic.py:432: FutureWarning: Default solver will be changed to 'lbfgs' in 0.22. Specify a solver to silence this warning.\n",
      "  FutureWarning)\n",
      "C:\\ProgramData\\Anaconda3\\lib\\site-packages\\sklearn\\linear_model\\logistic.py:469: FutureWarning: Default multi_class will be changed to 'auto' in 0.22. Specify the multi_class option to silence this warning.\n",
      "  \"this warning.\", FutureWarning)\n"
     ]
    },
    {
     "name": "stdout",
     "output_type": "stream",
     "text": [
      "Number of components in PCA: 21\n",
      "Train accuracy score:0.8948\n",
      "Test accuracy score:0.8839\n",
      "Execution time: 4.412090301513672 seconds\n"
     ]
    },
    {
     "name": "stderr",
     "output_type": "stream",
     "text": [
      "C:\\ProgramData\\Anaconda3\\lib\\site-packages\\sklearn\\linear_model\\logistic.py:432: FutureWarning: Default solver will be changed to 'lbfgs' in 0.22. Specify a solver to silence this warning.\n",
      "  FutureWarning)\n",
      "C:\\ProgramData\\Anaconda3\\lib\\site-packages\\sklearn\\linear_model\\logistic.py:469: FutureWarning: Default multi_class will be changed to 'auto' in 0.22. Specify the multi_class option to silence this warning.\n",
      "  \"this warning.\", FutureWarning)\n"
     ]
    },
    {
     "name": "stdout",
     "output_type": "stream",
     "text": [
      "Number of components in PCA: 22\n",
      "Train accuracy score:0.9080\n",
      "Test accuracy score:0.8991\n",
      "Execution time: 4.469105958938599 seconds\n"
     ]
    },
    {
     "name": "stderr",
     "output_type": "stream",
     "text": [
      "C:\\ProgramData\\Anaconda3\\lib\\site-packages\\sklearn\\linear_model\\logistic.py:432: FutureWarning: Default solver will be changed to 'lbfgs' in 0.22. Specify a solver to silence this warning.\n",
      "  FutureWarning)\n",
      "C:\\ProgramData\\Anaconda3\\lib\\site-packages\\sklearn\\linear_model\\logistic.py:469: FutureWarning: Default multi_class will be changed to 'auto' in 0.22. Specify the multi_class option to silence this warning.\n",
      "  \"this warning.\", FutureWarning)\n"
     ]
    },
    {
     "name": "stdout",
     "output_type": "stream",
     "text": [
      "Number of components in PCA: 23\n",
      "Train accuracy score:0.9153\n",
      "Test accuracy score:0.9093\n",
      "Execution time: 4.233374118804932 seconds\n"
     ]
    },
    {
     "name": "stderr",
     "output_type": "stream",
     "text": [
      "C:\\ProgramData\\Anaconda3\\lib\\site-packages\\sklearn\\linear_model\\logistic.py:432: FutureWarning: Default solver will be changed to 'lbfgs' in 0.22. Specify a solver to silence this warning.\n",
      "  FutureWarning)\n",
      "C:\\ProgramData\\Anaconda3\\lib\\site-packages\\sklearn\\linear_model\\logistic.py:469: FutureWarning: Default multi_class will be changed to 'auto' in 0.22. Specify the multi_class option to silence this warning.\n",
      "  \"this warning.\", FutureWarning)\n"
     ]
    },
    {
     "name": "stdout",
     "output_type": "stream",
     "text": [
      "Number of components in PCA: 24\n",
      "Train accuracy score:0.9202\n",
      "Test accuracy score:0.9151\n",
      "Execution time: 4.084970712661743 seconds\n"
     ]
    },
    {
     "name": "stderr",
     "output_type": "stream",
     "text": [
      "C:\\ProgramData\\Anaconda3\\lib\\site-packages\\sklearn\\linear_model\\logistic.py:432: FutureWarning: Default solver will be changed to 'lbfgs' in 0.22. Specify a solver to silence this warning.\n",
      "  FutureWarning)\n",
      "C:\\ProgramData\\Anaconda3\\lib\\site-packages\\sklearn\\linear_model\\logistic.py:469: FutureWarning: Default multi_class will be changed to 'auto' in 0.22. Specify the multi_class option to silence this warning.\n",
      "  \"this warning.\", FutureWarning)\n"
     ]
    },
    {
     "name": "stdout",
     "output_type": "stream",
     "text": [
      "Number of components in PCA: 25\n",
      "Train accuracy score:0.9271\n",
      "Test accuracy score:0.9187\n",
      "Execution time: 4.108343839645386 seconds\n"
     ]
    },
    {
     "name": "stderr",
     "output_type": "stream",
     "text": [
      "C:\\ProgramData\\Anaconda3\\lib\\site-packages\\sklearn\\linear_model\\logistic.py:432: FutureWarning: Default solver will be changed to 'lbfgs' in 0.22. Specify a solver to silence this warning.\n",
      "  FutureWarning)\n",
      "C:\\ProgramData\\Anaconda3\\lib\\site-packages\\sklearn\\linear_model\\logistic.py:469: FutureWarning: Default multi_class will be changed to 'auto' in 0.22. Specify the multi_class option to silence this warning.\n",
      "  \"this warning.\", FutureWarning)\n"
     ]
    },
    {
     "name": "stdout",
     "output_type": "stream",
     "text": [
      "Number of components in PCA: 26\n",
      "Train accuracy score:0.9323\n",
      "Test accuracy score:0.9325\n",
      "Execution time: 4.3485188484191895 seconds\n"
     ]
    },
    {
     "name": "stderr",
     "output_type": "stream",
     "text": [
      "C:\\ProgramData\\Anaconda3\\lib\\site-packages\\sklearn\\linear_model\\logistic.py:432: FutureWarning: Default solver will be changed to 'lbfgs' in 0.22. Specify a solver to silence this warning.\n",
      "  FutureWarning)\n",
      "C:\\ProgramData\\Anaconda3\\lib\\site-packages\\sklearn\\linear_model\\logistic.py:469: FutureWarning: Default multi_class will be changed to 'auto' in 0.22. Specify the multi_class option to silence this warning.\n",
      "  \"this warning.\", FutureWarning)\n"
     ]
    },
    {
     "name": "stdout",
     "output_type": "stream",
     "text": [
      "Number of components in PCA: 27\n",
      "Train accuracy score:0.9352\n",
      "Test accuracy score:0.9311\n",
      "Execution time: 4.165803909301758 seconds\n"
     ]
    },
    {
     "name": "stderr",
     "output_type": "stream",
     "text": [
      "C:\\ProgramData\\Anaconda3\\lib\\site-packages\\sklearn\\linear_model\\logistic.py:432: FutureWarning: Default solver will be changed to 'lbfgs' in 0.22. Specify a solver to silence this warning.\n",
      "  FutureWarning)\n",
      "C:\\ProgramData\\Anaconda3\\lib\\site-packages\\sklearn\\linear_model\\logistic.py:469: FutureWarning: Default multi_class will be changed to 'auto' in 0.22. Specify the multi_class option to silence this warning.\n",
      "  \"this warning.\", FutureWarning)\n"
     ]
    },
    {
     "name": "stdout",
     "output_type": "stream",
     "text": [
      "Number of components in PCA: 28\n",
      "Train accuracy score:0.9392\n",
      "Test accuracy score:0.9354\n",
      "Execution time: 4.21422815322876 seconds\n"
     ]
    },
    {
     "name": "stderr",
     "output_type": "stream",
     "text": [
      "C:\\ProgramData\\Anaconda3\\lib\\site-packages\\sklearn\\linear_model\\logistic.py:432: FutureWarning: Default solver will be changed to 'lbfgs' in 0.22. Specify a solver to silence this warning.\n",
      "  FutureWarning)\n",
      "C:\\ProgramData\\Anaconda3\\lib\\site-packages\\sklearn\\linear_model\\logistic.py:469: FutureWarning: Default multi_class will be changed to 'auto' in 0.22. Specify the multi_class option to silence this warning.\n",
      "  \"this warning.\", FutureWarning)\n"
     ]
    },
    {
     "name": "stdout",
     "output_type": "stream",
     "text": [
      "Number of components in PCA: 29\n",
      "Train accuracy score:0.9381\n",
      "Test accuracy score:0.9311\n",
      "Execution time: 4.3138039112091064 seconds\n"
     ]
    },
    {
     "name": "stderr",
     "output_type": "stream",
     "text": [
      "C:\\ProgramData\\Anaconda3\\lib\\site-packages\\sklearn\\linear_model\\logistic.py:432: FutureWarning: Default solver will be changed to 'lbfgs' in 0.22. Specify a solver to silence this warning.\n",
      "  FutureWarning)\n",
      "C:\\ProgramData\\Anaconda3\\lib\\site-packages\\sklearn\\linear_model\\logistic.py:469: FutureWarning: Default multi_class will be changed to 'auto' in 0.22. Specify the multi_class option to silence this warning.\n",
      "  \"this warning.\", FutureWarning)\n"
     ]
    },
    {
     "name": "stdout",
     "output_type": "stream",
     "text": [
      "Number of components in PCA: 30\n",
      "Train accuracy score:0.9401\n",
      "Test accuracy score:0.9325\n",
      "Execution time: 4.907262086868286 seconds\n"
     ]
    },
    {
     "name": "stderr",
     "output_type": "stream",
     "text": [
      "C:\\ProgramData\\Anaconda3\\lib\\site-packages\\sklearn\\linear_model\\logistic.py:432: FutureWarning: Default solver will be changed to 'lbfgs' in 0.22. Specify a solver to silence this warning.\n",
      "  FutureWarning)\n",
      "C:\\ProgramData\\Anaconda3\\lib\\site-packages\\sklearn\\linear_model\\logistic.py:469: FutureWarning: Default multi_class will be changed to 'auto' in 0.22. Specify the multi_class option to silence this warning.\n",
      "  \"this warning.\", FutureWarning)\n"
     ]
    },
    {
     "name": "stdout",
     "output_type": "stream",
     "text": [
      "Number of components in PCA: 31\n",
      "Train accuracy score:0.9418\n",
      "Test accuracy score:0.9332\n",
      "Execution time: 5.282206773757935 seconds\n"
     ]
    },
    {
     "name": "stderr",
     "output_type": "stream",
     "text": [
      "C:\\ProgramData\\Anaconda3\\lib\\site-packages\\sklearn\\linear_model\\logistic.py:432: FutureWarning: Default solver will be changed to 'lbfgs' in 0.22. Specify a solver to silence this warning.\n",
      "  FutureWarning)\n",
      "C:\\ProgramData\\Anaconda3\\lib\\site-packages\\sklearn\\linear_model\\logistic.py:469: FutureWarning: Default multi_class will be changed to 'auto' in 0.22. Specify the multi_class option to silence this warning.\n",
      "  \"this warning.\", FutureWarning)\n"
     ]
    },
    {
     "name": "stdout",
     "output_type": "stream",
     "text": [
      "Number of components in PCA: 32\n",
      "Train accuracy score:0.9429\n",
      "Test accuracy score:0.9347\n",
      "Execution time: 4.646500110626221 seconds\n"
     ]
    },
    {
     "name": "stderr",
     "output_type": "stream",
     "text": [
      "C:\\ProgramData\\Anaconda3\\lib\\site-packages\\sklearn\\linear_model\\logistic.py:432: FutureWarning: Default solver will be changed to 'lbfgs' in 0.22. Specify a solver to silence this warning.\n",
      "  FutureWarning)\n",
      "C:\\ProgramData\\Anaconda3\\lib\\site-packages\\sklearn\\linear_model\\logistic.py:469: FutureWarning: Default multi_class will be changed to 'auto' in 0.22. Specify the multi_class option to silence this warning.\n",
      "  \"this warning.\", FutureWarning)\n"
     ]
    },
    {
     "name": "stdout",
     "output_type": "stream",
     "text": [
      "Number of components in PCA: 33\n",
      "Train accuracy score:0.9436\n",
      "Test accuracy score:0.9332\n",
      "Execution time: 4.733567953109741 seconds\n"
     ]
    },
    {
     "name": "stderr",
     "output_type": "stream",
     "text": [
      "C:\\ProgramData\\Anaconda3\\lib\\site-packages\\sklearn\\linear_model\\logistic.py:432: FutureWarning: Default solver will be changed to 'lbfgs' in 0.22. Specify a solver to silence this warning.\n",
      "  FutureWarning)\n",
      "C:\\ProgramData\\Anaconda3\\lib\\site-packages\\sklearn\\linear_model\\logistic.py:469: FutureWarning: Default multi_class will be changed to 'auto' in 0.22. Specify the multi_class option to silence this warning.\n",
      "  \"this warning.\", FutureWarning)\n"
     ]
    },
    {
     "name": "stdout",
     "output_type": "stream",
     "text": [
      "Number of components in PCA: 34\n",
      "Train accuracy score:0.9478\n",
      "Test accuracy score:0.9405\n",
      "Execution time: 4.853472709655762 seconds\n"
     ]
    },
    {
     "name": "stderr",
     "output_type": "stream",
     "text": [
      "C:\\ProgramData\\Anaconda3\\lib\\site-packages\\sklearn\\linear_model\\logistic.py:432: FutureWarning: Default solver will be changed to 'lbfgs' in 0.22. Specify a solver to silence this warning.\n",
      "  FutureWarning)\n",
      "C:\\ProgramData\\Anaconda3\\lib\\site-packages\\sklearn\\linear_model\\logistic.py:469: FutureWarning: Default multi_class will be changed to 'auto' in 0.22. Specify the multi_class option to silence this warning.\n",
      "  \"this warning.\", FutureWarning)\n"
     ]
    },
    {
     "name": "stdout",
     "output_type": "stream",
     "text": [
      "Number of components in PCA: 35\n",
      "Train accuracy score:0.9470\n",
      "Test accuracy score:0.9369\n",
      "Execution time: 5.108039140701294 seconds\n"
     ]
    },
    {
     "name": "stderr",
     "output_type": "stream",
     "text": [
      "C:\\ProgramData\\Anaconda3\\lib\\site-packages\\sklearn\\linear_model\\logistic.py:432: FutureWarning: Default solver will be changed to 'lbfgs' in 0.22. Specify a solver to silence this warning.\n",
      "  FutureWarning)\n",
      "C:\\ProgramData\\Anaconda3\\lib\\site-packages\\sklearn\\linear_model\\logistic.py:469: FutureWarning: Default multi_class will be changed to 'auto' in 0.22. Specify the multi_class option to silence this warning.\n",
      "  \"this warning.\", FutureWarning)\n"
     ]
    },
    {
     "name": "stdout",
     "output_type": "stream",
     "text": [
      "Number of components in PCA: 36\n",
      "Train accuracy score:0.9485\n",
      "Test accuracy score:0.9325\n",
      "Execution time: 6.480629205703735 seconds\n"
     ]
    },
    {
     "name": "stderr",
     "output_type": "stream",
     "text": [
      "C:\\ProgramData\\Anaconda3\\lib\\site-packages\\sklearn\\linear_model\\logistic.py:432: FutureWarning: Default solver will be changed to 'lbfgs' in 0.22. Specify a solver to silence this warning.\n",
      "  FutureWarning)\n",
      "C:\\ProgramData\\Anaconda3\\lib\\site-packages\\sklearn\\linear_model\\logistic.py:469: FutureWarning: Default multi_class will be changed to 'auto' in 0.22. Specify the multi_class option to silence this warning.\n",
      "  \"this warning.\", FutureWarning)\n"
     ]
    },
    {
     "name": "stdout",
     "output_type": "stream",
     "text": [
      "Number of components in PCA: 37\n",
      "Train accuracy score:0.9530\n",
      "Test accuracy score:0.9376\n",
      "Execution time: 5.264986038208008 seconds\n"
     ]
    },
    {
     "name": "stderr",
     "output_type": "stream",
     "text": [
      "C:\\ProgramData\\Anaconda3\\lib\\site-packages\\sklearn\\linear_model\\logistic.py:432: FutureWarning: Default solver will be changed to 'lbfgs' in 0.22. Specify a solver to silence this warning.\n",
      "  FutureWarning)\n",
      "C:\\ProgramData\\Anaconda3\\lib\\site-packages\\sklearn\\linear_model\\logistic.py:469: FutureWarning: Default multi_class will be changed to 'auto' in 0.22. Specify the multi_class option to silence this warning.\n",
      "  \"this warning.\", FutureWarning)\n"
     ]
    },
    {
     "name": "stdout",
     "output_type": "stream",
     "text": [
      "Number of components in PCA: 38\n",
      "Train accuracy score:0.9545\n",
      "Test accuracy score:0.9340\n",
      "Execution time: 5.558457612991333 seconds\n"
     ]
    },
    {
     "name": "stderr",
     "output_type": "stream",
     "text": [
      "C:\\ProgramData\\Anaconda3\\lib\\site-packages\\sklearn\\linear_model\\logistic.py:432: FutureWarning: Default solver will be changed to 'lbfgs' in 0.22. Specify a solver to silence this warning.\n",
      "  FutureWarning)\n",
      "C:\\ProgramData\\Anaconda3\\lib\\site-packages\\sklearn\\linear_model\\logistic.py:469: FutureWarning: Default multi_class will be changed to 'auto' in 0.22. Specify the multi_class option to silence this warning.\n",
      "  \"this warning.\", FutureWarning)\n"
     ]
    },
    {
     "name": "stdout",
     "output_type": "stream",
     "text": [
      "Number of components in PCA: 39\n",
      "Train accuracy score:0.9559\n",
      "Test accuracy score:0.9412\n",
      "Execution time: 5.589322090148926 seconds\n"
     ]
    },
    {
     "name": "stderr",
     "output_type": "stream",
     "text": [
      "C:\\ProgramData\\Anaconda3\\lib\\site-packages\\sklearn\\linear_model\\logistic.py:432: FutureWarning: Default solver will be changed to 'lbfgs' in 0.22. Specify a solver to silence this warning.\n",
      "  FutureWarning)\n",
      "C:\\ProgramData\\Anaconda3\\lib\\site-packages\\sklearn\\linear_model\\logistic.py:469: FutureWarning: Default multi_class will be changed to 'auto' in 0.22. Specify the multi_class option to silence this warning.\n",
      "  \"this warning.\", FutureWarning)\n"
     ]
    },
    {
     "name": "stdout",
     "output_type": "stream",
     "text": [
      "Number of components in PCA: 40\n",
      "Train accuracy score:0.9601\n",
      "Test accuracy score:0.9463\n",
      "Execution time: 5.434731721878052 seconds\n"
     ]
    },
    {
     "name": "stderr",
     "output_type": "stream",
     "text": [
      "C:\\ProgramData\\Anaconda3\\lib\\site-packages\\sklearn\\linear_model\\logistic.py:432: FutureWarning: Default solver will be changed to 'lbfgs' in 0.22. Specify a solver to silence this warning.\n",
      "  FutureWarning)\n",
      "C:\\ProgramData\\Anaconda3\\lib\\site-packages\\sklearn\\linear_model\\logistic.py:469: FutureWarning: Default multi_class will be changed to 'auto' in 0.22. Specify the multi_class option to silence this warning.\n",
      "  \"this warning.\", FutureWarning)\n"
     ]
    },
    {
     "name": "stdout",
     "output_type": "stream",
     "text": [
      "Number of components in PCA: 41\n",
      "Train accuracy score:0.9637\n",
      "Test accuracy score:0.9536\n",
      "Execution time: 5.775060415267944 seconds\n"
     ]
    },
    {
     "name": "stderr",
     "output_type": "stream",
     "text": [
      "C:\\ProgramData\\Anaconda3\\lib\\site-packages\\sklearn\\linear_model\\logistic.py:432: FutureWarning: Default solver will be changed to 'lbfgs' in 0.22. Specify a solver to silence this warning.\n",
      "  FutureWarning)\n",
      "C:\\ProgramData\\Anaconda3\\lib\\site-packages\\sklearn\\linear_model\\logistic.py:469: FutureWarning: Default multi_class will be changed to 'auto' in 0.22. Specify the multi_class option to silence this warning.\n",
      "  \"this warning.\", FutureWarning)\n"
     ]
    },
    {
     "name": "stdout",
     "output_type": "stream",
     "text": [
      "Number of components in PCA: 42\n",
      "Train accuracy score:0.9650\n",
      "Test accuracy score:0.9550\n",
      "Execution time: 5.722614526748657 seconds\n"
     ]
    },
    {
     "name": "stderr",
     "output_type": "stream",
     "text": [
      "C:\\ProgramData\\Anaconda3\\lib\\site-packages\\sklearn\\linear_model\\logistic.py:432: FutureWarning: Default solver will be changed to 'lbfgs' in 0.22. Specify a solver to silence this warning.\n",
      "  FutureWarning)\n",
      "C:\\ProgramData\\Anaconda3\\lib\\site-packages\\sklearn\\linear_model\\logistic.py:469: FutureWarning: Default multi_class will be changed to 'auto' in 0.22. Specify the multi_class option to silence this warning.\n",
      "  \"this warning.\", FutureWarning)\n"
     ]
    },
    {
     "name": "stdout",
     "output_type": "stream",
     "text": [
      "Number of components in PCA: 43\n",
      "Train accuracy score:0.9650\n",
      "Test accuracy score:0.9543\n",
      "Execution time: 6.262594223022461 seconds\n"
     ]
    },
    {
     "name": "stderr",
     "output_type": "stream",
     "text": [
      "C:\\ProgramData\\Anaconda3\\lib\\site-packages\\sklearn\\linear_model\\logistic.py:432: FutureWarning: Default solver will be changed to 'lbfgs' in 0.22. Specify a solver to silence this warning.\n",
      "  FutureWarning)\n",
      "C:\\ProgramData\\Anaconda3\\lib\\site-packages\\sklearn\\linear_model\\logistic.py:469: FutureWarning: Default multi_class will be changed to 'auto' in 0.22. Specify the multi_class option to silence this warning.\n",
      "  \"this warning.\", FutureWarning)\n"
     ]
    },
    {
     "name": "stdout",
     "output_type": "stream",
     "text": [
      "Number of components in PCA: 44\n",
      "Train accuracy score:0.9663\n",
      "Test accuracy score:0.9565\n",
      "Execution time: 6.528268814086914 seconds\n"
     ]
    },
    {
     "name": "stderr",
     "output_type": "stream",
     "text": [
      "C:\\ProgramData\\Anaconda3\\lib\\site-packages\\sklearn\\linear_model\\logistic.py:432: FutureWarning: Default solver will be changed to 'lbfgs' in 0.22. Specify a solver to silence this warning.\n",
      "  FutureWarning)\n",
      "C:\\ProgramData\\Anaconda3\\lib\\site-packages\\sklearn\\linear_model\\logistic.py:469: FutureWarning: Default multi_class will be changed to 'auto' in 0.22. Specify the multi_class option to silence this warning.\n",
      "  \"this warning.\", FutureWarning)\n"
     ]
    },
    {
     "name": "stdout",
     "output_type": "stream",
     "text": [
      "Number of components in PCA: 45\n",
      "Train accuracy score:0.9673\n",
      "Test accuracy score:0.9623\n",
      "Execution time: 6.3674867153167725 seconds\n"
     ]
    },
    {
     "name": "stderr",
     "output_type": "stream",
     "text": [
      "C:\\ProgramData\\Anaconda3\\lib\\site-packages\\sklearn\\linear_model\\logistic.py:432: FutureWarning: Default solver will be changed to 'lbfgs' in 0.22. Specify a solver to silence this warning.\n",
      "  FutureWarning)\n",
      "C:\\ProgramData\\Anaconda3\\lib\\site-packages\\sklearn\\linear_model\\logistic.py:469: FutureWarning: Default multi_class will be changed to 'auto' in 0.22. Specify the multi_class option to silence this warning.\n",
      "  \"this warning.\", FutureWarning)\n"
     ]
    },
    {
     "name": "stdout",
     "output_type": "stream",
     "text": [
      "Number of components in PCA: 46\n",
      "Train accuracy score:0.9686\n",
      "Test accuracy score:0.9608\n",
      "Execution time: 6.38777494430542 seconds\n"
     ]
    },
    {
     "name": "stderr",
     "output_type": "stream",
     "text": [
      "C:\\ProgramData\\Anaconda3\\lib\\site-packages\\sklearn\\linear_model\\logistic.py:432: FutureWarning: Default solver will be changed to 'lbfgs' in 0.22. Specify a solver to silence this warning.\n",
      "  FutureWarning)\n",
      "C:\\ProgramData\\Anaconda3\\lib\\site-packages\\sklearn\\linear_model\\logistic.py:469: FutureWarning: Default multi_class will be changed to 'auto' in 0.22. Specify the multi_class option to silence this warning.\n",
      "  \"this warning.\", FutureWarning)\n"
     ]
    },
    {
     "name": "stdout",
     "output_type": "stream",
     "text": [
      "Number of components in PCA: 47\n",
      "Train accuracy score:0.9708\n",
      "Test accuracy score:0.9637\n",
      "Execution time: 5.967829704284668 seconds\n"
     ]
    },
    {
     "name": "stderr",
     "output_type": "stream",
     "text": [
      "C:\\ProgramData\\Anaconda3\\lib\\site-packages\\sklearn\\linear_model\\logistic.py:432: FutureWarning: Default solver will be changed to 'lbfgs' in 0.22. Specify a solver to silence this warning.\n",
      "  FutureWarning)\n",
      "C:\\ProgramData\\Anaconda3\\lib\\site-packages\\sklearn\\linear_model\\logistic.py:469: FutureWarning: Default multi_class will be changed to 'auto' in 0.22. Specify the multi_class option to silence this warning.\n",
      "  \"this warning.\", FutureWarning)\n"
     ]
    },
    {
     "name": "stdout",
     "output_type": "stream",
     "text": [
      "Number of components in PCA: 48\n",
      "Train accuracy score:0.9713\n",
      "Test accuracy score:0.9659\n",
      "Execution time: 5.742128133773804 seconds\n"
     ]
    },
    {
     "name": "stderr",
     "output_type": "stream",
     "text": [
      "C:\\ProgramData\\Anaconda3\\lib\\site-packages\\sklearn\\linear_model\\logistic.py:432: FutureWarning: Default solver will be changed to 'lbfgs' in 0.22. Specify a solver to silence this warning.\n",
      "  FutureWarning)\n",
      "C:\\ProgramData\\Anaconda3\\lib\\site-packages\\sklearn\\linear_model\\logistic.py:469: FutureWarning: Default multi_class will be changed to 'auto' in 0.22. Specify the multi_class option to silence this warning.\n",
      "  \"this warning.\", FutureWarning)\n"
     ]
    },
    {
     "name": "stdout",
     "output_type": "stream",
     "text": [
      "Number of components in PCA: 49\n",
      "Train accuracy score:0.9713\n",
      "Test accuracy score:0.9637\n",
      "Execution time: 6.035276174545288 seconds\n"
     ]
    },
    {
     "name": "stderr",
     "output_type": "stream",
     "text": [
      "C:\\ProgramData\\Anaconda3\\lib\\site-packages\\sklearn\\linear_model\\logistic.py:432: FutureWarning: Default solver will be changed to 'lbfgs' in 0.22. Specify a solver to silence this warning.\n",
      "  FutureWarning)\n",
      "C:\\ProgramData\\Anaconda3\\lib\\site-packages\\sklearn\\linear_model\\logistic.py:469: FutureWarning: Default multi_class will be changed to 'auto' in 0.22. Specify the multi_class option to silence this warning.\n",
      "  \"this warning.\", FutureWarning)\n"
     ]
    },
    {
     "name": "stdout",
     "output_type": "stream",
     "text": [
      "Number of components in PCA: 50\n",
      "Train accuracy score:0.9715\n",
      "Test accuracy score:0.9659\n",
      "Execution time: 6.351434946060181 seconds\n"
     ]
    },
    {
     "name": "stderr",
     "output_type": "stream",
     "text": [
      "C:\\ProgramData\\Anaconda3\\lib\\site-packages\\sklearn\\linear_model\\logistic.py:432: FutureWarning: Default solver will be changed to 'lbfgs' in 0.22. Specify a solver to silence this warning.\n",
      "  FutureWarning)\n",
      "C:\\ProgramData\\Anaconda3\\lib\\site-packages\\sklearn\\linear_model\\logistic.py:469: FutureWarning: Default multi_class will be changed to 'auto' in 0.22. Specify the multi_class option to silence this warning.\n",
      "  \"this warning.\", FutureWarning)\n"
     ]
    },
    {
     "name": "stdout",
     "output_type": "stream",
     "text": [
      "Number of components in PCA: 51\n",
      "Train accuracy score:0.9704\n",
      "Test accuracy score:0.9681\n",
      "Execution time: 6.653677225112915 seconds\n"
     ]
    },
    {
     "name": "stderr",
     "output_type": "stream",
     "text": [
      "C:\\ProgramData\\Anaconda3\\lib\\site-packages\\sklearn\\linear_model\\logistic.py:432: FutureWarning: Default solver will be changed to 'lbfgs' in 0.22. Specify a solver to silence this warning.\n",
      "  FutureWarning)\n",
      "C:\\ProgramData\\Anaconda3\\lib\\site-packages\\sklearn\\linear_model\\logistic.py:469: FutureWarning: Default multi_class will be changed to 'auto' in 0.22. Specify the multi_class option to silence this warning.\n",
      "  \"this warning.\", FutureWarning)\n"
     ]
    },
    {
     "name": "stdout",
     "output_type": "stream",
     "text": [
      "Number of components in PCA: 52\n",
      "Train accuracy score:0.9710\n",
      "Test accuracy score:0.9673\n",
      "Execution time: 7.011995077133179 seconds\n"
     ]
    },
    {
     "name": "stderr",
     "output_type": "stream",
     "text": [
      "C:\\ProgramData\\Anaconda3\\lib\\site-packages\\sklearn\\linear_model\\logistic.py:432: FutureWarning: Default solver will be changed to 'lbfgs' in 0.22. Specify a solver to silence this warning.\n",
      "  FutureWarning)\n",
      "C:\\ProgramData\\Anaconda3\\lib\\site-packages\\sklearn\\linear_model\\logistic.py:469: FutureWarning: Default multi_class will be changed to 'auto' in 0.22. Specify the multi_class option to silence this warning.\n",
      "  \"this warning.\", FutureWarning)\n"
     ]
    },
    {
     "name": "stdout",
     "output_type": "stream",
     "text": [
      "Number of components in PCA: 53\n",
      "Train accuracy score:0.9710\n",
      "Test accuracy score:0.9702\n",
      "Execution time: 6.3538103103637695 seconds\n"
     ]
    },
    {
     "name": "stderr",
     "output_type": "stream",
     "text": [
      "C:\\ProgramData\\Anaconda3\\lib\\site-packages\\sklearn\\linear_model\\logistic.py:432: FutureWarning: Default solver will be changed to 'lbfgs' in 0.22. Specify a solver to silence this warning.\n",
      "  FutureWarning)\n",
      "C:\\ProgramData\\Anaconda3\\lib\\site-packages\\sklearn\\linear_model\\logistic.py:469: FutureWarning: Default multi_class will be changed to 'auto' in 0.22. Specify the multi_class option to silence this warning.\n",
      "  \"this warning.\", FutureWarning)\n"
     ]
    },
    {
     "name": "stdout",
     "output_type": "stream",
     "text": [
      "Number of components in PCA: 54\n",
      "Train accuracy score:0.9724\n",
      "Test accuracy score:0.9717\n",
      "Execution time: 5.990912675857544 seconds\n"
     ]
    },
    {
     "name": "stderr",
     "output_type": "stream",
     "text": [
      "C:\\ProgramData\\Anaconda3\\lib\\site-packages\\sklearn\\linear_model\\logistic.py:432: FutureWarning: Default solver will be changed to 'lbfgs' in 0.22. Specify a solver to silence this warning.\n",
      "  FutureWarning)\n",
      "C:\\ProgramData\\Anaconda3\\lib\\site-packages\\sklearn\\linear_model\\logistic.py:469: FutureWarning: Default multi_class will be changed to 'auto' in 0.22. Specify the multi_class option to silence this warning.\n",
      "  \"this warning.\", FutureWarning)\n"
     ]
    },
    {
     "name": "stdout",
     "output_type": "stream",
     "text": [
      "Number of components in PCA: 55\n",
      "Train accuracy score:0.9728\n",
      "Test accuracy score:0.9695\n",
      "Execution time: 6.310037851333618 seconds\n"
     ]
    },
    {
     "name": "stderr",
     "output_type": "stream",
     "text": [
      "C:\\ProgramData\\Anaconda3\\lib\\site-packages\\sklearn\\linear_model\\logistic.py:432: FutureWarning: Default solver will be changed to 'lbfgs' in 0.22. Specify a solver to silence this warning.\n",
      "  FutureWarning)\n",
      "C:\\ProgramData\\Anaconda3\\lib\\site-packages\\sklearn\\linear_model\\logistic.py:469: FutureWarning: Default multi_class will be changed to 'auto' in 0.22. Specify the multi_class option to silence this warning.\n",
      "  \"this warning.\", FutureWarning)\n"
     ]
    },
    {
     "name": "stdout",
     "output_type": "stream",
     "text": [
      "Number of components in PCA: 56\n",
      "Train accuracy score:0.9751\n",
      "Test accuracy score:0.9681\n",
      "Execution time: 6.003825426101685 seconds\n"
     ]
    },
    {
     "name": "stderr",
     "output_type": "stream",
     "text": [
      "C:\\ProgramData\\Anaconda3\\lib\\site-packages\\sklearn\\linear_model\\logistic.py:432: FutureWarning: Default solver will be changed to 'lbfgs' in 0.22. Specify a solver to silence this warning.\n",
      "  FutureWarning)\n",
      "C:\\ProgramData\\Anaconda3\\lib\\site-packages\\sklearn\\linear_model\\logistic.py:469: FutureWarning: Default multi_class will be changed to 'auto' in 0.22. Specify the multi_class option to silence this warning.\n",
      "  \"this warning.\", FutureWarning)\n"
     ]
    },
    {
     "name": "stdout",
     "output_type": "stream",
     "text": [
      "Number of components in PCA: 57\n",
      "Train accuracy score:0.9750\n",
      "Test accuracy score:0.9702\n",
      "Execution time: 6.685807704925537 seconds\n"
     ]
    },
    {
     "name": "stderr",
     "output_type": "stream",
     "text": [
      "C:\\ProgramData\\Anaconda3\\lib\\site-packages\\sklearn\\linear_model\\logistic.py:432: FutureWarning: Default solver will be changed to 'lbfgs' in 0.22. Specify a solver to silence this warning.\n",
      "  FutureWarning)\n",
      "C:\\ProgramData\\Anaconda3\\lib\\site-packages\\sklearn\\linear_model\\logistic.py:469: FutureWarning: Default multi_class will be changed to 'auto' in 0.22. Specify the multi_class option to silence this warning.\n",
      "  \"this warning.\", FutureWarning)\n"
     ]
    },
    {
     "name": "stdout",
     "output_type": "stream",
     "text": [
      "Number of components in PCA: 58\n",
      "Train accuracy score:0.9764\n",
      "Test accuracy score:0.9702\n",
      "Execution time: 6.192027807235718 seconds\n"
     ]
    },
    {
     "name": "stderr",
     "output_type": "stream",
     "text": [
      "C:\\ProgramData\\Anaconda3\\lib\\site-packages\\sklearn\\linear_model\\logistic.py:432: FutureWarning: Default solver will be changed to 'lbfgs' in 0.22. Specify a solver to silence this warning.\n",
      "  FutureWarning)\n",
      "C:\\ProgramData\\Anaconda3\\lib\\site-packages\\sklearn\\linear_model\\logistic.py:469: FutureWarning: Default multi_class will be changed to 'auto' in 0.22. Specify the multi_class option to silence this warning.\n",
      "  \"this warning.\", FutureWarning)\n"
     ]
    },
    {
     "name": "stdout",
     "output_type": "stream",
     "text": [
      "Number of components in PCA: 59\n",
      "Train accuracy score:0.9766\n",
      "Test accuracy score:0.9702\n",
      "Execution time: 6.753198146820068 seconds\n"
     ]
    },
    {
     "name": "stderr",
     "output_type": "stream",
     "text": [
      "C:\\ProgramData\\Anaconda3\\lib\\site-packages\\sklearn\\linear_model\\logistic.py:432: FutureWarning: Default solver will be changed to 'lbfgs' in 0.22. Specify a solver to silence this warning.\n",
      "  FutureWarning)\n",
      "C:\\ProgramData\\Anaconda3\\lib\\site-packages\\sklearn\\linear_model\\logistic.py:469: FutureWarning: Default multi_class will be changed to 'auto' in 0.22. Specify the multi_class option to silence this warning.\n",
      "  \"this warning.\", FutureWarning)\n"
     ]
    },
    {
     "name": "stdout",
     "output_type": "stream",
     "text": [
      "Number of components in PCA: 60\n",
      "Train accuracy score:0.9768\n",
      "Test accuracy score:0.9695\n",
      "Execution time: 7.2118284702301025 seconds\n"
     ]
    },
    {
     "name": "stderr",
     "output_type": "stream",
     "text": [
      "C:\\ProgramData\\Anaconda3\\lib\\site-packages\\sklearn\\linear_model\\logistic.py:432: FutureWarning: Default solver will be changed to 'lbfgs' in 0.22. Specify a solver to silence this warning.\n",
      "  FutureWarning)\n",
      "C:\\ProgramData\\Anaconda3\\lib\\site-packages\\sklearn\\linear_model\\logistic.py:469: FutureWarning: Default multi_class will be changed to 'auto' in 0.22. Specify the multi_class option to silence this warning.\n",
      "  \"this warning.\", FutureWarning)\n"
     ]
    },
    {
     "name": "stdout",
     "output_type": "stream",
     "text": [
      "Number of components in PCA: 61\n",
      "Train accuracy score:0.9770\n",
      "Test accuracy score:0.9688\n",
      "Execution time: 6.871532917022705 seconds\n"
     ]
    },
    {
     "name": "stderr",
     "output_type": "stream",
     "text": [
      "C:\\ProgramData\\Anaconda3\\lib\\site-packages\\sklearn\\linear_model\\logistic.py:432: FutureWarning: Default solver will be changed to 'lbfgs' in 0.22. Specify a solver to silence this warning.\n",
      "  FutureWarning)\n",
      "C:\\ProgramData\\Anaconda3\\lib\\site-packages\\sklearn\\linear_model\\logistic.py:469: FutureWarning: Default multi_class will be changed to 'auto' in 0.22. Specify the multi_class option to silence this warning.\n",
      "  \"this warning.\", FutureWarning)\n"
     ]
    },
    {
     "name": "stdout",
     "output_type": "stream",
     "text": [
      "Number of components in PCA: 62\n",
      "Train accuracy score:0.9768\n",
      "Test accuracy score:0.9710\n",
      "Execution time: 6.883404731750488 seconds\n"
     ]
    },
    {
     "name": "stderr",
     "output_type": "stream",
     "text": [
      "C:\\ProgramData\\Anaconda3\\lib\\site-packages\\sklearn\\linear_model\\logistic.py:432: FutureWarning: Default solver will be changed to 'lbfgs' in 0.22. Specify a solver to silence this warning.\n",
      "  FutureWarning)\n",
      "C:\\ProgramData\\Anaconda3\\lib\\site-packages\\sklearn\\linear_model\\logistic.py:469: FutureWarning: Default multi_class will be changed to 'auto' in 0.22. Specify the multi_class option to silence this warning.\n",
      "  \"this warning.\", FutureWarning)\n"
     ]
    },
    {
     "name": "stdout",
     "output_type": "stream",
     "text": [
      "Number of components in PCA: 63\n",
      "Train accuracy score:0.9780\n",
      "Test accuracy score:0.9695\n",
      "Execution time: 6.98332953453064 seconds\n"
     ]
    },
    {
     "name": "stderr",
     "output_type": "stream",
     "text": [
      "C:\\ProgramData\\Anaconda3\\lib\\site-packages\\sklearn\\linear_model\\logistic.py:432: FutureWarning: Default solver will be changed to 'lbfgs' in 0.22. Specify a solver to silence this warning.\n",
      "  FutureWarning)\n",
      "C:\\ProgramData\\Anaconda3\\lib\\site-packages\\sklearn\\linear_model\\logistic.py:469: FutureWarning: Default multi_class will be changed to 'auto' in 0.22. Specify the multi_class option to silence this warning.\n",
      "  \"this warning.\", FutureWarning)\n"
     ]
    },
    {
     "name": "stdout",
     "output_type": "stream",
     "text": [
      "Number of components in PCA: 64\n",
      "Train accuracy score:0.9788\n",
      "Test accuracy score:0.9710\n",
      "Execution time: 8.038428544998169 seconds\n"
     ]
    },
    {
     "name": "stderr",
     "output_type": "stream",
     "text": [
      "C:\\ProgramData\\Anaconda3\\lib\\site-packages\\sklearn\\linear_model\\logistic.py:432: FutureWarning: Default solver will be changed to 'lbfgs' in 0.22. Specify a solver to silence this warning.\n",
      "  FutureWarning)\n",
      "C:\\ProgramData\\Anaconda3\\lib\\site-packages\\sklearn\\linear_model\\logistic.py:469: FutureWarning: Default multi_class will be changed to 'auto' in 0.22. Specify the multi_class option to silence this warning.\n",
      "  \"this warning.\", FutureWarning)\n"
     ]
    },
    {
     "name": "stdout",
     "output_type": "stream",
     "text": [
      "Number of components in PCA: 65\n",
      "Train accuracy score:0.9788\n",
      "Test accuracy score:0.9717\n",
      "Execution time: 7.396320343017578 seconds\n"
     ]
    },
    {
     "name": "stderr",
     "output_type": "stream",
     "text": [
      "C:\\ProgramData\\Anaconda3\\lib\\site-packages\\sklearn\\linear_model\\logistic.py:432: FutureWarning: Default solver will be changed to 'lbfgs' in 0.22. Specify a solver to silence this warning.\n",
      "  FutureWarning)\n",
      "C:\\ProgramData\\Anaconda3\\lib\\site-packages\\sklearn\\linear_model\\logistic.py:469: FutureWarning: Default multi_class will be changed to 'auto' in 0.22. Specify the multi_class option to silence this warning.\n",
      "  \"this warning.\", FutureWarning)\n"
     ]
    },
    {
     "name": "stdout",
     "output_type": "stream",
     "text": [
      "Number of components in PCA: 66\n",
      "Train accuracy score:0.9795\n",
      "Test accuracy score:0.9731\n",
      "Execution time: 7.153144121170044 seconds\n"
     ]
    },
    {
     "name": "stderr",
     "output_type": "stream",
     "text": [
      "C:\\ProgramData\\Anaconda3\\lib\\site-packages\\sklearn\\linear_model\\logistic.py:432: FutureWarning: Default solver will be changed to 'lbfgs' in 0.22. Specify a solver to silence this warning.\n",
      "  FutureWarning)\n",
      "C:\\ProgramData\\Anaconda3\\lib\\site-packages\\sklearn\\linear_model\\logistic.py:469: FutureWarning: Default multi_class will be changed to 'auto' in 0.22. Specify the multi_class option to silence this warning.\n",
      "  \"this warning.\", FutureWarning)\n"
     ]
    },
    {
     "name": "stdout",
     "output_type": "stream",
     "text": [
      "Number of components in PCA: 67\n",
      "Train accuracy score:0.9804\n",
      "Test accuracy score:0.9775\n",
      "Execution time: 7.258229970932007 seconds\n"
     ]
    },
    {
     "name": "stderr",
     "output_type": "stream",
     "text": [
      "C:\\ProgramData\\Anaconda3\\lib\\site-packages\\sklearn\\linear_model\\logistic.py:432: FutureWarning: Default solver will be changed to 'lbfgs' in 0.22. Specify a solver to silence this warning.\n",
      "  FutureWarning)\n",
      "C:\\ProgramData\\Anaconda3\\lib\\site-packages\\sklearn\\linear_model\\logistic.py:469: FutureWarning: Default multi_class will be changed to 'auto' in 0.22. Specify the multi_class option to silence this warning.\n",
      "  \"this warning.\", FutureWarning)\n"
     ]
    },
    {
     "name": "stdout",
     "output_type": "stream",
     "text": [
      "Number of components in PCA: 68\n",
      "Train accuracy score:0.9811\n",
      "Test accuracy score:0.9797\n",
      "Execution time: 7.153634548187256 seconds\n"
     ]
    },
    {
     "name": "stderr",
     "output_type": "stream",
     "text": [
      "C:\\ProgramData\\Anaconda3\\lib\\site-packages\\sklearn\\linear_model\\logistic.py:432: FutureWarning: Default solver will be changed to 'lbfgs' in 0.22. Specify a solver to silence this warning.\n",
      "  FutureWarning)\n",
      "C:\\ProgramData\\Anaconda3\\lib\\site-packages\\sklearn\\linear_model\\logistic.py:469: FutureWarning: Default multi_class will be changed to 'auto' in 0.22. Specify the multi_class option to silence this warning.\n",
      "  \"this warning.\", FutureWarning)\n"
     ]
    },
    {
     "name": "stdout",
     "output_type": "stream",
     "text": [
      "Number of components in PCA: 69\n",
      "Train accuracy score:0.9815\n",
      "Test accuracy score:0.9782\n",
      "Execution time: 6.509470224380493 seconds\n"
     ]
    },
    {
     "name": "stderr",
     "output_type": "stream",
     "text": [
      "C:\\ProgramData\\Anaconda3\\lib\\site-packages\\sklearn\\linear_model\\logistic.py:432: FutureWarning: Default solver will be changed to 'lbfgs' in 0.22. Specify a solver to silence this warning.\n",
      "  FutureWarning)\n",
      "C:\\ProgramData\\Anaconda3\\lib\\site-packages\\sklearn\\linear_model\\logistic.py:469: FutureWarning: Default multi_class will be changed to 'auto' in 0.22. Specify the multi_class option to silence this warning.\n",
      "  \"this warning.\", FutureWarning)\n"
     ]
    },
    {
     "name": "stdout",
     "output_type": "stream",
     "text": [
      "Number of components in PCA: 70\n",
      "Train accuracy score:0.9820\n",
      "Test accuracy score:0.9797\n",
      "Execution time: 6.5458824634552 seconds\n"
     ]
    },
    {
     "name": "stderr",
     "output_type": "stream",
     "text": [
      "C:\\ProgramData\\Anaconda3\\lib\\site-packages\\sklearn\\linear_model\\logistic.py:432: FutureWarning: Default solver will be changed to 'lbfgs' in 0.22. Specify a solver to silence this warning.\n",
      "  FutureWarning)\n",
      "C:\\ProgramData\\Anaconda3\\lib\\site-packages\\sklearn\\linear_model\\logistic.py:469: FutureWarning: Default multi_class will be changed to 'auto' in 0.22. Specify the multi_class option to silence this warning.\n",
      "  \"this warning.\", FutureWarning)\n"
     ]
    },
    {
     "name": "stdout",
     "output_type": "stream",
     "text": [
      "Number of components in PCA: 71\n",
      "Train accuracy score:0.9819\n",
      "Test accuracy score:0.9797\n",
      "Execution time: 6.684767961502075 seconds\n"
     ]
    },
    {
     "name": "stderr",
     "output_type": "stream",
     "text": [
      "C:\\ProgramData\\Anaconda3\\lib\\site-packages\\sklearn\\linear_model\\logistic.py:432: FutureWarning: Default solver will be changed to 'lbfgs' in 0.22. Specify a solver to silence this warning.\n",
      "  FutureWarning)\n",
      "C:\\ProgramData\\Anaconda3\\lib\\site-packages\\sklearn\\linear_model\\logistic.py:469: FutureWarning: Default multi_class will be changed to 'auto' in 0.22. Specify the multi_class option to silence this warning.\n",
      "  \"this warning.\", FutureWarning)\n"
     ]
    },
    {
     "name": "stdout",
     "output_type": "stream",
     "text": [
      "Number of components in PCA: 72\n",
      "Train accuracy score:0.9828\n",
      "Test accuracy score:0.9797\n",
      "Execution time: 6.481274127960205 seconds\n"
     ]
    },
    {
     "name": "stderr",
     "output_type": "stream",
     "text": [
      "C:\\ProgramData\\Anaconda3\\lib\\site-packages\\sklearn\\linear_model\\logistic.py:432: FutureWarning: Default solver will be changed to 'lbfgs' in 0.22. Specify a solver to silence this warning.\n",
      "  FutureWarning)\n",
      "C:\\ProgramData\\Anaconda3\\lib\\site-packages\\sklearn\\linear_model\\logistic.py:469: FutureWarning: Default multi_class will be changed to 'auto' in 0.22. Specify the multi_class option to silence this warning.\n",
      "  \"this warning.\", FutureWarning)\n"
     ]
    },
    {
     "name": "stdout",
     "output_type": "stream",
     "text": [
      "Number of components in PCA: 73\n",
      "Train accuracy score:0.9829\n",
      "Test accuracy score:0.9811\n",
      "Execution time: 7.268133640289307 seconds\n"
     ]
    },
    {
     "name": "stderr",
     "output_type": "stream",
     "text": [
      "C:\\ProgramData\\Anaconda3\\lib\\site-packages\\sklearn\\linear_model\\logistic.py:432: FutureWarning: Default solver will be changed to 'lbfgs' in 0.22. Specify a solver to silence this warning.\n",
      "  FutureWarning)\n",
      "C:\\ProgramData\\Anaconda3\\lib\\site-packages\\sklearn\\linear_model\\logistic.py:469: FutureWarning: Default multi_class will be changed to 'auto' in 0.22. Specify the multi_class option to silence this warning.\n",
      "  \"this warning.\", FutureWarning)\n"
     ]
    },
    {
     "name": "stdout",
     "output_type": "stream",
     "text": [
      "Number of components in PCA: 74\n",
      "Train accuracy score:0.9840\n",
      "Test accuracy score:0.9819\n",
      "Execution time: 7.3819169998168945 seconds\n"
     ]
    },
    {
     "name": "stderr",
     "output_type": "stream",
     "text": [
      "C:\\ProgramData\\Anaconda3\\lib\\site-packages\\sklearn\\linear_model\\logistic.py:432: FutureWarning: Default solver will be changed to 'lbfgs' in 0.22. Specify a solver to silence this warning.\n",
      "  FutureWarning)\n",
      "C:\\ProgramData\\Anaconda3\\lib\\site-packages\\sklearn\\linear_model\\logistic.py:469: FutureWarning: Default multi_class will be changed to 'auto' in 0.22. Specify the multi_class option to silence this warning.\n",
      "  \"this warning.\", FutureWarning)\n"
     ]
    },
    {
     "name": "stdout",
     "output_type": "stream",
     "text": [
      "Number of components in PCA: 75\n",
      "Train accuracy score:0.9844\n",
      "Test accuracy score:0.9804\n",
      "Execution time: 8.126001596450806 seconds\n"
     ]
    },
    {
     "name": "stderr",
     "output_type": "stream",
     "text": [
      "C:\\ProgramData\\Anaconda3\\lib\\site-packages\\sklearn\\linear_model\\logistic.py:432: FutureWarning: Default solver will be changed to 'lbfgs' in 0.22. Specify a solver to silence this warning.\n",
      "  FutureWarning)\n",
      "C:\\ProgramData\\Anaconda3\\lib\\site-packages\\sklearn\\linear_model\\logistic.py:469: FutureWarning: Default multi_class will be changed to 'auto' in 0.22. Specify the multi_class option to silence this warning.\n",
      "  \"this warning.\", FutureWarning)\n"
     ]
    },
    {
     "name": "stdout",
     "output_type": "stream",
     "text": [
      "Number of components in PCA: 76\n",
      "Train accuracy score:0.9846\n",
      "Test accuracy score:0.9797\n",
      "Execution time: 7.817337512969971 seconds\n"
     ]
    },
    {
     "name": "stderr",
     "output_type": "stream",
     "text": [
      "C:\\ProgramData\\Anaconda3\\lib\\site-packages\\sklearn\\linear_model\\logistic.py:432: FutureWarning: Default solver will be changed to 'lbfgs' in 0.22. Specify a solver to silence this warning.\n",
      "  FutureWarning)\n",
      "C:\\ProgramData\\Anaconda3\\lib\\site-packages\\sklearn\\linear_model\\logistic.py:469: FutureWarning: Default multi_class will be changed to 'auto' in 0.22. Specify the multi_class option to silence this warning.\n",
      "  \"this warning.\", FutureWarning)\n"
     ]
    },
    {
     "name": "stdout",
     "output_type": "stream",
     "text": [
      "Number of components in PCA: 77\n",
      "Train accuracy score:0.9848\n",
      "Test accuracy score:0.9819\n",
      "Execution time: 8.535295963287354 seconds\n"
     ]
    },
    {
     "name": "stderr",
     "output_type": "stream",
     "text": [
      "C:\\ProgramData\\Anaconda3\\lib\\site-packages\\sklearn\\linear_model\\logistic.py:432: FutureWarning: Default solver will be changed to 'lbfgs' in 0.22. Specify a solver to silence this warning.\n",
      "  FutureWarning)\n",
      "C:\\ProgramData\\Anaconda3\\lib\\site-packages\\sklearn\\linear_model\\logistic.py:469: FutureWarning: Default multi_class will be changed to 'auto' in 0.22. Specify the multi_class option to silence this warning.\n",
      "  \"this warning.\", FutureWarning)\n"
     ]
    },
    {
     "name": "stdout",
     "output_type": "stream",
     "text": [
      "Number of components in PCA: 78\n",
      "Train accuracy score:0.9857\n",
      "Test accuracy score:0.9797\n",
      "Execution time: 7.932082653045654 seconds\n"
     ]
    },
    {
     "name": "stderr",
     "output_type": "stream",
     "text": [
      "C:\\ProgramData\\Anaconda3\\lib\\site-packages\\sklearn\\linear_model\\logistic.py:432: FutureWarning: Default solver will be changed to 'lbfgs' in 0.22. Specify a solver to silence this warning.\n",
      "  FutureWarning)\n",
      "C:\\ProgramData\\Anaconda3\\lib\\site-packages\\sklearn\\linear_model\\logistic.py:469: FutureWarning: Default multi_class will be changed to 'auto' in 0.22. Specify the multi_class option to silence this warning.\n",
      "  \"this warning.\", FutureWarning)\n"
     ]
    },
    {
     "name": "stdout",
     "output_type": "stream",
     "text": [
      "Number of components in PCA: 79\n",
      "Train accuracy score:0.9855\n",
      "Test accuracy score:0.9804\n",
      "Execution time: 8.070456266403198 seconds\n"
     ]
    },
    {
     "name": "stderr",
     "output_type": "stream",
     "text": [
      "C:\\ProgramData\\Anaconda3\\lib\\site-packages\\sklearn\\linear_model\\logistic.py:432: FutureWarning: Default solver will be changed to 'lbfgs' in 0.22. Specify a solver to silence this warning.\n",
      "  FutureWarning)\n",
      "C:\\ProgramData\\Anaconda3\\lib\\site-packages\\sklearn\\linear_model\\logistic.py:469: FutureWarning: Default multi_class will be changed to 'auto' in 0.22. Specify the multi_class option to silence this warning.\n",
      "  \"this warning.\", FutureWarning)\n"
     ]
    },
    {
     "name": "stdout",
     "output_type": "stream",
     "text": [
      "Number of components in PCA: 80\n",
      "Train accuracy score:0.9862\n",
      "Test accuracy score:0.9819\n",
      "Execution time: 7.135365009307861 seconds\n"
     ]
    },
    {
     "name": "stderr",
     "output_type": "stream",
     "text": [
      "C:\\ProgramData\\Anaconda3\\lib\\site-packages\\sklearn\\linear_model\\logistic.py:432: FutureWarning: Default solver will be changed to 'lbfgs' in 0.22. Specify a solver to silence this warning.\n",
      "  FutureWarning)\n",
      "C:\\ProgramData\\Anaconda3\\lib\\site-packages\\sklearn\\linear_model\\logistic.py:469: FutureWarning: Default multi_class will be changed to 'auto' in 0.22. Specify the multi_class option to silence this warning.\n",
      "  \"this warning.\", FutureWarning)\n"
     ]
    },
    {
     "name": "stdout",
     "output_type": "stream",
     "text": [
      "Number of components in PCA: 81\n",
      "Train accuracy score:0.9866\n",
      "Test accuracy score:0.9811\n",
      "Execution time: 8.18171238899231 seconds\n"
     ]
    },
    {
     "name": "stderr",
     "output_type": "stream",
     "text": [
      "C:\\ProgramData\\Anaconda3\\lib\\site-packages\\sklearn\\linear_model\\logistic.py:432: FutureWarning: Default solver will be changed to 'lbfgs' in 0.22. Specify a solver to silence this warning.\n",
      "  FutureWarning)\n",
      "C:\\ProgramData\\Anaconda3\\lib\\site-packages\\sklearn\\linear_model\\logistic.py:469: FutureWarning: Default multi_class will be changed to 'auto' in 0.22. Specify the multi_class option to silence this warning.\n",
      "  \"this warning.\", FutureWarning)\n"
     ]
    },
    {
     "name": "stdout",
     "output_type": "stream",
     "text": [
      "Number of components in PCA: 82\n",
      "Train accuracy score:0.9869\n",
      "Test accuracy score:0.9804\n",
      "Execution time: 7.3904008865356445 seconds\n"
     ]
    },
    {
     "name": "stderr",
     "output_type": "stream",
     "text": [
      "C:\\ProgramData\\Anaconda3\\lib\\site-packages\\sklearn\\linear_model\\logistic.py:432: FutureWarning: Default solver will be changed to 'lbfgs' in 0.22. Specify a solver to silence this warning.\n",
      "  FutureWarning)\n",
      "C:\\ProgramData\\Anaconda3\\lib\\site-packages\\sklearn\\linear_model\\logistic.py:469: FutureWarning: Default multi_class will be changed to 'auto' in 0.22. Specify the multi_class option to silence this warning.\n",
      "  \"this warning.\", FutureWarning)\n"
     ]
    },
    {
     "name": "stdout",
     "output_type": "stream",
     "text": [
      "Number of components in PCA: 83\n",
      "Train accuracy score:0.9864\n",
      "Test accuracy score:0.9819\n",
      "Execution time: 7.750983953475952 seconds\n"
     ]
    },
    {
     "name": "stderr",
     "output_type": "stream",
     "text": [
      "C:\\ProgramData\\Anaconda3\\lib\\site-packages\\sklearn\\linear_model\\logistic.py:432: FutureWarning: Default solver will be changed to 'lbfgs' in 0.22. Specify a solver to silence this warning.\n",
      "  FutureWarning)\n",
      "C:\\ProgramData\\Anaconda3\\lib\\site-packages\\sklearn\\linear_model\\logistic.py:469: FutureWarning: Default multi_class will be changed to 'auto' in 0.22. Specify the multi_class option to silence this warning.\n",
      "  \"this warning.\", FutureWarning)\n"
     ]
    },
    {
     "name": "stdout",
     "output_type": "stream",
     "text": [
      "Number of components in PCA: 84\n",
      "Train accuracy score:0.9873\n",
      "Test accuracy score:0.9826\n",
      "Execution time: 7.645383358001709 seconds\n"
     ]
    },
    {
     "name": "stderr",
     "output_type": "stream",
     "text": [
      "C:\\ProgramData\\Anaconda3\\lib\\site-packages\\sklearn\\linear_model\\logistic.py:432: FutureWarning: Default solver will be changed to 'lbfgs' in 0.22. Specify a solver to silence this warning.\n",
      "  FutureWarning)\n",
      "C:\\ProgramData\\Anaconda3\\lib\\site-packages\\sklearn\\linear_model\\logistic.py:469: FutureWarning: Default multi_class will be changed to 'auto' in 0.22. Specify the multi_class option to silence this warning.\n",
      "  \"this warning.\", FutureWarning)\n"
     ]
    },
    {
     "name": "stdout",
     "output_type": "stream",
     "text": [
      "Number of components in PCA: 85\n",
      "Train accuracy score:0.9875\n",
      "Test accuracy score:0.9826\n",
      "Execution time: 7.968685150146484 seconds\n"
     ]
    },
    {
     "name": "stderr",
     "output_type": "stream",
     "text": [
      "C:\\ProgramData\\Anaconda3\\lib\\site-packages\\sklearn\\linear_model\\logistic.py:432: FutureWarning: Default solver will be changed to 'lbfgs' in 0.22. Specify a solver to silence this warning.\n",
      "  FutureWarning)\n",
      "C:\\ProgramData\\Anaconda3\\lib\\site-packages\\sklearn\\linear_model\\logistic.py:469: FutureWarning: Default multi_class will be changed to 'auto' in 0.22. Specify the multi_class option to silence this warning.\n",
      "  \"this warning.\", FutureWarning)\n"
     ]
    },
    {
     "name": "stdout",
     "output_type": "stream",
     "text": [
      "Number of components in PCA: 86\n",
      "Train accuracy score:0.9873\n",
      "Test accuracy score:0.9819\n",
      "Execution time: 8.924859285354614 seconds\n"
     ]
    },
    {
     "name": "stderr",
     "output_type": "stream",
     "text": [
      "C:\\ProgramData\\Anaconda3\\lib\\site-packages\\sklearn\\linear_model\\logistic.py:432: FutureWarning: Default solver will be changed to 'lbfgs' in 0.22. Specify a solver to silence this warning.\n",
      "  FutureWarning)\n",
      "C:\\ProgramData\\Anaconda3\\lib\\site-packages\\sklearn\\linear_model\\logistic.py:469: FutureWarning: Default multi_class will be changed to 'auto' in 0.22. Specify the multi_class option to silence this warning.\n",
      "  \"this warning.\", FutureWarning)\n"
     ]
    },
    {
     "name": "stdout",
     "output_type": "stream",
     "text": [
      "Number of components in PCA: 87\n",
      "Train accuracy score:0.9878\n",
      "Test accuracy score:0.9819\n",
      "Execution time: 8.639662027359009 seconds\n"
     ]
    },
    {
     "name": "stderr",
     "output_type": "stream",
     "text": [
      "C:\\ProgramData\\Anaconda3\\lib\\site-packages\\sklearn\\linear_model\\logistic.py:432: FutureWarning: Default solver will be changed to 'lbfgs' in 0.22. Specify a solver to silence this warning.\n",
      "  FutureWarning)\n",
      "C:\\ProgramData\\Anaconda3\\lib\\site-packages\\sklearn\\linear_model\\logistic.py:469: FutureWarning: Default multi_class will be changed to 'auto' in 0.22. Specify the multi_class option to silence this warning.\n",
      "  \"this warning.\", FutureWarning)\n"
     ]
    },
    {
     "name": "stdout",
     "output_type": "stream",
     "text": [
      "Number of components in PCA: 88\n",
      "Train accuracy score:0.9882\n",
      "Test accuracy score:0.9833\n",
      "Execution time: 7.832937955856323 seconds\n"
     ]
    },
    {
     "name": "stderr",
     "output_type": "stream",
     "text": [
      "C:\\ProgramData\\Anaconda3\\lib\\site-packages\\sklearn\\linear_model\\logistic.py:432: FutureWarning: Default solver will be changed to 'lbfgs' in 0.22. Specify a solver to silence this warning.\n",
      "  FutureWarning)\n",
      "C:\\ProgramData\\Anaconda3\\lib\\site-packages\\sklearn\\linear_model\\logistic.py:469: FutureWarning: Default multi_class will be changed to 'auto' in 0.22. Specify the multi_class option to silence this warning.\n",
      "  \"this warning.\", FutureWarning)\n"
     ]
    },
    {
     "name": "stdout",
     "output_type": "stream",
     "text": [
      "Number of components in PCA: 89\n",
      "Train accuracy score:0.9884\n",
      "Test accuracy score:0.9833\n",
      "Execution time: 9.058452129364014 seconds\n"
     ]
    },
    {
     "name": "stderr",
     "output_type": "stream",
     "text": [
      "C:\\ProgramData\\Anaconda3\\lib\\site-packages\\sklearn\\linear_model\\logistic.py:432: FutureWarning: Default solver will be changed to 'lbfgs' in 0.22. Specify a solver to silence this warning.\n",
      "  FutureWarning)\n",
      "C:\\ProgramData\\Anaconda3\\lib\\site-packages\\sklearn\\linear_model\\logistic.py:469: FutureWarning: Default multi_class will be changed to 'auto' in 0.22. Specify the multi_class option to silence this warning.\n",
      "  \"this warning.\", FutureWarning)\n"
     ]
    },
    {
     "name": "stdout",
     "output_type": "stream",
     "text": [
      "Number of components in PCA: 90\n",
      "Train accuracy score:0.9898\n",
      "Test accuracy score:0.9826\n",
      "Execution time: 7.661851406097412 seconds\n"
     ]
    },
    {
     "name": "stderr",
     "output_type": "stream",
     "text": [
      "C:\\ProgramData\\Anaconda3\\lib\\site-packages\\sklearn\\linear_model\\logistic.py:432: FutureWarning: Default solver will be changed to 'lbfgs' in 0.22. Specify a solver to silence this warning.\n",
      "  FutureWarning)\n",
      "C:\\ProgramData\\Anaconda3\\lib\\site-packages\\sklearn\\linear_model\\logistic.py:469: FutureWarning: Default multi_class will be changed to 'auto' in 0.22. Specify the multi_class option to silence this warning.\n",
      "  \"this warning.\", FutureWarning)\n"
     ]
    },
    {
     "name": "stdout",
     "output_type": "stream",
     "text": [
      "Number of components in PCA: 91\n",
      "Train accuracy score:0.9904\n",
      "Test accuracy score:0.9826\n",
      "Execution time: 8.508994579315186 seconds\n"
     ]
    },
    {
     "name": "stderr",
     "output_type": "stream",
     "text": [
      "C:\\ProgramData\\Anaconda3\\lib\\site-packages\\sklearn\\linear_model\\logistic.py:432: FutureWarning: Default solver will be changed to 'lbfgs' in 0.22. Specify a solver to silence this warning.\n",
      "  FutureWarning)\n",
      "C:\\ProgramData\\Anaconda3\\lib\\site-packages\\sklearn\\linear_model\\logistic.py:469: FutureWarning: Default multi_class will be changed to 'auto' in 0.22. Specify the multi_class option to silence this warning.\n",
      "  \"this warning.\", FutureWarning)\n"
     ]
    },
    {
     "name": "stdout",
     "output_type": "stream",
     "text": [
      "Number of components in PCA: 92\n",
      "Train accuracy score:0.9909\n",
      "Test accuracy score:0.9826\n",
      "Execution time: 8.406376361846924 seconds\n"
     ]
    },
    {
     "name": "stderr",
     "output_type": "stream",
     "text": [
      "C:\\ProgramData\\Anaconda3\\lib\\site-packages\\sklearn\\linear_model\\logistic.py:432: FutureWarning: Default solver will be changed to 'lbfgs' in 0.22. Specify a solver to silence this warning.\n",
      "  FutureWarning)\n",
      "C:\\ProgramData\\Anaconda3\\lib\\site-packages\\sklearn\\linear_model\\logistic.py:469: FutureWarning: Default multi_class will be changed to 'auto' in 0.22. Specify the multi_class option to silence this warning.\n",
      "  \"this warning.\", FutureWarning)\n"
     ]
    },
    {
     "name": "stdout",
     "output_type": "stream",
     "text": [
      "Number of components in PCA: 93\n",
      "Train accuracy score:0.9909\n",
      "Test accuracy score:0.9862\n",
      "Execution time: 8.841225862503052 seconds\n"
     ]
    },
    {
     "name": "stderr",
     "output_type": "stream",
     "text": [
      "C:\\ProgramData\\Anaconda3\\lib\\site-packages\\sklearn\\linear_model\\logistic.py:432: FutureWarning: Default solver will be changed to 'lbfgs' in 0.22. Specify a solver to silence this warning.\n",
      "  FutureWarning)\n",
      "C:\\ProgramData\\Anaconda3\\lib\\site-packages\\sklearn\\linear_model\\logistic.py:469: FutureWarning: Default multi_class will be changed to 'auto' in 0.22. Specify the multi_class option to silence this warning.\n",
      "  \"this warning.\", FutureWarning)\n"
     ]
    },
    {
     "name": "stdout",
     "output_type": "stream",
     "text": [
      "Number of components in PCA: 94\n",
      "Train accuracy score:0.9904\n",
      "Test accuracy score:0.9862\n",
      "Execution time: 8.169641256332397 seconds\n"
     ]
    },
    {
     "name": "stderr",
     "output_type": "stream",
     "text": [
      "C:\\ProgramData\\Anaconda3\\lib\\site-packages\\sklearn\\linear_model\\logistic.py:432: FutureWarning: Default solver will be changed to 'lbfgs' in 0.22. Specify a solver to silence this warning.\n",
      "  FutureWarning)\n",
      "C:\\ProgramData\\Anaconda3\\lib\\site-packages\\sklearn\\linear_model\\logistic.py:469: FutureWarning: Default multi_class will be changed to 'auto' in 0.22. Specify the multi_class option to silence this warning.\n",
      "  \"this warning.\", FutureWarning)\n"
     ]
    },
    {
     "name": "stdout",
     "output_type": "stream",
     "text": [
      "Number of components in PCA: 95\n",
      "Train accuracy score:0.9902\n",
      "Test accuracy score:0.9869\n",
      "Execution time: 8.768668174743652 seconds\n"
     ]
    },
    {
     "name": "stderr",
     "output_type": "stream",
     "text": [
      "C:\\ProgramData\\Anaconda3\\lib\\site-packages\\sklearn\\linear_model\\logistic.py:432: FutureWarning: Default solver will be changed to 'lbfgs' in 0.22. Specify a solver to silence this warning.\n",
      "  FutureWarning)\n",
      "C:\\ProgramData\\Anaconda3\\lib\\site-packages\\sklearn\\linear_model\\logistic.py:469: FutureWarning: Default multi_class will be changed to 'auto' in 0.22. Specify the multi_class option to silence this warning.\n",
      "  \"this warning.\", FutureWarning)\n"
     ]
    },
    {
     "name": "stdout",
     "output_type": "stream",
     "text": [
      "Number of components in PCA: 96\n",
      "Train accuracy score:0.9909\n",
      "Test accuracy score:0.9862\n",
      "Execution time: 8.39891791343689 seconds\n"
     ]
    },
    {
     "name": "stderr",
     "output_type": "stream",
     "text": [
      "C:\\ProgramData\\Anaconda3\\lib\\site-packages\\sklearn\\linear_model\\logistic.py:432: FutureWarning: Default solver will be changed to 'lbfgs' in 0.22. Specify a solver to silence this warning.\n",
      "  FutureWarning)\n",
      "C:\\ProgramData\\Anaconda3\\lib\\site-packages\\sklearn\\linear_model\\logistic.py:469: FutureWarning: Default multi_class will be changed to 'auto' in 0.22. Specify the multi_class option to silence this warning.\n",
      "  \"this warning.\", FutureWarning)\n"
     ]
    },
    {
     "name": "stdout",
     "output_type": "stream",
     "text": [
      "Number of components in PCA: 97\n",
      "Train accuracy score:0.9915\n",
      "Test accuracy score:0.9862\n",
      "Execution time: 8.562352418899536 seconds\n"
     ]
    },
    {
     "name": "stderr",
     "output_type": "stream",
     "text": [
      "C:\\ProgramData\\Anaconda3\\lib\\site-packages\\sklearn\\linear_model\\logistic.py:432: FutureWarning: Default solver will be changed to 'lbfgs' in 0.22. Specify a solver to silence this warning.\n",
      "  FutureWarning)\n",
      "C:\\ProgramData\\Anaconda3\\lib\\site-packages\\sklearn\\linear_model\\logistic.py:469: FutureWarning: Default multi_class will be changed to 'auto' in 0.22. Specify the multi_class option to silence this warning.\n",
      "  \"this warning.\", FutureWarning)\n"
     ]
    },
    {
     "name": "stdout",
     "output_type": "stream",
     "text": [
      "Number of components in PCA: 98\n",
      "Train accuracy score:0.9917\n",
      "Test accuracy score:0.9862\n",
      "Execution time: 8.401126623153687 seconds\n"
     ]
    },
    {
     "name": "stderr",
     "output_type": "stream",
     "text": [
      "C:\\ProgramData\\Anaconda3\\lib\\site-packages\\sklearn\\linear_model\\logistic.py:432: FutureWarning: Default solver will be changed to 'lbfgs' in 0.22. Specify a solver to silence this warning.\n",
      "  FutureWarning)\n",
      "C:\\ProgramData\\Anaconda3\\lib\\site-packages\\sklearn\\linear_model\\logistic.py:469: FutureWarning: Default multi_class will be changed to 'auto' in 0.22. Specify the multi_class option to silence this warning.\n",
      "  \"this warning.\", FutureWarning)\n"
     ]
    },
    {
     "name": "stdout",
     "output_type": "stream",
     "text": [
      "Number of components in PCA: 99\n",
      "Train accuracy score:0.9924\n",
      "Test accuracy score:0.9869\n",
      "Execution time: 8.907701253890991 seconds\n"
     ]
    },
    {
     "name": "stderr",
     "output_type": "stream",
     "text": [
      "C:\\ProgramData\\Anaconda3\\lib\\site-packages\\sklearn\\linear_model\\logistic.py:432: FutureWarning: Default solver will be changed to 'lbfgs' in 0.22. Specify a solver to silence this warning.\n",
      "  FutureWarning)\n",
      "C:\\ProgramData\\Anaconda3\\lib\\site-packages\\sklearn\\linear_model\\logistic.py:469: FutureWarning: Default multi_class will be changed to 'auto' in 0.22. Specify the multi_class option to silence this warning.\n",
      "  \"this warning.\", FutureWarning)\n"
     ]
    },
    {
     "name": "stdout",
     "output_type": "stream",
     "text": [
      "Number of components in PCA: 100\n",
      "Train accuracy score:0.9927\n",
      "Test accuracy score:0.9855\n",
      "Execution time: 8.654914617538452 seconds\n"
     ]
    },
    {
     "data": {
      "image/png": "[encoded data removed]",
      "text/plain": [
       "<Figure size 432x288 with 1 Axes>"
      ]
     },
     "metadata": {
      "needs_background": "light"
     },
     "output_type": "display_data"
    }
   ],
   "source": [
    "#Logistic Regession Model\n",
    "no_components = []\n",
    "train_accuracy_score = []\n",
    "test_accuracy_score = []\n",
    "execution_time = []\n",
    "import time\n",
    "\n",
    "for n in range (1,101,1):\n",
    "    st = time.time()\n",
    "    \n",
    "    n_components = n\n",
    "    pca=PCA(n_components=n_components, whiten=True)\n",
    "    pca.fit(X_train)\n",
    "    \n",
    "    X_train_pca=pca.transform(X_train)\n",
    "    X_test_pca=pca.transform(X_test)\n",
    "\n",
    "    clf = LogisticRegression() #change the model name here to different name \n",
    "    clf.fit(X_train_pca, y_train)\n",
    "    y_pred = clf.predict(X_test_pca)\n",
    "    \n",
    "    y_train_pred = clf.predict(X_train_pca)\n",
    "    print(\"Number of components in PCA: {}\".format(n_components))\n",
    "    no_components.append(n_components)\n",
    "    print(\"Train accuracy score:{:.4f}\".format(metrics.accuracy_score(y_train, y_train_pred)))\n",
    "    train_accuracy_score.append(metrics.accuracy_score(y_train, y_train_pred))\n",
    "    print(\"Test accuracy score:{:.4f}\".format(metrics.accuracy_score(y_test, y_pred)))\n",
    "    test_accuracy_score.append((metrics.accuracy_score(y_test, y_pred)))\n",
    "    # get the end time\n",
    "    et = time.time()\n",
    "\n",
    "    # get the execution time\n",
    "    elapsed_time = et - st\n",
    "    print('Execution time:', elapsed_time, 'seconds')\n",
    "    execution_time.append(elapsed_time)\n",
    "\n",
    "import matplotlib.pyplot as plt\n",
    "\n",
    "plt.plot(no_components, train_accuracy_score, label = 'Training Accuracy Score')\n",
    "plt.plot(no_components, test_accuracy_score, label = 'Test Accuracy Score')          \n",
    "plt.xlabel('No of Component')\n",
    "plt.ylabel('Accuracy')\n",
    "plt.title('Logistic Regression Model Performance')\n",
    "plt.legend()\n",
    "plt.show()\n",
    "\n",
    "#Transform and save data including train accuracy, test accuracy, and execution for analysis\n",
    "LRdf = pd.DataFrame(list(zip(train_accuracy_score, test_accuracy_score, execution_time)), columns =['Train accuracy', 'Test accuracy','Execution Time'], index = no_components )\n",
    "LRdf.head()\n",
    "LRdf.to_excel(\"LRdata.xlsx\")"
   ]
  },
  {
   "cell_type": "code",
   "execution_count": 15,
   "id": "85d0a94b",
   "metadata": {},
   "outputs": [
    {
     "name": "stdout",
     "output_type": "stream",
     "text": [
      "Number of components in PCA: 1\n",
      "Train accuracy score:0.1669\n",
      "Test accuracy score:0.1597\n",
      "Execution time: 2.710510015487671 seconds\n",
      "Number of components in PCA: 2\n",
      "Train accuracy score:0.2179\n",
      "Test accuracy score:0.2068\n",
      "Execution time: 2.7771475315093994 seconds\n",
      "Number of components in PCA: 3\n",
      "Train accuracy score:0.3853\n",
      "Test accuracy score:0.3679\n",
      "Execution time: 2.6567599773406982 seconds\n",
      "Number of components in PCA: 4\n",
      "Train accuracy score:0.4777\n",
      "Test accuracy score:0.4557\n",
      "Execution time: 2.7289137840270996 seconds\n",
      "Number of components in PCA: 5\n",
      "Train accuracy score:0.4985\n",
      "Test accuracy score:0.4862\n",
      "Execution time: 2.7630512714385986 seconds\n",
      "Number of components in PCA: 6\n",
      "Train accuracy score:0.5327\n",
      "Test accuracy score:0.5145\n",
      "Execution time: 3.062748670578003 seconds\n",
      "Number of components in PCA: 7\n",
      "Train accuracy score:0.6041\n",
      "Test accuracy score:0.5871\n",
      "Execution time: 2.8490798473358154 seconds\n",
      "Number of components in PCA: 8\n",
      "Train accuracy score:0.6312\n",
      "Test accuracy score:0.6089\n",
      "Execution time: 2.862448215484619 seconds\n",
      "Number of components in PCA: 9\n",
      "Train accuracy score:0.6606\n",
      "Test accuracy score:0.6408\n",
      "Execution time: 2.844686269760132 seconds\n",
      "Number of components in PCA: 10\n",
      "Train accuracy score:0.6584\n",
      "Test accuracy score:0.6437\n",
      "Execution time: 2.7950081825256348 seconds\n",
      "Number of components in PCA: 11\n",
      "Train accuracy score:0.6847\n",
      "Test accuracy score:0.6655\n",
      "Execution time: 2.876722574234009 seconds\n",
      "Number of components in PCA: 12\n",
      "Train accuracy score:0.7081\n",
      "Test accuracy score:0.6887\n",
      "Execution time: 3.0237011909484863 seconds\n",
      "Number of components in PCA: 13\n",
      "Train accuracy score:0.7335\n",
      "Test accuracy score:0.7271\n",
      "Execution time: 2.8776957988739014 seconds\n",
      "Number of components in PCA: 14\n",
      "Train accuracy score:0.7389\n",
      "Test accuracy score:0.7337\n",
      "Execution time: 2.8174216747283936 seconds\n",
      "Number of components in PCA: 15\n",
      "Train accuracy score:0.7442\n",
      "Test accuracy score:0.7206\n",
      "Execution time: 2.926699638366699 seconds\n",
      "Number of components in PCA: 16\n",
      "Train accuracy score:0.7622\n",
      "Test accuracy score:0.7402\n",
      "Execution time: 3.042917013168335 seconds\n",
      "Number of components in PCA: 17\n",
      "Train accuracy score:0.7718\n",
      "Test accuracy score:0.7504\n",
      "Execution time: 3.350633144378662 seconds\n",
      "Number of components in PCA: 18\n",
      "Train accuracy score:0.7914\n",
      "Test accuracy score:0.7649\n",
      "Execution time: 3.328787326812744 seconds\n",
      "Number of components in PCA: 19\n",
      "Train accuracy score:0.8026\n",
      "Test accuracy score:0.7750\n",
      "Execution time: 3.30199933052063 seconds\n",
      "Number of components in PCA: 20\n",
      "Train accuracy score:0.8070\n",
      "Test accuracy score:0.7801\n",
      "Execution time: 3.4194893836975098 seconds\n",
      "Number of components in PCA: 21\n",
      "Train accuracy score:0.8079\n",
      "Test accuracy score:0.7794\n",
      "Execution time: 3.162459135055542 seconds\n",
      "Number of components in PCA: 22\n",
      "Train accuracy score:0.8084\n",
      "Test accuracy score:0.7808\n",
      "Execution time: 3.472092390060425 seconds\n",
      "Number of components in PCA: 23\n",
      "Train accuracy score:0.8126\n",
      "Test accuracy score:0.7852\n",
      "Execution time: 3.222320079803467 seconds\n",
      "Number of components in PCA: 24\n",
      "Train accuracy score:0.8160\n",
      "Test accuracy score:0.7881\n",
      "Execution time: 3.323338508605957 seconds\n",
      "Number of components in PCA: 25\n",
      "Train accuracy score:0.8218\n",
      "Test accuracy score:0.7925\n",
      "Execution time: 3.2519333362579346 seconds\n",
      "Number of components in PCA: 26\n",
      "Train accuracy score:0.8322\n",
      "Test accuracy score:0.8062\n",
      "Execution time: 3.171412467956543 seconds\n",
      "Number of components in PCA: 27\n",
      "Train accuracy score:0.8338\n",
      "Test accuracy score:0.8128\n",
      "Execution time: 3.3689703941345215 seconds\n",
      "Number of components in PCA: 28\n",
      "Train accuracy score:0.8420\n",
      "Test accuracy score:0.8193\n",
      "Execution time: 3.2287867069244385 seconds\n",
      "Number of components in PCA: 29\n",
      "Train accuracy score:0.8474\n",
      "Test accuracy score:0.8193\n",
      "Execution time: 3.2146804332733154 seconds\n",
      "Number of components in PCA: 30\n",
      "Train accuracy score:0.8500\n",
      "Test accuracy score:0.8244\n",
      "Execution time: 3.232017993927002 seconds\n",
      "Number of components in PCA: 31\n",
      "Train accuracy score:0.8498\n",
      "Test accuracy score:0.8200\n",
      "Execution time: 3.420703411102295 seconds\n",
      "Number of components in PCA: 32\n",
      "Train accuracy score:0.8523\n",
      "Test accuracy score:0.8266\n",
      "Execution time: 3.3841826915740967 seconds\n",
      "Number of components in PCA: 33\n",
      "Train accuracy score:0.8556\n",
      "Test accuracy score:0.8338\n",
      "Execution time: 3.384277582168579 seconds\n",
      "Number of components in PCA: 34\n",
      "Train accuracy score:0.8587\n",
      "Test accuracy score:0.8367\n",
      "Execution time: 3.3023600578308105 seconds\n",
      "Number of components in PCA: 35\n",
      "Train accuracy score:0.8690\n",
      "Test accuracy score:0.8483\n",
      "Execution time: 3.3793931007385254 seconds\n",
      "Number of components in PCA: 36\n",
      "Train accuracy score:0.8687\n",
      "Test accuracy score:0.8469\n",
      "Execution time: 3.430771827697754 seconds\n",
      "Number of components in PCA: 37\n",
      "Train accuracy score:0.8725\n",
      "Test accuracy score:0.8505\n",
      "Execution time: 3.338247060775757 seconds\n",
      "Number of components in PCA: 38\n",
      "Train accuracy score:0.8743\n",
      "Test accuracy score:0.8491\n",
      "Execution time: 3.3479413986206055 seconds\n",
      "Number of components in PCA: 39\n",
      "Train accuracy score:0.8772\n",
      "Test accuracy score:0.8520\n",
      "Execution time: 3.3660354614257812 seconds\n",
      "Number of components in PCA: 40\n",
      "Train accuracy score:0.8877\n",
      "Test accuracy score:0.8679\n",
      "Execution time: 3.366513967514038 seconds\n",
      "Number of components in PCA: 41\n",
      "Train accuracy score:0.8899\n",
      "Test accuracy score:0.8701\n",
      "Execution time: 3.8352367877960205 seconds\n",
      "Number of components in PCA: 42\n",
      "Train accuracy score:0.8897\n",
      "Test accuracy score:0.8694\n",
      "Execution time: 3.487833261489868 seconds\n",
      "Number of components in PCA: 43\n",
      "Train accuracy score:0.8895\n",
      "Test accuracy score:0.8665\n",
      "Execution time: 3.577775478363037 seconds\n",
      "Number of components in PCA: 44\n",
      "Train accuracy score:0.8881\n",
      "Test accuracy score:0.8650\n",
      "Execution time: 3.5193023681640625 seconds\n",
      "Number of components in PCA: 45\n",
      "Train accuracy score:0.8877\n",
      "Test accuracy score:0.8650\n",
      "Execution time: 4.031393527984619 seconds\n",
      "Number of components in PCA: 46\n",
      "Train accuracy score:0.8861\n",
      "Test accuracy score:0.8665\n",
      "Execution time: 3.5151870250701904 seconds\n",
      "Number of components in PCA: 47\n",
      "Train accuracy score:0.8910\n",
      "Test accuracy score:0.8730\n",
      "Execution time: 3.5656840801239014 seconds\n",
      "Number of components in PCA: 48\n",
      "Train accuracy score:0.8919\n",
      "Test accuracy score:0.8723\n",
      "Execution time: 3.613114833831787 seconds\n",
      "Number of components in PCA: 49\n",
      "Train accuracy score:0.8917\n",
      "Test accuracy score:0.8752\n",
      "Execution time: 3.6538941860198975 seconds\n",
      "Number of components in PCA: 50\n",
      "Train accuracy score:0.8897\n",
      "Test accuracy score:0.8737\n",
      "Execution time: 4.5310304164886475 seconds\n",
      "Number of components in PCA: 51\n",
      "Train accuracy score:0.8951\n",
      "Test accuracy score:0.8781\n",
      "Execution time: 4.010732412338257 seconds\n",
      "Number of components in PCA: 52\n",
      "Train accuracy score:0.8979\n",
      "Test accuracy score:0.8781\n",
      "Execution time: 3.698483943939209 seconds\n",
      "Number of components in PCA: 53\n",
      "Train accuracy score:0.8989\n",
      "Test accuracy score:0.8781\n",
      "Execution time: 3.870940923690796 seconds\n",
      "Number of components in PCA: 54\n",
      "Train accuracy score:0.9017\n",
      "Test accuracy score:0.8817\n",
      "Execution time: 4.193705320358276 seconds\n",
      "Number of components in PCA: 55\n",
      "Train accuracy score:0.9028\n",
      "Test accuracy score:0.8853\n",
      "Execution time: 3.949974298477173 seconds\n",
      "Number of components in PCA: 56\n",
      "Train accuracy score:0.9037\n",
      "Test accuracy score:0.8875\n",
      "Execution time: 3.8095879554748535 seconds\n",
      "Number of components in PCA: 57\n",
      "Train accuracy score:0.9044\n",
      "Test accuracy score:0.8882\n",
      "Execution time: 3.7688605785369873 seconds\n",
      "Number of components in PCA: 58\n",
      "Train accuracy score:0.9071\n",
      "Test accuracy score:0.8890\n",
      "Execution time: 4.359844207763672 seconds\n",
      "Number of components in PCA: 59\n",
      "Train accuracy score:0.9093\n",
      "Test accuracy score:0.8904\n",
      "Execution time: 3.9727535247802734 seconds\n",
      "Number of components in PCA: 60\n",
      "Train accuracy score:0.9087\n",
      "Test accuracy score:0.8890\n",
      "Execution time: 3.9679512977600098 seconds\n",
      "Number of components in PCA: 61\n",
      "Train accuracy score:0.9071\n",
      "Test accuracy score:0.8919\n",
      "Execution time: 3.9022905826568604 seconds\n",
      "Number of components in PCA: 62\n",
      "Train accuracy score:0.9100\n",
      "Test accuracy score:0.8904\n",
      "Execution time: 4.3075642585754395 seconds\n",
      "Number of components in PCA: 63\n",
      "Train accuracy score:0.9109\n",
      "Test accuracy score:0.8911\n",
      "Execution time: 3.940136671066284 seconds\n",
      "Number of components in PCA: 64\n",
      "Train accuracy score:0.9107\n",
      "Test accuracy score:0.8940\n",
      "Execution time: 3.9190850257873535 seconds\n"
     ]
    },
    {
     "name": "stdout",
     "output_type": "stream",
     "text": [
      "Number of components in PCA: 65\n",
      "Train accuracy score:0.9113\n",
      "Test accuracy score:0.8948\n",
      "Execution time: 4.072896957397461 seconds\n",
      "Number of components in PCA: 66\n",
      "Train accuracy score:0.9133\n",
      "Test accuracy score:0.8933\n",
      "Execution time: 4.39320969581604 seconds\n",
      "Number of components in PCA: 67\n",
      "Train accuracy score:0.9173\n",
      "Test accuracy score:0.8977\n",
      "Execution time: 3.9324045181274414 seconds\n",
      "Number of components in PCA: 68\n",
      "Train accuracy score:0.9175\n",
      "Test accuracy score:0.9020\n",
      "Execution time: 4.324183464050293 seconds\n",
      "Number of components in PCA: 69\n",
      "Train accuracy score:0.9207\n",
      "Test accuracy score:0.9042\n",
      "Execution time: 4.345892906188965 seconds\n",
      "Number of components in PCA: 70\n",
      "Train accuracy score:0.9202\n",
      "Test accuracy score:0.9057\n",
      "Execution time: 4.084958553314209 seconds\n",
      "Number of components in PCA: 71\n",
      "Train accuracy score:0.9211\n",
      "Test accuracy score:0.9057\n",
      "Execution time: 4.129376649856567 seconds\n",
      "Number of components in PCA: 72\n",
      "Train accuracy score:0.9218\n",
      "Test accuracy score:0.9049\n",
      "Execution time: 4.274530649185181 seconds\n",
      "Number of components in PCA: 73\n",
      "Train accuracy score:0.9243\n",
      "Test accuracy score:0.9071\n",
      "Execution time: 4.529995918273926 seconds\n",
      "Number of components in PCA: 74\n",
      "Train accuracy score:0.9249\n",
      "Test accuracy score:0.9064\n",
      "Execution time: 4.205547571182251 seconds\n",
      "Number of components in PCA: 75\n",
      "Train accuracy score:0.9265\n",
      "Test accuracy score:0.9100\n",
      "Execution time: 4.4327874183654785 seconds\n",
      "Number of components in PCA: 76\n",
      "Train accuracy score:0.9269\n",
      "Test accuracy score:0.9086\n",
      "Execution time: 4.863470554351807 seconds\n",
      "Number of components in PCA: 77\n",
      "Train accuracy score:0.9269\n",
      "Test accuracy score:0.9086\n",
      "Execution time: 4.78295636177063 seconds\n",
      "Number of components in PCA: 78\n",
      "Train accuracy score:0.9258\n",
      "Test accuracy score:0.9071\n",
      "Execution time: 4.2179999351501465 seconds\n",
      "Number of components in PCA: 79\n",
      "Train accuracy score:0.9271\n",
      "Test accuracy score:0.9093\n",
      "Execution time: 4.275971412658691 seconds\n",
      "Number of components in PCA: 80\n",
      "Train accuracy score:0.9271\n",
      "Test accuracy score:0.9064\n",
      "Execution time: 4.8016486167907715 seconds\n",
      "Number of components in PCA: 81\n",
      "Train accuracy score:0.9265\n",
      "Test accuracy score:0.9071\n",
      "Execution time: 4.932044267654419 seconds\n",
      "Number of components in PCA: 82\n",
      "Train accuracy score:0.9267\n",
      "Test accuracy score:0.9035\n",
      "Execution time: 4.703691005706787 seconds\n",
      "Number of components in PCA: 83\n",
      "Train accuracy score:0.9271\n",
      "Test accuracy score:0.9064\n",
      "Execution time: 4.994521141052246 seconds\n",
      "Number of components in PCA: 84\n",
      "Train accuracy score:0.9274\n",
      "Test accuracy score:0.9078\n",
      "Execution time: 5.206171035766602 seconds\n",
      "Number of components in PCA: 85\n",
      "Train accuracy score:0.9283\n",
      "Test accuracy score:0.9064\n",
      "Execution time: 5.121400356292725 seconds\n",
      "Number of components in PCA: 86\n",
      "Train accuracy score:0.9280\n",
      "Test accuracy score:0.9057\n",
      "Execution time: 5.20971941947937 seconds\n",
      "Number of components in PCA: 87\n",
      "Train accuracy score:0.9283\n",
      "Test accuracy score:0.9042\n",
      "Execution time: 5.324583053588867 seconds\n",
      "Number of components in PCA: 88\n",
      "Train accuracy score:0.9282\n",
      "Test accuracy score:0.9049\n",
      "Execution time: 5.097888231277466 seconds\n",
      "Number of components in PCA: 89\n",
      "Train accuracy score:0.9276\n",
      "Test accuracy score:0.9035\n",
      "Execution time: 5.239347457885742 seconds\n",
      "Number of components in PCA: 90\n",
      "Train accuracy score:0.9283\n",
      "Test accuracy score:0.9057\n",
      "Execution time: 5.452529430389404 seconds\n",
      "Number of components in PCA: 91\n",
      "Train accuracy score:0.9287\n",
      "Test accuracy score:0.9064\n",
      "Execution time: 5.324347257614136 seconds\n",
      "Number of components in PCA: 92\n",
      "Train accuracy score:0.9289\n",
      "Test accuracy score:0.9071\n",
      "Execution time: 5.185987949371338 seconds\n",
      "Number of components in PCA: 93\n",
      "Train accuracy score:0.9303\n",
      "Test accuracy score:0.9093\n",
      "Execution time: 5.777292251586914 seconds\n",
      "Number of components in PCA: 94\n",
      "Train accuracy score:0.9292\n",
      "Test accuracy score:0.9071\n",
      "Execution time: 5.511945724487305 seconds\n",
      "Number of components in PCA: 95\n",
      "Train accuracy score:0.9296\n",
      "Test accuracy score:0.9071\n",
      "Execution time: 5.9361572265625 seconds\n",
      "Number of components in PCA: 96\n",
      "Train accuracy score:0.9303\n",
      "Test accuracy score:0.9093\n",
      "Execution time: 5.745010137557983 seconds\n",
      "Number of components in PCA: 97\n",
      "Train accuracy score:0.9305\n",
      "Test accuracy score:0.9115\n",
      "Execution time: 5.745694398880005 seconds\n",
      "Number of components in PCA: 98\n",
      "Train accuracy score:0.9285\n",
      "Test accuracy score:0.9086\n",
      "Execution time: 5.217543363571167 seconds\n",
      "Number of components in PCA: 99\n",
      "Train accuracy score:0.9302\n",
      "Test accuracy score:0.9093\n",
      "Execution time: 5.014238119125366 seconds\n",
      "Number of components in PCA: 100\n",
      "Train accuracy score:0.9298\n",
      "Test accuracy score:0.9100\n",
      "Execution time: 5.0464770793914795 seconds\n"
     ]
    },
    {
     "data": {
      "image/png": "[encoded data removed]",
      "text/plain": [
       "<Figure size 432x288 with 1 Axes>"
      ]
     },
     "metadata": {
      "needs_background": "light"
     },
     "output_type": "display_data"
    }
   ],
   "source": [
    "#GaussianNB Model Running\n",
    "no_components = []\n",
    "train_accuracy_score = []\n",
    "test_accuracy_score = []\n",
    "execution_time = []\n",
    "import time\n",
    "\n",
    "for n in range (1,101,1):\n",
    "    st = time.time()\n",
    "    \n",
    "    n_components = n\n",
    "    pca=PCA(n_components=n_components, whiten=True)\n",
    "    pca.fit(X_train)\n",
    "    \n",
    "    X_train_pca=pca.transform(X_train)\n",
    "    X_test_pca=pca.transform(X_test)\n",
    "\n",
    "    clf = GaussianNB() #change the model name here\n",
    "    clf.fit(X_train_pca, y_train)\n",
    "    y_pred = clf.predict(X_test_pca)\n",
    "    \n",
    "    y_train_pred = clf.predict(X_train_pca)\n",
    "    print(\"Number of components in PCA: {}\".format(n_components))\n",
    "    no_components.append(n_components)\n",
    "    print(\"Train accuracy score:{:.4f}\".format(metrics.accuracy_score(y_train, y_train_pred)))\n",
    "    train_accuracy_score.append(metrics.accuracy_score(y_train, y_train_pred))\n",
    "    print(\"Test accuracy score:{:.4f}\".format(metrics.accuracy_score(y_test, y_pred)))\n",
    "    test_accuracy_score.append((metrics.accuracy_score(y_test, y_pred)))\n",
    "    # get the end time\n",
    "    et = time.time()\n",
    "\n",
    "    # get the execution time\n",
    "    elapsed_time = et - st\n",
    "    print('Execution time:', elapsed_time, 'seconds')\n",
    "    execution_time.append(elapsed_time)\n",
    "\n",
    "import matplotlib.pyplot as plt\n",
    "\n",
    "plt.plot(no_components, train_accuracy_score, label = 'Training Accuracy Score')\n",
    "plt.plot(no_components, test_accuracy_score, label = 'Test Accuracy Score')          \n",
    "plt.xlabel('No of Component')\n",
    "plt.ylabel('Accuracy')\n",
    "plt.title('GaussianNB Model Performance')\n",
    "plt.legend()\n",
    "plt.show()\n",
    "\n",
    "#Transform and save data including train accuracy, test accuracy, and execution for analysis\n",
    "GaussianNBdf = pd.DataFrame(list(zip(train_accuracy_score, test_accuracy_score, execution_time)), columns =['Train accuracy', 'Test accuracy','Execution Time'], index = no_components )\n",
    "GaussianNBdf.head()\n",
    "GaussianNBdf.to_excel(\"GaussianNBdata.xlsx\")"
   ]
  },
  {
   "cell_type": "code",
   "execution_count": 16,
   "id": "3ac9a97d",
   "metadata": {},
   "outputs": [
    {
     "name": "stdout",
     "output_type": "stream",
     "text": [
      "Number of components in PCA: 1\n",
      "Train accuracy score:0.5063\n",
      "Test accuracy score:0.3135\n",
      "Execution time: 2.971383810043335 seconds\n",
      "Number of components in PCA: 2\n",
      "Train accuracy score:0.8053\n",
      "Test accuracy score:0.7228\n",
      "Execution time: 3.3392043113708496 seconds\n",
      "Number of components in PCA: 3\n",
      "Train accuracy score:0.9294\n",
      "Test accuracy score:0.8999\n",
      "Execution time: 3.3482840061187744 seconds\n",
      "Number of components in PCA: 4\n",
      "Train accuracy score:0.9664\n",
      "Test accuracy score:0.9427\n",
      "Execution time: 3.477348804473877 seconds\n",
      "Number of components in PCA: 5\n",
      "Train accuracy score:0.9762\n",
      "Test accuracy score:0.9521\n",
      "Execution time: 3.6572320461273193 seconds\n",
      "Number of components in PCA: 6\n",
      "Train accuracy score:0.9737\n",
      "Test accuracy score:0.9528\n",
      "Execution time: 3.5587408542633057 seconds\n",
      "Number of components in PCA: 7\n",
      "Train accuracy score:0.9597\n",
      "Test accuracy score:0.9369\n",
      "Execution time: 3.5730035305023193 seconds\n",
      "Number of components in PCA: 8\n",
      "Train accuracy score:0.9610\n",
      "Test accuracy score:0.9383\n",
      "Execution time: 3.496750593185425 seconds\n",
      "Number of components in PCA: 9\n",
      "Train accuracy score:0.9697\n",
      "Test accuracy score:0.9456\n",
      "Execution time: 3.2849533557891846 seconds\n",
      "Number of components in PCA: 10\n",
      "Train accuracy score:0.9710\n",
      "Test accuracy score:0.9485\n",
      "Execution time: 3.17490816116333 seconds\n",
      "Number of components in PCA: 11\n",
      "Train accuracy score:0.9742\n",
      "Test accuracy score:0.9565\n",
      "Execution time: 3.4835543632507324 seconds\n",
      "Number of components in PCA: 12\n",
      "Train accuracy score:0.9750\n",
      "Test accuracy score:0.9536\n",
      "Execution time: 3.155505418777466 seconds\n",
      "Number of components in PCA: 13\n",
      "Train accuracy score:0.9751\n",
      "Test accuracy score:0.9485\n",
      "Execution time: 3.0930213928222656 seconds\n",
      "Number of components in PCA: 14\n",
      "Train accuracy score:0.9753\n",
      "Test accuracy score:0.9536\n",
      "Execution time: 3.1555047035217285 seconds\n",
      "Number of components in PCA: 15\n",
      "Train accuracy score:0.9768\n",
      "Test accuracy score:0.9485\n",
      "Execution time: 3.1086416244506836 seconds\n",
      "Number of components in PCA: 16\n",
      "Train accuracy score:0.9761\n",
      "Test accuracy score:0.9492\n",
      "Execution time: 3.264857769012451 seconds\n",
      "Number of components in PCA: 17\n",
      "Train accuracy score:0.9761\n",
      "Test accuracy score:0.9492\n",
      "Execution time: 3.467951536178589 seconds\n",
      "Number of components in PCA: 18\n",
      "Train accuracy score:0.9751\n",
      "Test accuracy score:0.9514\n",
      "Execution time: 3.1554834842681885 seconds\n",
      "Number of components in PCA: 19\n",
      "Train accuracy score:0.9746\n",
      "Test accuracy score:0.9528\n",
      "Execution time: 3.2023701667785645 seconds\n",
      "Number of components in PCA: 20\n",
      "Train accuracy score:0.9748\n",
      "Test accuracy score:0.9543\n",
      "Execution time: 3.28049898147583 seconds\n",
      "Number of components in PCA: 21\n",
      "Train accuracy score:0.9751\n",
      "Test accuracy score:0.9536\n",
      "Execution time: 3.4522881507873535 seconds\n",
      "Number of components in PCA: 22\n",
      "Train accuracy score:0.9759\n",
      "Test accuracy score:0.9528\n",
      "Execution time: 3.1867706775665283 seconds\n",
      "Number of components in PCA: 23\n",
      "Train accuracy score:0.9771\n",
      "Test accuracy score:0.9572\n",
      "Execution time: 3.2804758548736572 seconds\n",
      "Number of components in PCA: 24\n",
      "Train accuracy score:0.9771\n",
      "Test accuracy score:0.9543\n",
      "Execution time: 3.3898262977600098 seconds\n",
      "Number of components in PCA: 25\n",
      "Train accuracy score:0.9797\n",
      "Test accuracy score:0.9565\n",
      "Execution time: 3.4835312366485596 seconds\n",
      "Number of components in PCA: 26\n",
      "Train accuracy score:0.9810\n",
      "Test accuracy score:0.9586\n",
      "Execution time: 3.46795392036438 seconds\n",
      "Number of components in PCA: 27\n",
      "Train accuracy score:0.9799\n",
      "Test accuracy score:0.9601\n",
      "Execution time: 3.3429386615753174 seconds\n",
      "Number of components in PCA: 28\n",
      "Train accuracy score:0.9800\n",
      "Test accuracy score:0.9623\n",
      "Execution time: 3.3898487091064453 seconds\n",
      "Number of components in PCA: 29\n",
      "Train accuracy score:0.9791\n",
      "Test accuracy score:0.9594\n",
      "Execution time: 3.592879056930542 seconds\n",
      "Number of components in PCA: 30\n",
      "Train accuracy score:0.9802\n",
      "Test accuracy score:0.9615\n",
      "Execution time: 3.4523119926452637 seconds\n",
      "Number of components in PCA: 31\n",
      "Train accuracy score:0.9800\n",
      "Test accuracy score:0.9579\n",
      "Execution time: 3.8897290229797363 seconds\n",
      "Number of components in PCA: 32\n",
      "Train accuracy score:0.9815\n",
      "Test accuracy score:0.9615\n",
      "Execution time: 3.733185052871704 seconds\n",
      "Number of components in PCA: 33\n",
      "Train accuracy score:0.9820\n",
      "Test accuracy score:0.9615\n",
      "Execution time: 3.902083396911621 seconds\n",
      "Number of components in PCA: 34\n",
      "Train accuracy score:0.9826\n",
      "Test accuracy score:0.9652\n",
      "Execution time: 3.603510856628418 seconds\n",
      "Number of components in PCA: 35\n",
      "Train accuracy score:0.9826\n",
      "Test accuracy score:0.9688\n",
      "Execution time: 4.045943021774292 seconds\n",
      "Number of components in PCA: 36\n",
      "Train accuracy score:0.9831\n",
      "Test accuracy score:0.9673\n",
      "Execution time: 3.773585081100464 seconds\n",
      "Number of components in PCA: 37\n",
      "Train accuracy score:0.9840\n",
      "Test accuracy score:0.9702\n",
      "Execution time: 4.301753044128418 seconds\n",
      "Number of components in PCA: 38\n",
      "Train accuracy score:0.9837\n",
      "Test accuracy score:0.9681\n",
      "Execution time: 4.3545496463775635 seconds\n",
      "Number of components in PCA: 39\n",
      "Train accuracy score:0.9842\n",
      "Test accuracy score:0.9702\n",
      "Execution time: 4.424947738647461 seconds\n",
      "Number of components in PCA: 40\n",
      "Train accuracy score:0.9846\n",
      "Test accuracy score:0.9695\n",
      "Execution time: 3.9623234272003174 seconds\n",
      "Number of components in PCA: 41\n",
      "Train accuracy score:0.9839\n",
      "Test accuracy score:0.9710\n",
      "Execution time: 3.8418772220611572 seconds\n",
      "Number of components in PCA: 42\n",
      "Train accuracy score:0.9842\n",
      "Test accuracy score:0.9702\n",
      "Execution time: 3.8166394233703613 seconds\n",
      "Number of components in PCA: 43\n",
      "Train accuracy score:0.9860\n",
      "Test accuracy score:0.9681\n",
      "Execution time: 4.347324371337891 seconds\n",
      "Number of components in PCA: 44\n",
      "Train accuracy score:0.9849\n",
      "Test accuracy score:0.9681\n",
      "Execution time: 4.179776430130005 seconds\n",
      "Number of components in PCA: 45\n",
      "Train accuracy score:0.9848\n",
      "Test accuracy score:0.9673\n",
      "Execution time: 4.2284393310546875 seconds\n",
      "Number of components in PCA: 46\n",
      "Train accuracy score:0.9844\n",
      "Test accuracy score:0.9673\n",
      "Execution time: 4.18568229675293 seconds\n",
      "Number of components in PCA: 47\n",
      "Train accuracy score:0.9848\n",
      "Test accuracy score:0.9695\n",
      "Execution time: 4.323009252548218 seconds\n",
      "Number of components in PCA: 48\n",
      "Train accuracy score:0.9837\n",
      "Test accuracy score:0.9702\n",
      "Execution time: 4.406756162643433 seconds\n",
      "Number of components in PCA: 49\n",
      "Train accuracy score:0.9833\n",
      "Test accuracy score:0.9681\n",
      "Execution time: 4.264469385147095 seconds\n",
      "Number of components in PCA: 50\n",
      "Train accuracy score:0.9839\n",
      "Test accuracy score:0.9688\n",
      "Execution time: 4.562329292297363 seconds\n",
      "Number of components in PCA: 51\n",
      "Train accuracy score:0.9819\n",
      "Test accuracy score:0.9681\n",
      "Execution time: 4.314292669296265 seconds\n",
      "Number of components in PCA: 52\n",
      "Train accuracy score:0.9835\n",
      "Test accuracy score:0.9673\n",
      "Execution time: 4.459061145782471 seconds\n",
      "Number of components in PCA: 53\n",
      "Train accuracy score:0.9831\n",
      "Test accuracy score:0.9681\n",
      "Execution time: 4.79259467124939 seconds\n",
      "Number of components in PCA: 54\n",
      "Train accuracy score:0.9824\n",
      "Test accuracy score:0.9681\n",
      "Execution time: 5.2350969314575195 seconds\n",
      "Number of components in PCA: 55\n",
      "Train accuracy score:0.9840\n",
      "Test accuracy score:0.9666\n",
      "Execution time: 4.782009124755859 seconds\n",
      "Number of components in PCA: 56\n",
      "Train accuracy score:0.9842\n",
      "Test accuracy score:0.9644\n",
      "Execution time: 5.048115491867065 seconds\n",
      "Number of components in PCA: 57\n",
      "Train accuracy score:0.9848\n",
      "Test accuracy score:0.9637\n",
      "Execution time: 5.3285253047943115 seconds\n",
      "Number of components in PCA: 58\n",
      "Train accuracy score:0.9851\n",
      "Test accuracy score:0.9681\n",
      "Execution time: 4.942165851593018 seconds\n",
      "Number of components in PCA: 59\n",
      "Train accuracy score:0.9857\n",
      "Test accuracy score:0.9688\n",
      "Execution time: 5.392193078994751 seconds\n",
      "Number of components in PCA: 60\n",
      "Train accuracy score:0.9853\n",
      "Test accuracy score:0.9695\n",
      "Execution time: 5.779698133468628 seconds\n",
      "Number of components in PCA: 61\n",
      "Train accuracy score:0.9853\n",
      "Test accuracy score:0.9695\n",
      "Execution time: 5.270980596542358 seconds\n",
      "Number of components in PCA: 62\n",
      "Train accuracy score:0.9839\n",
      "Test accuracy score:0.9702\n",
      "Execution time: 5.312912225723267 seconds\n",
      "Number of components in PCA: 63\n",
      "Train accuracy score:0.9840\n",
      "Test accuracy score:0.9666\n",
      "Execution time: 5.878353595733643 seconds\n",
      "Number of components in PCA: 64\n",
      "Train accuracy score:0.9839\n",
      "Test accuracy score:0.9666\n",
      "Execution time: 5.554622173309326 seconds\n"
     ]
    },
    {
     "name": "stdout",
     "output_type": "stream",
     "text": [
      "Number of components in PCA: 65\n",
      "Train accuracy score:0.9842\n",
      "Test accuracy score:0.9673\n",
      "Execution time: 5.674379587173462 seconds\n",
      "Number of components in PCA: 66\n",
      "Train accuracy score:0.9851\n",
      "Test accuracy score:0.9673\n",
      "Execution time: 6.059649229049683 seconds\n",
      "Number of components in PCA: 67\n",
      "Train accuracy score:0.9858\n",
      "Test accuracy score:0.9681\n",
      "Execution time: 6.771369934082031 seconds\n",
      "Number of components in PCA: 68\n",
      "Train accuracy score:0.9857\n",
      "Test accuracy score:0.9688\n",
      "Execution time: 6.233017683029175 seconds\n",
      "Number of components in PCA: 69\n",
      "Train accuracy score:0.9866\n",
      "Test accuracy score:0.9681\n",
      "Execution time: 6.026332855224609 seconds\n",
      "Number of components in PCA: 70\n",
      "Train accuracy score:0.9860\n",
      "Test accuracy score:0.9673\n",
      "Execution time: 6.031785726547241 seconds\n",
      "Number of components in PCA: 71\n",
      "Train accuracy score:0.9857\n",
      "Test accuracy score:0.9681\n",
      "Execution time: 6.475702285766602 seconds\n",
      "Number of components in PCA: 72\n",
      "Train accuracy score:0.9864\n",
      "Test accuracy score:0.9695\n",
      "Execution time: 6.054325580596924 seconds\n",
      "Number of components in PCA: 73\n",
      "Train accuracy score:0.9864\n",
      "Test accuracy score:0.9688\n",
      "Execution time: 6.56480073928833 seconds\n",
      "Number of components in PCA: 74\n",
      "Train accuracy score:0.9860\n",
      "Test accuracy score:0.9681\n",
      "Execution time: 6.175390720367432 seconds\n",
      "Number of components in PCA: 75\n",
      "Train accuracy score:0.9857\n",
      "Test accuracy score:0.9688\n",
      "Execution time: 6.463844060897827 seconds\n",
      "Number of components in PCA: 76\n",
      "Train accuracy score:0.9857\n",
      "Test accuracy score:0.9695\n",
      "Execution time: 6.873425006866455 seconds\n",
      "Number of components in PCA: 77\n",
      "Train accuracy score:0.9857\n",
      "Test accuracy score:0.9702\n",
      "Execution time: 6.51976466178894 seconds\n",
      "Number of components in PCA: 78\n",
      "Train accuracy score:0.9846\n",
      "Test accuracy score:0.9688\n",
      "Execution time: 7.032400846481323 seconds\n",
      "Number of components in PCA: 79\n",
      "Train accuracy score:0.9848\n",
      "Test accuracy score:0.9695\n",
      "Execution time: 6.951158046722412 seconds\n",
      "Number of components in PCA: 80\n",
      "Train accuracy score:0.9853\n",
      "Test accuracy score:0.9702\n",
      "Execution time: 7.476166725158691 seconds\n",
      "Number of components in PCA: 81\n",
      "Train accuracy score:0.9848\n",
      "Test accuracy score:0.9695\n",
      "Execution time: 7.156798362731934 seconds\n",
      "Number of components in PCA: 82\n",
      "Train accuracy score:0.9855\n",
      "Test accuracy score:0.9659\n",
      "Execution time: 7.202508449554443 seconds\n",
      "Number of components in PCA: 83\n",
      "Train accuracy score:0.9849\n",
      "Test accuracy score:0.9681\n",
      "Execution time: 7.604111194610596 seconds\n",
      "Number of components in PCA: 84\n",
      "Train accuracy score:0.9849\n",
      "Test accuracy score:0.9666\n",
      "Execution time: 7.429274320602417 seconds\n",
      "Number of components in PCA: 85\n",
      "Train accuracy score:0.9842\n",
      "Test accuracy score:0.9673\n",
      "Execution time: 7.992655515670776 seconds\n",
      "Number of components in PCA: 86\n",
      "Train accuracy score:0.9831\n",
      "Test accuracy score:0.9695\n",
      "Execution time: 7.65637469291687 seconds\n",
      "Number of components in PCA: 87\n",
      "Train accuracy score:0.9844\n",
      "Test accuracy score:0.9688\n",
      "Execution time: 8.085508346557617 seconds\n",
      "Number of components in PCA: 88\n",
      "Train accuracy score:0.9855\n",
      "Test accuracy score:0.9681\n",
      "Execution time: 7.9520814418792725 seconds\n",
      "Number of components in PCA: 89\n",
      "Train accuracy score:0.9853\n",
      "Test accuracy score:0.9659\n",
      "Execution time: 8.471649408340454 seconds\n",
      "Number of components in PCA: 90\n",
      "Train accuracy score:0.9862\n",
      "Test accuracy score:0.9666\n",
      "Execution time: 8.151553630828857 seconds\n",
      "Number of components in PCA: 91\n",
      "Train accuracy score:0.9858\n",
      "Test accuracy score:0.9659\n",
      "Execution time: 8.494943618774414 seconds\n",
      "Number of components in PCA: 92\n",
      "Train accuracy score:0.9860\n",
      "Test accuracy score:0.9652\n",
      "Execution time: 8.184366703033447 seconds\n",
      "Number of components in PCA: 93\n",
      "Train accuracy score:0.9868\n",
      "Test accuracy score:0.9666\n",
      "Execution time: 8.917695760726929 seconds\n",
      "Number of components in PCA: 94\n",
      "Train accuracy score:0.9860\n",
      "Test accuracy score:0.9652\n",
      "Execution time: 8.767767190933228 seconds\n",
      "Number of components in PCA: 95\n",
      "Train accuracy score:0.9868\n",
      "Test accuracy score:0.9644\n",
      "Execution time: 8.62945556640625 seconds\n",
      "Number of components in PCA: 96\n",
      "Train accuracy score:0.9857\n",
      "Test accuracy score:0.9630\n",
      "Execution time: 9.258931398391724 seconds\n",
      "Number of components in PCA: 97\n",
      "Train accuracy score:0.9848\n",
      "Test accuracy score:0.9652\n",
      "Execution time: 9.330475330352783 seconds\n",
      "Number of components in PCA: 98\n",
      "Train accuracy score:0.9849\n",
      "Test accuracy score:0.9644\n",
      "Execution time: 9.906238555908203 seconds\n",
      "Number of components in PCA: 99\n",
      "Train accuracy score:0.9846\n",
      "Test accuracy score:0.9659\n",
      "Execution time: 9.156367540359497 seconds\n",
      "Number of components in PCA: 100\n",
      "Train accuracy score:0.9846\n",
      "Test accuracy score:0.9652\n",
      "Execution time: 9.940956115722656 seconds\n"
     ]
    },
    {
     "data": {
      "image/png": "[encoded data removed]",
      "text/plain": [
       "<Figure size 432x288 with 1 Axes>"
      ]
     },
     "metadata": {
      "needs_background": "light"
     },
     "output_type": "display_data"
    }
   ],
   "source": [
    "#KNeighborsClassifier Model Running\n",
    "no_components = []\n",
    "train_accuracy_score = []\n",
    "test_accuracy_score = []\n",
    "execution_time = []\n",
    "import time\n",
    "\n",
    "for n in range (1,101,1):\n",
    "    st = time.time()\n",
    "    \n",
    "    n_components = n\n",
    "    pca=PCA(n_components=n_components, whiten=True)\n",
    "    pca.fit(X_train)\n",
    "    \n",
    "    X_train_pca=pca.transform(X_train)\n",
    "    X_test_pca=pca.transform(X_test)\n",
    "\n",
    "    clf = KNeighborsClassifier(n_neighbors=5) #change the model name here\n",
    "    clf.fit(X_train_pca, y_train)\n",
    "    y_pred = clf.predict(X_test_pca)\n",
    "    \n",
    "    y_train_pred = clf.predict(X_train_pca)\n",
    "    print(\"Number of components in PCA: {}\".format(n_components))\n",
    "    no_components.append(n_components)\n",
    "    print(\"Train accuracy score:{:.4f}\".format(metrics.accuracy_score(y_train, y_train_pred)))\n",
    "    train_accuracy_score.append(metrics.accuracy_score(y_train, y_train_pred))\n",
    "    print(\"Test accuracy score:{:.4f}\".format(metrics.accuracy_score(y_test, y_pred)))\n",
    "    test_accuracy_score.append((metrics.accuracy_score(y_test, y_pred)))\n",
    "    # get the end time\n",
    "    et = time.time()\n",
    "\n",
    "    # get the execution time\n",
    "    elapsed_time = et - st\n",
    "    print('Execution time:', elapsed_time, 'seconds')\n",
    "    execution_time.append(elapsed_time)\n",
    "\n",
    "import matplotlib.pyplot as plt\n",
    "\n",
    "plt.plot(no_components, train_accuracy_score, label = 'Training Accuracy Score')\n",
    "plt.plot(no_components, test_accuracy_score, label = 'Test Accuracy Score')          \n",
    "plt.xlabel('No of Component')\n",
    "plt.ylabel('Accuracy')\n",
    "plt.title('KNeighbors Classifier Model Performance')\n",
    "plt.legend()\n",
    "plt.show()\n",
    "\n",
    "#Transform and save data including train accuracy, test accuracy, and execution for analysis\n",
    "KNeighborsClassifierdf = pd.DataFrame(list(zip(train_accuracy_score, test_accuracy_score, execution_time)), columns =['Train accuracy', 'Test accuracy','Execution Time'], index = no_components )\n",
    "KNeighborsClassifierdf.head()\n",
    "KNeighborsClassifierdf.to_excel(\"KNeighborsClassifierdata.xlsx\")"
   ]
  },
  {
   "cell_type": "code",
   "execution_count": 17,
   "id": "877a6df6",
   "metadata": {},
   "outputs": [
    {
     "name": "stdout",
     "output_type": "stream",
     "text": [
      "Number of components in PCA: 1\n",
      "Train accuracy score:0.9991\n",
      "Test accuracy score:0.2823\n",
      "Execution time: 2.8575234413146973 seconds\n",
      "Number of components in PCA: 2\n",
      "Train accuracy score:0.9998\n",
      "Test accuracy score:0.6829\n",
      "Execution time: 2.687199115753174 seconds\n",
      "Number of components in PCA: 3\n",
      "Train accuracy score:0.9998\n",
      "Test accuracy score:0.8708\n",
      "Execution time: 3.168187379837036 seconds\n",
      "Number of components in PCA: 4\n",
      "Train accuracy score:0.9998\n",
      "Test accuracy score:0.9165\n",
      "Execution time: 2.694147825241089 seconds\n",
      "Number of components in PCA: 5\n",
      "Train accuracy score:0.9998\n",
      "Test accuracy score:0.9398\n",
      "Execution time: 2.7369914054870605 seconds\n",
      "Number of components in PCA: 6\n",
      "Train accuracy score:0.9998\n",
      "Test accuracy score:0.9405\n",
      "Execution time: 2.7326643466949463 seconds\n",
      "Number of components in PCA: 7\n",
      "Train accuracy score:0.9998\n",
      "Test accuracy score:0.9441\n",
      "Execution time: 2.764204263687134 seconds\n",
      "Number of components in PCA: 8\n",
      "Train accuracy score:0.9998\n",
      "Test accuracy score:0.9514\n",
      "Execution time: 2.953829288482666 seconds\n",
      "Number of components in PCA: 9\n",
      "Train accuracy score:0.9998\n",
      "Test accuracy score:0.9514\n",
      "Execution time: 2.9489989280700684 seconds\n",
      "Number of components in PCA: 10\n",
      "Train accuracy score:0.9998\n",
      "Test accuracy score:0.9514\n",
      "Execution time: 2.8713603019714355 seconds\n",
      "Number of components in PCA: 11\n",
      "Train accuracy score:0.9998\n",
      "Test accuracy score:0.9557\n",
      "Execution time: 2.9288253784179688 seconds\n",
      "Number of components in PCA: 12\n",
      "Train accuracy score:0.9998\n",
      "Test accuracy score:0.9601\n",
      "Execution time: 2.8719635009765625 seconds\n",
      "Number of components in PCA: 13\n",
      "Train accuracy score:0.9998\n",
      "Test accuracy score:0.9521\n",
      "Execution time: 2.9442334175109863 seconds\n",
      "Number of components in PCA: 14\n",
      "Train accuracy score:0.9998\n",
      "Test accuracy score:0.9514\n",
      "Execution time: 3.2149131298065186 seconds\n",
      "Number of components in PCA: 15\n",
      "Train accuracy score:0.9998\n",
      "Test accuracy score:0.9514\n",
      "Execution time: 2.9487552642822266 seconds\n",
      "Number of components in PCA: 16\n",
      "Train accuracy score:0.9998\n",
      "Test accuracy score:0.9478\n",
      "Execution time: 3.060995101928711 seconds\n",
      "Number of components in PCA: 17\n",
      "Train accuracy score:0.9998\n",
      "Test accuracy score:0.9543\n",
      "Execution time: 3.1580445766448975 seconds\n",
      "Number of components in PCA: 18\n",
      "Train accuracy score:0.9998\n",
      "Test accuracy score:0.9470\n",
      "Execution time: 3.1203103065490723 seconds\n",
      "Number of components in PCA: 19\n",
      "Train accuracy score:0.9998\n",
      "Test accuracy score:0.9441\n",
      "Execution time: 3.2863686084747314 seconds\n",
      "Number of components in PCA: 20\n",
      "Train accuracy score:0.9998\n",
      "Test accuracy score:0.9441\n",
      "Execution time: 3.080775022506714 seconds\n",
      "Number of components in PCA: 21\n",
      "Train accuracy score:0.9998\n",
      "Test accuracy score:0.9478\n",
      "Execution time: 3.3165104389190674 seconds\n",
      "Number of components in PCA: 22\n",
      "Train accuracy score:0.9998\n",
      "Test accuracy score:0.9427\n",
      "Execution time: 3.1848134994506836 seconds\n",
      "Number of components in PCA: 23\n",
      "Train accuracy score:0.9998\n",
      "Test accuracy score:0.9521\n",
      "Execution time: 3.2204232215881348 seconds\n",
      "Number of components in PCA: 24\n",
      "Train accuracy score:0.9998\n",
      "Test accuracy score:0.9528\n",
      "Execution time: 3.4843709468841553 seconds\n",
      "Number of components in PCA: 25\n",
      "Train accuracy score:0.9998\n",
      "Test accuracy score:0.9492\n",
      "Execution time: 3.2638094425201416 seconds\n",
      "Number of components in PCA: 26\n",
      "Train accuracy score:0.9998\n",
      "Test accuracy score:0.9550\n",
      "Execution time: 3.2676234245300293 seconds\n",
      "Number of components in PCA: 27\n",
      "Train accuracy score:0.9998\n",
      "Test accuracy score:0.9565\n",
      "Execution time: 3.3281049728393555 seconds\n",
      "Number of components in PCA: 28\n",
      "Train accuracy score:0.9998\n",
      "Test accuracy score:0.9521\n",
      "Execution time: 3.363524913787842 seconds\n",
      "Number of components in PCA: 29\n",
      "Train accuracy score:0.9998\n",
      "Test accuracy score:0.9456\n",
      "Execution time: 3.708862066268921 seconds\n",
      "Number of components in PCA: 30\n",
      "Train accuracy score:0.9998\n",
      "Test accuracy score:0.9514\n",
      "Execution time: 3.248579978942871 seconds\n",
      "Number of components in PCA: 31\n",
      "Train accuracy score:0.9998\n",
      "Test accuracy score:0.9514\n",
      "Execution time: 3.679226875305176 seconds\n",
      "Number of components in PCA: 32\n",
      "Train accuracy score:0.9998\n",
      "Test accuracy score:0.9572\n",
      "Execution time: 3.6312081813812256 seconds\n",
      "Number of components in PCA: 33\n",
      "Train accuracy score:0.9998\n",
      "Test accuracy score:0.9543\n",
      "Execution time: 3.6535983085632324 seconds\n",
      "Number of components in PCA: 34\n",
      "Train accuracy score:0.9998\n",
      "Test accuracy score:0.9528\n",
      "Execution time: 3.8482608795166016 seconds\n",
      "Number of components in PCA: 35\n",
      "Train accuracy score:0.9998\n",
      "Test accuracy score:0.9507\n",
      "Execution time: 3.7995219230651855 seconds\n",
      "Number of components in PCA: 36\n",
      "Train accuracy score:0.9998\n",
      "Test accuracy score:0.9521\n",
      "Execution time: 4.112975597381592 seconds\n",
      "Number of components in PCA: 37\n",
      "Train accuracy score:0.9998\n",
      "Test accuracy score:0.9463\n",
      "Execution time: 4.062921524047852 seconds\n",
      "Number of components in PCA: 38\n",
      "Train accuracy score:0.9998\n",
      "Test accuracy score:0.9485\n",
      "Execution time: 3.7165329456329346 seconds\n",
      "Number of components in PCA: 39\n",
      "Train accuracy score:0.9998\n",
      "Test accuracy score:0.9492\n",
      "Execution time: 3.6404149532318115 seconds\n",
      "Number of components in PCA: 40\n",
      "Train accuracy score:0.9998\n",
      "Test accuracy score:0.9492\n",
      "Execution time: 3.6093451976776123 seconds\n",
      "Number of components in PCA: 41\n",
      "Train accuracy score:0.9998\n",
      "Test accuracy score:0.9514\n",
      "Execution time: 3.552476644515991 seconds\n",
      "Number of components in PCA: 42\n",
      "Train accuracy score:0.9998\n",
      "Test accuracy score:0.9499\n",
      "Execution time: 4.0346550941467285 seconds\n",
      "Number of components in PCA: 43\n",
      "Train accuracy score:0.9998\n",
      "Test accuracy score:0.9543\n",
      "Execution time: 3.7216947078704834 seconds\n",
      "Number of components in PCA: 44\n",
      "Train accuracy score:0.9998\n",
      "Test accuracy score:0.9536\n",
      "Execution time: 3.8417391777038574 seconds\n",
      "Number of components in PCA: 45\n",
      "Train accuracy score:0.9998\n",
      "Test accuracy score:0.9485\n",
      "Execution time: 3.801406145095825 seconds\n",
      "Number of components in PCA: 46\n",
      "Train accuracy score:0.9998\n",
      "Test accuracy score:0.9485\n",
      "Execution time: 4.127690553665161 seconds\n",
      "Number of components in PCA: 47\n",
      "Train accuracy score:0.9998\n",
      "Test accuracy score:0.9514\n",
      "Execution time: 3.711573600769043 seconds\n",
      "Number of components in PCA: 48\n",
      "Train accuracy score:0.9998\n",
      "Test accuracy score:0.9456\n",
      "Execution time: 3.7615301609039307 seconds\n",
      "Number of components in PCA: 49\n",
      "Train accuracy score:0.9998\n",
      "Test accuracy score:0.9565\n",
      "Execution time: 3.766662359237671 seconds\n",
      "Number of components in PCA: 50\n",
      "Train accuracy score:0.9998\n",
      "Test accuracy score:0.9478\n",
      "Execution time: 3.998950481414795 seconds\n",
      "Number of components in PCA: 51\n",
      "Train accuracy score:0.9998\n",
      "Test accuracy score:0.9514\n",
      "Execution time: 3.938366174697876 seconds\n",
      "Number of components in PCA: 52\n",
      "Train accuracy score:0.9998\n",
      "Test accuracy score:0.9565\n",
      "Execution time: 4.027201414108276 seconds\n",
      "Number of components in PCA: 53\n",
      "Train accuracy score:0.9998\n",
      "Test accuracy score:0.9448\n",
      "Execution time: 3.9759905338287354 seconds\n",
      "Number of components in PCA: 54\n",
      "Train accuracy score:0.9998\n",
      "Test accuracy score:0.9557\n",
      "Execution time: 4.290539026260376 seconds\n",
      "Number of components in PCA: 55\n",
      "Train accuracy score:0.9998\n",
      "Test accuracy score:0.9507\n",
      "Execution time: 3.9875173568725586 seconds\n",
      "Number of components in PCA: 56\n",
      "Train accuracy score:0.9998\n",
      "Test accuracy score:0.9550\n",
      "Execution time: 4.042748928070068 seconds\n",
      "Number of components in PCA: 57\n",
      "Train accuracy score:0.9998\n",
      "Test accuracy score:0.9514\n",
      "Execution time: 4.01816463470459 seconds\n",
      "Number of components in PCA: 58\n",
      "Train accuracy score:0.9998\n",
      "Test accuracy score:0.9543\n",
      "Execution time: 4.4380433559417725 seconds\n",
      "Number of components in PCA: 59\n",
      "Train accuracy score:0.9998\n",
      "Test accuracy score:0.9499\n",
      "Execution time: 4.3551459312438965 seconds\n",
      "Number of components in PCA: 60\n",
      "Train accuracy score:0.9998\n",
      "Test accuracy score:0.9448\n",
      "Execution time: 4.1929543018341064 seconds\n",
      "Number of components in PCA: 61\n",
      "Train accuracy score:0.9998\n",
      "Test accuracy score:0.9485\n",
      "Execution time: 4.293740510940552 seconds\n",
      "Number of components in PCA: 62\n",
      "Train accuracy score:0.9998\n",
      "Test accuracy score:0.9507\n",
      "Execution time: 4.506001949310303 seconds\n",
      "Number of components in PCA: 63\n",
      "Train accuracy score:0.9998\n",
      "Test accuracy score:0.9521\n",
      "Execution time: 4.292791128158569 seconds\n",
      "Number of components in PCA: 64\n",
      "Train accuracy score:0.9998\n",
      "Test accuracy score:0.9470\n",
      "Execution time: 4.237462282180786 seconds\n"
     ]
    },
    {
     "name": "stdout",
     "output_type": "stream",
     "text": [
      "Number of components in PCA: 65\n",
      "Train accuracy score:0.9998\n",
      "Test accuracy score:0.9478\n",
      "Execution time: 4.450871467590332 seconds\n",
      "Number of components in PCA: 66\n",
      "Train accuracy score:0.9998\n",
      "Test accuracy score:0.9441\n",
      "Execution time: 4.402303695678711 seconds\n",
      "Number of components in PCA: 67\n",
      "Train accuracy score:0.9998\n",
      "Test accuracy score:0.9514\n",
      "Execution time: 4.525568246841431 seconds\n",
      "Number of components in PCA: 68\n",
      "Train accuracy score:0.9998\n",
      "Test accuracy score:0.9456\n",
      "Execution time: 4.436471462249756 seconds\n",
      "Number of components in PCA: 69\n",
      "Train accuracy score:0.9998\n",
      "Test accuracy score:0.9441\n",
      "Execution time: 4.801804542541504 seconds\n",
      "Number of components in PCA: 70\n",
      "Train accuracy score:0.9998\n",
      "Test accuracy score:0.9492\n",
      "Execution time: 4.44810938835144 seconds\n",
      "Number of components in PCA: 71\n",
      "Train accuracy score:0.9998\n",
      "Test accuracy score:0.9470\n",
      "Execution time: 4.433368682861328 seconds\n",
      "Number of components in PCA: 72\n",
      "Train accuracy score:0.9998\n",
      "Test accuracy score:0.9427\n",
      "Execution time: 4.698819398880005 seconds\n",
      "Number of components in PCA: 73\n",
      "Train accuracy score:0.9998\n",
      "Test accuracy score:0.9507\n",
      "Execution time: 4.605976581573486 seconds\n",
      "Number of components in PCA: 74\n",
      "Train accuracy score:0.9998\n",
      "Test accuracy score:0.9572\n",
      "Execution time: 4.44297194480896 seconds\n",
      "Number of components in PCA: 75\n",
      "Train accuracy score:0.9998\n",
      "Test accuracy score:0.9478\n",
      "Execution time: 4.748464822769165 seconds\n",
      "Number of components in PCA: 76\n",
      "Train accuracy score:0.9998\n",
      "Test accuracy score:0.9557\n",
      "Execution time: 5.508906602859497 seconds\n",
      "Number of components in PCA: 77\n",
      "Train accuracy score:0.9998\n",
      "Test accuracy score:0.9499\n",
      "Execution time: 5.30313515663147 seconds\n",
      "Number of components in PCA: 78\n",
      "Train accuracy score:0.9998\n",
      "Test accuracy score:0.9507\n",
      "Execution time: 5.180596590042114 seconds\n",
      "Number of components in PCA: 79\n",
      "Train accuracy score:0.9998\n",
      "Test accuracy score:0.9521\n",
      "Execution time: 5.272311449050903 seconds\n",
      "Number of components in PCA: 80\n",
      "Train accuracy score:0.9998\n",
      "Test accuracy score:0.9557\n",
      "Execution time: 4.924148321151733 seconds\n",
      "Number of components in PCA: 81\n",
      "Train accuracy score:0.9998\n",
      "Test accuracy score:0.9514\n",
      "Execution time: 4.913022518157959 seconds\n",
      "Number of components in PCA: 82\n",
      "Train accuracy score:0.9998\n",
      "Test accuracy score:0.9514\n",
      "Execution time: 4.930760622024536 seconds\n",
      "Number of components in PCA: 83\n",
      "Train accuracy score:0.9998\n",
      "Test accuracy score:0.9536\n",
      "Execution time: 4.942037582397461 seconds\n",
      "Number of components in PCA: 84\n",
      "Train accuracy score:0.9998\n",
      "Test accuracy score:0.9536\n",
      "Execution time: 4.906200647354126 seconds\n",
      "Number of components in PCA: 85\n",
      "Train accuracy score:0.9998\n",
      "Test accuracy score:0.9470\n",
      "Execution time: 5.127497911453247 seconds\n",
      "Number of components in PCA: 86\n",
      "Train accuracy score:0.9998\n",
      "Test accuracy score:0.9478\n",
      "Execution time: 4.922555208206177 seconds\n",
      "Number of components in PCA: 87\n",
      "Train accuracy score:0.9998\n",
      "Test accuracy score:0.9485\n",
      "Execution time: 4.855962038040161 seconds\n",
      "Number of components in PCA: 88\n",
      "Train accuracy score:0.9998\n",
      "Test accuracy score:0.9514\n",
      "Execution time: 5.173944711685181 seconds\n",
      "Number of components in PCA: 89\n",
      "Train accuracy score:0.9998\n",
      "Test accuracy score:0.9463\n",
      "Execution time: 5.151434421539307 seconds\n",
      "Number of components in PCA: 90\n",
      "Train accuracy score:0.9998\n",
      "Test accuracy score:0.9514\n",
      "Execution time: 5.1661224365234375 seconds\n",
      "Number of components in PCA: 91\n",
      "Train accuracy score:0.9998\n",
      "Test accuracy score:0.9528\n",
      "Execution time: 5.2743449211120605 seconds\n",
      "Number of components in PCA: 92\n",
      "Train accuracy score:0.9998\n",
      "Test accuracy score:0.9485\n",
      "Execution time: 5.283905029296875 seconds\n",
      "Number of components in PCA: 93\n",
      "Train accuracy score:0.9998\n",
      "Test accuracy score:0.9528\n",
      "Execution time: 5.263793706893921 seconds\n",
      "Number of components in PCA: 94\n",
      "Train accuracy score:0.9998\n",
      "Test accuracy score:0.9507\n",
      "Execution time: 5.1421287059783936 seconds\n",
      "Number of components in PCA: 95\n",
      "Train accuracy score:0.9998\n",
      "Test accuracy score:0.9499\n",
      "Execution time: 5.524410009384155 seconds\n",
      "Number of components in PCA: 96\n",
      "Train accuracy score:0.9998\n",
      "Test accuracy score:0.9536\n",
      "Execution time: 5.390978813171387 seconds\n",
      "Number of components in PCA: 97\n",
      "Train accuracy score:0.9998\n",
      "Test accuracy score:0.9507\n",
      "Execution time: 5.461852788925171 seconds\n",
      "Number of components in PCA: 98\n",
      "Train accuracy score:0.9998\n",
      "Test accuracy score:0.9528\n",
      "Execution time: 5.377800703048706 seconds\n",
      "Number of components in PCA: 99\n",
      "Train accuracy score:0.9998\n",
      "Test accuracy score:0.9463\n",
      "Execution time: 5.663971662521362 seconds\n",
      "Number of components in PCA: 100\n",
      "Train accuracy score:0.9998\n",
      "Test accuracy score:0.9485\n",
      "Execution time: 5.458799600601196 seconds\n"
     ]
    },
    {
     "data": {
      "image/png": "[encoded data removed]",
      "text/plain": [
       "<Figure size 432x288 with 1 Axes>"
      ]
     },
     "metadata": {
      "needs_background": "light"
     },
     "output_type": "display_data"
    }
   ],
   "source": [
    "#DecisionTreeClassifier Model Running\n",
    "no_components = []\n",
    "train_accuracy_score = []\n",
    "test_accuracy_score = []\n",
    "execution_time = []\n",
    "import time\n",
    "\n",
    "for n in range (1,101,1):\n",
    "    st = time.time()\n",
    "    \n",
    "    n_components = n\n",
    "    pca=PCA(n_components=n_components, whiten=True)\n",
    "    pca.fit(X_train)\n",
    "    \n",
    "    X_train_pca=pca.transform(X_train)\n",
    "    X_test_pca=pca.transform(X_test)\n",
    "\n",
    "    clf = DecisionTreeClassifier() #change the model name here\n",
    "    clf.fit(X_train_pca, y_train)\n",
    "    y_pred = clf.predict(X_test_pca)\n",
    "    \n",
    "    y_train_pred = clf.predict(X_train_pca)\n",
    "    print(\"Number of components in PCA: {}\".format(n_components))\n",
    "    no_components.append(n_components)\n",
    "    print(\"Train accuracy score:{:.4f}\".format(metrics.accuracy_score(y_train, y_train_pred)))\n",
    "    train_accuracy_score.append(metrics.accuracy_score(y_train, y_train_pred))\n",
    "    print(\"Test accuracy score:{:.4f}\".format(metrics.accuracy_score(y_test, y_pred)))\n",
    "    test_accuracy_score.append((metrics.accuracy_score(y_test, y_pred)))\n",
    "    # get the end time\n",
    "    et = time.time()\n",
    "\n",
    "    # get the execution time\n",
    "    elapsed_time = et - st\n",
    "    print('Execution time:', elapsed_time, 'seconds')\n",
    "    execution_time.append(elapsed_time)\n",
    "\n",
    "import matplotlib.pyplot as plt\n",
    "\n",
    "plt.plot(no_components, train_accuracy_score, label = 'Training Accuracy Score')\n",
    "plt.plot(no_components, test_accuracy_score, label = 'Test Accuracy Score')          \n",
    "plt.xlabel('No of Component')\n",
    "plt.ylabel('Accuracy')\n",
    "plt.title('DecisionTreeClassifier Model Performance')\n",
    "plt.legend()\n",
    "plt.show()\n",
    "\n",
    "#Transform and save data including train accuracy, test accuracy, and execution for analysis\n",
    "DecisionTreeClassifierdf = pd.DataFrame(list(zip(train_accuracy_score, test_accuracy_score, execution_time)), columns =['Train accuracy', 'Test accuracy','Execution Time'], index = no_components )\n",
    "DecisionTreeClassifierdf.head()\n",
    "DecisionTreeClassifierdf.to_excel(\"DecisionTreeClassifierdata.xlsx\")"
   ]
  },
  {
   "cell_type": "code",
   "execution_count": 18,
   "id": "0709cf12",
   "metadata": {},
   "outputs": [
    {
     "name": "stderr",
     "output_type": "stream",
     "text": [
      "C:\\ProgramData\\Anaconda3\\lib\\site-packages\\sklearn\\svm\\base.py:193: FutureWarning: The default value of gamma will change from 'auto' to 'scale' in version 0.22 to account better for unscaled features. Set gamma explicitly to 'auto' or 'scale' to avoid this warning.\n",
      "  \"avoid this warning.\", FutureWarning)\n"
     ]
    },
    {
     "name": "stdout",
     "output_type": "stream",
     "text": [
      "Number of components in PCA: 1\n",
      "Train accuracy score:0.1805\n",
      "Test accuracy score:0.1800\n",
      "Execution time: 5.40037989616394 seconds\n"
     ]
    },
    {
     "name": "stderr",
     "output_type": "stream",
     "text": [
      "C:\\ProgramData\\Anaconda3\\lib\\site-packages\\sklearn\\svm\\base.py:193: FutureWarning: The default value of gamma will change from 'auto' to 'scale' in version 0.22 to account better for unscaled features. Set gamma explicitly to 'auto' or 'scale' to avoid this warning.\n",
      "  \"avoid this warning.\", FutureWarning)\n"
     ]
    },
    {
     "name": "stdout",
     "output_type": "stream",
     "text": [
      "Number of components in PCA: 2\n",
      "Train accuracy score:0.3480\n",
      "Test accuracy score:0.3200\n",
      "Execution time: 5.372357368469238 seconds\n"
     ]
    },
    {
     "name": "stderr",
     "output_type": "stream",
     "text": [
      "C:\\ProgramData\\Anaconda3\\lib\\site-packages\\sklearn\\svm\\base.py:193: FutureWarning: The default value of gamma will change from 'auto' to 'scale' in version 0.22 to account better for unscaled features. Set gamma explicitly to 'auto' or 'scale' to avoid this warning.\n",
      "  \"avoid this warning.\", FutureWarning)\n"
     ]
    },
    {
     "name": "stdout",
     "output_type": "stream",
     "text": [
      "Number of components in PCA: 3\n",
      "Train accuracy score:0.5492\n",
      "Test accuracy score:0.5356\n",
      "Execution time: 5.329525470733643 seconds\n"
     ]
    },
    {
     "name": "stderr",
     "output_type": "stream",
     "text": [
      "C:\\ProgramData\\Anaconda3\\lib\\site-packages\\sklearn\\svm\\base.py:193: FutureWarning: The default value of gamma will change from 'auto' to 'scale' in version 0.22 to account better for unscaled features. Set gamma explicitly to 'auto' or 'scale' to avoid this warning.\n",
      "  \"avoid this warning.\", FutureWarning)\n"
     ]
    },
    {
     "name": "stdout",
     "output_type": "stream",
     "text": [
      "Number of components in PCA: 4\n",
      "Train accuracy score:0.6580\n",
      "Test accuracy score:0.6488\n",
      "Execution time: 4.891052484512329 seconds\n"
     ]
    },
    {
     "name": "stderr",
     "output_type": "stream",
     "text": [
      "C:\\ProgramData\\Anaconda3\\lib\\site-packages\\sklearn\\svm\\base.py:193: FutureWarning: The default value of gamma will change from 'auto' to 'scale' in version 0.22 to account better for unscaled features. Set gamma explicitly to 'auto' or 'scale' to avoid this warning.\n",
      "  \"avoid this warning.\", FutureWarning)\n"
     ]
    },
    {
     "name": "stdout",
     "output_type": "stream",
     "text": [
      "Number of components in PCA: 5\n",
      "Train accuracy score:0.7333\n",
      "Test accuracy score:0.7279\n",
      "Execution time: 4.90035605430603 seconds\n"
     ]
    },
    {
     "name": "stderr",
     "output_type": "stream",
     "text": [
      "C:\\ProgramData\\Anaconda3\\lib\\site-packages\\sklearn\\svm\\base.py:193: FutureWarning: The default value of gamma will change from 'auto' to 'scale' in version 0.22 to account better for unscaled features. Set gamma explicitly to 'auto' or 'scale' to avoid this warning.\n",
      "  \"avoid this warning.\", FutureWarning)\n"
     ]
    },
    {
     "name": "stdout",
     "output_type": "stream",
     "text": [
      "Number of components in PCA: 6\n",
      "Train accuracy score:0.7743\n",
      "Test accuracy score:0.7758\n",
      "Execution time: 4.838029623031616 seconds\n"
     ]
    },
    {
     "name": "stderr",
     "output_type": "stream",
     "text": [
      "C:\\ProgramData\\Anaconda3\\lib\\site-packages\\sklearn\\svm\\base.py:193: FutureWarning: The default value of gamma will change from 'auto' to 'scale' in version 0.22 to account better for unscaled features. Set gamma explicitly to 'auto' or 'scale' to avoid this warning.\n",
      "  \"avoid this warning.\", FutureWarning)\n"
     ]
    },
    {
     "name": "stdout",
     "output_type": "stream",
     "text": [
      "Number of components in PCA: 7\n",
      "Train accuracy score:0.8300\n",
      "Test accuracy score:0.8237\n",
      "Execution time: 5.085769414901733 seconds\n"
     ]
    },
    {
     "name": "stderr",
     "output_type": "stream",
     "text": [
      "C:\\ProgramData\\Anaconda3\\lib\\site-packages\\sklearn\\svm\\base.py:193: FutureWarning: The default value of gamma will change from 'auto' to 'scale' in version 0.22 to account better for unscaled features. Set gamma explicitly to 'auto' or 'scale' to avoid this warning.\n",
      "  \"avoid this warning.\", FutureWarning)\n"
     ]
    },
    {
     "name": "stdout",
     "output_type": "stream",
     "text": [
      "Number of components in PCA: 8\n",
      "Train accuracy score:0.8505\n",
      "Test accuracy score:0.8433\n",
      "Execution time: 4.818393230438232 seconds\n"
     ]
    },
    {
     "name": "stderr",
     "output_type": "stream",
     "text": [
      "C:\\ProgramData\\Anaconda3\\lib\\site-packages\\sklearn\\svm\\base.py:193: FutureWarning: The default value of gamma will change from 'auto' to 'scale' in version 0.22 to account better for unscaled features. Set gamma explicitly to 'auto' or 'scale' to avoid this warning.\n",
      "  \"avoid this warning.\", FutureWarning)\n"
     ]
    },
    {
     "name": "stdout",
     "output_type": "stream",
     "text": [
      "Number of components in PCA: 9\n",
      "Train accuracy score:0.8752\n",
      "Test accuracy score:0.8672\n",
      "Execution time: 4.671154260635376 seconds\n"
     ]
    },
    {
     "name": "stderr",
     "output_type": "stream",
     "text": [
      "C:\\ProgramData\\Anaconda3\\lib\\site-packages\\sklearn\\svm\\base.py:193: FutureWarning: The default value of gamma will change from 'auto' to 'scale' in version 0.22 to account better for unscaled features. Set gamma explicitly to 'auto' or 'scale' to avoid this warning.\n",
      "  \"avoid this warning.\", FutureWarning)\n"
     ]
    },
    {
     "name": "stdout",
     "output_type": "stream",
     "text": [
      "Number of components in PCA: 10\n",
      "Train accuracy score:0.8962\n",
      "Test accuracy score:0.8853\n",
      "Execution time: 4.817966938018799 seconds\n"
     ]
    },
    {
     "name": "stderr",
     "output_type": "stream",
     "text": [
      "C:\\ProgramData\\Anaconda3\\lib\\site-packages\\sklearn\\svm\\base.py:193: FutureWarning: The default value of gamma will change from 'auto' to 'scale' in version 0.22 to account better for unscaled features. Set gamma explicitly to 'auto' or 'scale' to avoid this warning.\n",
      "  \"avoid this warning.\", FutureWarning)\n"
     ]
    },
    {
     "name": "stdout",
     "output_type": "stream",
     "text": [
      "Number of components in PCA: 11\n",
      "Train accuracy score:0.9082\n",
      "Test accuracy score:0.8926\n",
      "Execution time: 4.637293577194214 seconds\n"
     ]
    },
    {
     "name": "stderr",
     "output_type": "stream",
     "text": [
      "C:\\ProgramData\\Anaconda3\\lib\\site-packages\\sklearn\\svm\\base.py:193: FutureWarning: The default value of gamma will change from 'auto' to 'scale' in version 0.22 to account better for unscaled features. Set gamma explicitly to 'auto' or 'scale' to avoid this warning.\n",
      "  \"avoid this warning.\", FutureWarning)\n"
     ]
    },
    {
     "name": "stdout",
     "output_type": "stream",
     "text": [
      "Number of components in PCA: 12\n",
      "Train accuracy score:0.9144\n",
      "Test accuracy score:0.8977\n",
      "Execution time: 4.671064376831055 seconds\n"
     ]
    },
    {
     "name": "stderr",
     "output_type": "stream",
     "text": [
      "C:\\ProgramData\\Anaconda3\\lib\\site-packages\\sklearn\\svm\\base.py:193: FutureWarning: The default value of gamma will change from 'auto' to 'scale' in version 0.22 to account better for unscaled features. Set gamma explicitly to 'auto' or 'scale' to avoid this warning.\n",
      "  \"avoid this warning.\", FutureWarning)\n"
     ]
    },
    {
     "name": "stdout",
     "output_type": "stream",
     "text": [
      "Number of components in PCA: 13\n",
      "Train accuracy score:0.9185\n",
      "Test accuracy score:0.9042\n",
      "Execution time: 4.694633960723877 seconds\n"
     ]
    },
    {
     "name": "stderr",
     "output_type": "stream",
     "text": [
      "C:\\ProgramData\\Anaconda3\\lib\\site-packages\\sklearn\\svm\\base.py:193: FutureWarning: The default value of gamma will change from 'auto' to 'scale' in version 0.22 to account better for unscaled features. Set gamma explicitly to 'auto' or 'scale' to avoid this warning.\n",
      "  \"avoid this warning.\", FutureWarning)\n"
     ]
    },
    {
     "name": "stdout",
     "output_type": "stream",
     "text": [
      "Number of components in PCA: 14\n",
      "Train accuracy score:0.9202\n",
      "Test accuracy score:0.9028\n",
      "Execution time: 4.55621862411499 seconds\n"
     ]
    },
    {
     "name": "stderr",
     "output_type": "stream",
     "text": [
      "C:\\ProgramData\\Anaconda3\\lib\\site-packages\\sklearn\\svm\\base.py:193: FutureWarning: The default value of gamma will change from 'auto' to 'scale' in version 0.22 to account better for unscaled features. Set gamma explicitly to 'auto' or 'scale' to avoid this warning.\n",
      "  \"avoid this warning.\", FutureWarning)\n"
     ]
    },
    {
     "name": "stdout",
     "output_type": "stream",
     "text": [
      "Number of components in PCA: 15\n",
      "Train accuracy score:0.9227\n",
      "Test accuracy score:0.8999\n",
      "Execution time: 4.601243734359741 seconds\n"
     ]
    },
    {
     "name": "stderr",
     "output_type": "stream",
     "text": [
      "C:\\ProgramData\\Anaconda3\\lib\\site-packages\\sklearn\\svm\\base.py:193: FutureWarning: The default value of gamma will change from 'auto' to 'scale' in version 0.22 to account better for unscaled features. Set gamma explicitly to 'auto' or 'scale' to avoid this warning.\n",
      "  \"avoid this warning.\", FutureWarning)\n"
     ]
    },
    {
     "name": "stdout",
     "output_type": "stream",
     "text": [
      "Number of components in PCA: 16\n",
      "Train accuracy score:0.9202\n",
      "Test accuracy score:0.9035\n",
      "Execution time: 4.679424047470093 seconds\n"
     ]
    },
    {
     "name": "stderr",
     "output_type": "stream",
     "text": [
      "C:\\ProgramData\\Anaconda3\\lib\\site-packages\\sklearn\\svm\\base.py:193: FutureWarning: The default value of gamma will change from 'auto' to 'scale' in version 0.22 to account better for unscaled features. Set gamma explicitly to 'auto' or 'scale' to avoid this warning.\n",
      "  \"avoid this warning.\", FutureWarning)\n"
     ]
    },
    {
     "name": "stdout",
     "output_type": "stream",
     "text": [
      "Number of components in PCA: 17\n",
      "Train accuracy score:0.9260\n",
      "Test accuracy score:0.9129\n",
      "Execution time: 4.934103727340698 seconds\n"
     ]
    },
    {
     "name": "stderr",
     "output_type": "stream",
     "text": [
      "C:\\ProgramData\\Anaconda3\\lib\\site-packages\\sklearn\\svm\\base.py:193: FutureWarning: The default value of gamma will change from 'auto' to 'scale' in version 0.22 to account better for unscaled features. Set gamma explicitly to 'auto' or 'scale' to avoid this warning.\n",
      "  \"avoid this warning.\", FutureWarning)\n"
     ]
    },
    {
     "name": "stdout",
     "output_type": "stream",
     "text": [
      "Number of components in PCA: 18\n",
      "Train accuracy score:0.9291\n",
      "Test accuracy score:0.9158\n",
      "Execution time: 5.231716871261597 seconds\n"
     ]
    },
    {
     "name": "stderr",
     "output_type": "stream",
     "text": [
      "C:\\ProgramData\\Anaconda3\\lib\\site-packages\\sklearn\\svm\\base.py:193: FutureWarning: The default value of gamma will change from 'auto' to 'scale' in version 0.22 to account better for unscaled features. Set gamma explicitly to 'auto' or 'scale' to avoid this warning.\n",
      "  \"avoid this warning.\", FutureWarning)\n"
     ]
    },
    {
     "name": "stdout",
     "output_type": "stream",
     "text": [
      "Number of components in PCA: 19\n",
      "Train accuracy score:0.9256\n",
      "Test accuracy score:0.9165\n",
      "Execution time: 4.854329586029053 seconds\n"
     ]
    },
    {
     "name": "stderr",
     "output_type": "stream",
     "text": [
      "C:\\ProgramData\\Anaconda3\\lib\\site-packages\\sklearn\\svm\\base.py:193: FutureWarning: The default value of gamma will change from 'auto' to 'scale' in version 0.22 to account better for unscaled features. Set gamma explicitly to 'auto' or 'scale' to avoid this warning.\n",
      "  \"avoid this warning.\", FutureWarning)\n"
     ]
    },
    {
     "name": "stdout",
     "output_type": "stream",
     "text": [
      "Number of components in PCA: 20\n",
      "Train accuracy score:0.9256\n",
      "Test accuracy score:0.9151\n",
      "Execution time: 5.13068962097168 seconds\n"
     ]
    },
    {
     "name": "stderr",
     "output_type": "stream",
     "text": [
      "C:\\ProgramData\\Anaconda3\\lib\\site-packages\\sklearn\\svm\\base.py:193: FutureWarning: The default value of gamma will change from 'auto' to 'scale' in version 0.22 to account better for unscaled features. Set gamma explicitly to 'auto' or 'scale' to avoid this warning.\n",
      "  \"avoid this warning.\", FutureWarning)\n"
     ]
    },
    {
     "name": "stdout",
     "output_type": "stream",
     "text": [
      "Number of components in PCA: 21\n",
      "Train accuracy score:0.9269\n",
      "Test accuracy score:0.9165\n",
      "Execution time: 4.733354091644287 seconds\n"
     ]
    },
    {
     "name": "stderr",
     "output_type": "stream",
     "text": [
      "C:\\ProgramData\\Anaconda3\\lib\\site-packages\\sklearn\\svm\\base.py:193: FutureWarning: The default value of gamma will change from 'auto' to 'scale' in version 0.22 to account better for unscaled features. Set gamma explicitly to 'auto' or 'scale' to avoid this warning.\n",
      "  \"avoid this warning.\", FutureWarning)\n"
     ]
    },
    {
     "name": "stdout",
     "output_type": "stream",
     "text": [
      "Number of components in PCA: 22\n",
      "Train accuracy score:0.9292\n",
      "Test accuracy score:0.9216\n",
      "Execution time: 4.733332633972168 seconds\n"
     ]
    },
    {
     "name": "stderr",
     "output_type": "stream",
     "text": [
      "C:\\ProgramData\\Anaconda3\\lib\\site-packages\\sklearn\\svm\\base.py:193: FutureWarning: The default value of gamma will change from 'auto' to 'scale' in version 0.22 to account better for unscaled features. Set gamma explicitly to 'auto' or 'scale' to avoid this warning.\n",
      "  \"avoid this warning.\", FutureWarning)\n"
     ]
    },
    {
     "name": "stdout",
     "output_type": "stream",
     "text": [
      "Number of components in PCA: 23\n",
      "Train accuracy score:0.9283\n",
      "Test accuracy score:0.9224\n",
      "Execution time: 4.809398412704468 seconds\n"
     ]
    },
    {
     "name": "stderr",
     "output_type": "stream",
     "text": [
      "C:\\ProgramData\\Anaconda3\\lib\\site-packages\\sklearn\\svm\\base.py:193: FutureWarning: The default value of gamma will change from 'auto' to 'scale' in version 0.22 to account better for unscaled features. Set gamma explicitly to 'auto' or 'scale' to avoid this warning.\n",
      "  \"avoid this warning.\", FutureWarning)\n"
     ]
    },
    {
     "name": "stdout",
     "output_type": "stream",
     "text": [
      "Number of components in PCA: 24\n",
      "Train accuracy score:0.9325\n",
      "Test accuracy score:0.9274\n",
      "Execution time: 4.721512079238892 seconds\n"
     ]
    },
    {
     "name": "stderr",
     "output_type": "stream",
     "text": [
      "C:\\ProgramData\\Anaconda3\\lib\\site-packages\\sklearn\\svm\\base.py:193: FutureWarning: The default value of gamma will change from 'auto' to 'scale' in version 0.22 to account better for unscaled features. Set gamma explicitly to 'auto' or 'scale' to avoid this warning.\n",
      "  \"avoid this warning.\", FutureWarning)\n"
     ]
    },
    {
     "name": "stdout",
     "output_type": "stream",
     "text": [
      "Number of components in PCA: 25\n",
      "Train accuracy score:0.9452\n",
      "Test accuracy score:0.9398\n",
      "Execution time: 4.700166940689087 seconds\n"
     ]
    },
    {
     "name": "stderr",
     "output_type": "stream",
     "text": [
      "C:\\ProgramData\\Anaconda3\\lib\\site-packages\\sklearn\\svm\\base.py:193: FutureWarning: The default value of gamma will change from 'auto' to 'scale' in version 0.22 to account better for unscaled features. Set gamma explicitly to 'auto' or 'scale' to avoid this warning.\n",
      "  \"avoid this warning.\", FutureWarning)\n"
     ]
    },
    {
     "name": "stdout",
     "output_type": "stream",
     "text": [
      "Number of components in PCA: 26\n",
      "Train accuracy score:0.9485\n",
      "Test accuracy score:0.9434\n",
      "Execution time: 4.764871835708618 seconds\n"
     ]
    },
    {
     "name": "stderr",
     "output_type": "stream",
     "text": [
      "C:\\ProgramData\\Anaconda3\\lib\\site-packages\\sklearn\\svm\\base.py:193: FutureWarning: The default value of gamma will change from 'auto' to 'scale' in version 0.22 to account better for unscaled features. Set gamma explicitly to 'auto' or 'scale' to avoid this warning.\n",
      "  \"avoid this warning.\", FutureWarning)\n"
     ]
    },
    {
     "name": "stdout",
     "output_type": "stream",
     "text": [
      "Number of components in PCA: 27\n",
      "Train accuracy score:0.9499\n",
      "Test accuracy score:0.9463\n",
      "Execution time: 5.547693490982056 seconds\n"
     ]
    },
    {
     "name": "stderr",
     "output_type": "stream",
     "text": [
      "C:\\ProgramData\\Anaconda3\\lib\\site-packages\\sklearn\\svm\\base.py:193: FutureWarning: The default value of gamma will change from 'auto' to 'scale' in version 0.22 to account better for unscaled features. Set gamma explicitly to 'auto' or 'scale' to avoid this warning.\n",
      "  \"avoid this warning.\", FutureWarning)\n"
     ]
    },
    {
     "name": "stdout",
     "output_type": "stream",
     "text": [
      "Number of components in PCA: 28\n",
      "Train accuracy score:0.9510\n",
      "Test accuracy score:0.9456\n",
      "Execution time: 5.120357513427734 seconds\n"
     ]
    },
    {
     "name": "stderr",
     "output_type": "stream",
     "text": [
      "C:\\ProgramData\\Anaconda3\\lib\\site-packages\\sklearn\\svm\\base.py:193: FutureWarning: The default value of gamma will change from 'auto' to 'scale' in version 0.22 to account better for unscaled features. Set gamma explicitly to 'auto' or 'scale' to avoid this warning.\n",
      "  \"avoid this warning.\", FutureWarning)\n"
     ]
    },
    {
     "name": "stdout",
     "output_type": "stream",
     "text": [
      "Number of components in PCA: 29\n",
      "Train accuracy score:0.9492\n",
      "Test accuracy score:0.9463\n",
      "Execution time: 4.863225221633911 seconds\n"
     ]
    },
    {
     "name": "stderr",
     "output_type": "stream",
     "text": [
      "C:\\ProgramData\\Anaconda3\\lib\\site-packages\\sklearn\\svm\\base.py:193: FutureWarning: The default value of gamma will change from 'auto' to 'scale' in version 0.22 to account better for unscaled features. Set gamma explicitly to 'auto' or 'scale' to avoid this warning.\n",
      "  \"avoid this warning.\", FutureWarning)\n"
     ]
    },
    {
     "name": "stdout",
     "output_type": "stream",
     "text": [
      "Number of components in PCA: 30\n",
      "Train accuracy score:0.9510\n",
      "Test accuracy score:0.9463\n",
      "Execution time: 5.18146824836731 seconds\n"
     ]
    },
    {
     "name": "stderr",
     "output_type": "stream",
     "text": [
      "C:\\ProgramData\\Anaconda3\\lib\\site-packages\\sklearn\\svm\\base.py:193: FutureWarning: The default value of gamma will change from 'auto' to 'scale' in version 0.22 to account better for unscaled features. Set gamma explicitly to 'auto' or 'scale' to avoid this warning.\n",
      "  \"avoid this warning.\", FutureWarning)\n"
     ]
    },
    {
     "name": "stdout",
     "output_type": "stream",
     "text": [
      "Number of components in PCA: 31\n",
      "Train accuracy score:0.9510\n",
      "Test accuracy score:0.9456\n",
      "Execution time: 4.947367191314697 seconds\n"
     ]
    },
    {
     "name": "stderr",
     "output_type": "stream",
     "text": [
      "C:\\ProgramData\\Anaconda3\\lib\\site-packages\\sklearn\\svm\\base.py:193: FutureWarning: The default value of gamma will change from 'auto' to 'scale' in version 0.22 to account better for unscaled features. Set gamma explicitly to 'auto' or 'scale' to avoid this warning.\n",
      "  \"avoid this warning.\", FutureWarning)\n"
     ]
    },
    {
     "name": "stdout",
     "output_type": "stream",
     "text": [
      "Number of components in PCA: 32\n",
      "Train accuracy score:0.9552\n",
      "Test accuracy score:0.9528\n",
      "Execution time: 5.046167612075806 seconds\n"
     ]
    },
    {
     "name": "stderr",
     "output_type": "stream",
     "text": [
      "C:\\ProgramData\\Anaconda3\\lib\\site-packages\\sklearn\\svm\\base.py:193: FutureWarning: The default value of gamma will change from 'auto' to 'scale' in version 0.22 to account better for unscaled features. Set gamma explicitly to 'auto' or 'scale' to avoid this warning.\n",
      "  \"avoid this warning.\", FutureWarning)\n"
     ]
    },
    {
     "name": "stdout",
     "output_type": "stream",
     "text": [
      "Number of components in PCA: 33\n",
      "Train accuracy score:0.9572\n",
      "Test accuracy score:0.9557\n",
      "Execution time: 5.285832643508911 seconds\n"
     ]
    },
    {
     "name": "stderr",
     "output_type": "stream",
     "text": [
      "C:\\ProgramData\\Anaconda3\\lib\\site-packages\\sklearn\\svm\\base.py:193: FutureWarning: The default value of gamma will change from 'auto' to 'scale' in version 0.22 to account better for unscaled features. Set gamma explicitly to 'auto' or 'scale' to avoid this warning.\n",
      "  \"avoid this warning.\", FutureWarning)\n"
     ]
    },
    {
     "name": "stdout",
     "output_type": "stream",
     "text": [
      "Number of components in PCA: 34\n",
      "Train accuracy score:0.9608\n",
      "Test accuracy score:0.9579\n",
      "Execution time: 4.967158079147339 seconds\n"
     ]
    },
    {
     "name": "stderr",
     "output_type": "stream",
     "text": [
      "C:\\ProgramData\\Anaconda3\\lib\\site-packages\\sklearn\\svm\\base.py:193: FutureWarning: The default value of gamma will change from 'auto' to 'scale' in version 0.22 to account better for unscaled features. Set gamma explicitly to 'auto' or 'scale' to avoid this warning.\n",
      "  \"avoid this warning.\", FutureWarning)\n"
     ]
    },
    {
     "name": "stdout",
     "output_type": "stream",
     "text": [
      "Number of components in PCA: 35\n",
      "Train accuracy score:0.9614\n",
      "Test accuracy score:0.9579\n",
      "Execution time: 5.047325611114502 seconds\n"
     ]
    },
    {
     "name": "stderr",
     "output_type": "stream",
     "text": [
      "C:\\ProgramData\\Anaconda3\\lib\\site-packages\\sklearn\\svm\\base.py:193: FutureWarning: The default value of gamma will change from 'auto' to 'scale' in version 0.22 to account better for unscaled features. Set gamma explicitly to 'auto' or 'scale' to avoid this warning.\n",
      "  \"avoid this warning.\", FutureWarning)\n"
     ]
    },
    {
     "name": "stdout",
     "output_type": "stream",
     "text": [
      "Number of components in PCA: 36\n",
      "Train accuracy score:0.9641\n",
      "Test accuracy score:0.9601\n",
      "Execution time: 5.266378879547119 seconds\n"
     ]
    },
    {
     "name": "stderr",
     "output_type": "stream",
     "text": [
      "C:\\ProgramData\\Anaconda3\\lib\\site-packages\\sklearn\\svm\\base.py:193: FutureWarning: The default value of gamma will change from 'auto' to 'scale' in version 0.22 to account better for unscaled features. Set gamma explicitly to 'auto' or 'scale' to avoid this warning.\n",
      "  \"avoid this warning.\", FutureWarning)\n"
     ]
    },
    {
     "name": "stdout",
     "output_type": "stream",
     "text": [
      "Number of components in PCA: 37\n",
      "Train accuracy score:0.9650\n",
      "Test accuracy score:0.9637\n",
      "Execution time: 5.1455676555633545 seconds\n"
     ]
    },
    {
     "name": "stderr",
     "output_type": "stream",
     "text": [
      "C:\\ProgramData\\Anaconda3\\lib\\site-packages\\sklearn\\svm\\base.py:193: FutureWarning: The default value of gamma will change from 'auto' to 'scale' in version 0.22 to account better for unscaled features. Set gamma explicitly to 'auto' or 'scale' to avoid this warning.\n",
      "  \"avoid this warning.\", FutureWarning)\n"
     ]
    },
    {
     "name": "stdout",
     "output_type": "stream",
     "text": [
      "Number of components in PCA: 38\n",
      "Train accuracy score:0.9648\n",
      "Test accuracy score:0.9615\n",
      "Execution time: 5.114734888076782 seconds\n"
     ]
    },
    {
     "name": "stderr",
     "output_type": "stream",
     "text": [
      "C:\\ProgramData\\Anaconda3\\lib\\site-packages\\sklearn\\svm\\base.py:193: FutureWarning: The default value of gamma will change from 'auto' to 'scale' in version 0.22 to account better for unscaled features. Set gamma explicitly to 'auto' or 'scale' to avoid this warning.\n",
      "  \"avoid this warning.\", FutureWarning)\n"
     ]
    },
    {
     "name": "stdout",
     "output_type": "stream",
     "text": [
      "Number of components in PCA: 39\n",
      "Train accuracy score:0.9657\n",
      "Test accuracy score:0.9630\n",
      "Execution time: 5.400134325027466 seconds\n"
     ]
    },
    {
     "name": "stderr",
     "output_type": "stream",
     "text": [
      "C:\\ProgramData\\Anaconda3\\lib\\site-packages\\sklearn\\svm\\base.py:193: FutureWarning: The default value of gamma will change from 'auto' to 'scale' in version 0.22 to account better for unscaled features. Set gamma explicitly to 'auto' or 'scale' to avoid this warning.\n",
      "  \"avoid this warning.\", FutureWarning)\n"
     ]
    },
    {
     "name": "stdout",
     "output_type": "stream",
     "text": [
      "Number of components in PCA: 40\n",
      "Train accuracy score:0.9712\n",
      "Test accuracy score:0.9681\n",
      "Execution time: 5.200420618057251 seconds\n"
     ]
    },
    {
     "name": "stderr",
     "output_type": "stream",
     "text": [
      "C:\\ProgramData\\Anaconda3\\lib\\site-packages\\sklearn\\svm\\base.py:193: FutureWarning: The default value of gamma will change from 'auto' to 'scale' in version 0.22 to account better for unscaled features. Set gamma explicitly to 'auto' or 'scale' to avoid this warning.\n",
      "  \"avoid this warning.\", FutureWarning)\n"
     ]
    },
    {
     "name": "stdout",
     "output_type": "stream",
     "text": [
      "Number of components in PCA: 41\n",
      "Train accuracy score:0.9719\n",
      "Test accuracy score:0.9681\n",
      "Execution time: 5.131728887557983 seconds\n"
     ]
    },
    {
     "name": "stderr",
     "output_type": "stream",
     "text": [
      "C:\\ProgramData\\Anaconda3\\lib\\site-packages\\sklearn\\svm\\base.py:193: FutureWarning: The default value of gamma will change from 'auto' to 'scale' in version 0.22 to account better for unscaled features. Set gamma explicitly to 'auto' or 'scale' to avoid this warning.\n",
      "  \"avoid this warning.\", FutureWarning)\n"
     ]
    },
    {
     "name": "stdout",
     "output_type": "stream",
     "text": [
      "Number of components in PCA: 42\n",
      "Train accuracy score:0.9721\n",
      "Test accuracy score:0.9688\n",
      "Execution time: 5.325646162033081 seconds\n"
     ]
    },
    {
     "name": "stderr",
     "output_type": "stream",
     "text": [
      "C:\\ProgramData\\Anaconda3\\lib\\site-packages\\sklearn\\svm\\base.py:193: FutureWarning: The default value of gamma will change from 'auto' to 'scale' in version 0.22 to account better for unscaled features. Set gamma explicitly to 'auto' or 'scale' to avoid this warning.\n",
      "  \"avoid this warning.\", FutureWarning)\n"
     ]
    },
    {
     "name": "stdout",
     "output_type": "stream",
     "text": [
      "Number of components in PCA: 43\n",
      "Train accuracy score:0.9741\n",
      "Test accuracy score:0.9702\n",
      "Execution time: 5.401659250259399 seconds\n"
     ]
    },
    {
     "name": "stderr",
     "output_type": "stream",
     "text": [
      "C:\\ProgramData\\Anaconda3\\lib\\site-packages\\sklearn\\svm\\base.py:193: FutureWarning: The default value of gamma will change from 'auto' to 'scale' in version 0.22 to account better for unscaled features. Set gamma explicitly to 'auto' or 'scale' to avoid this warning.\n",
      "  \"avoid this warning.\", FutureWarning)\n"
     ]
    },
    {
     "name": "stdout",
     "output_type": "stream",
     "text": [
      "Number of components in PCA: 44\n",
      "Train accuracy score:0.9742\n",
      "Test accuracy score:0.9702\n",
      "Execution time: 5.631363391876221 seconds\n"
     ]
    },
    {
     "name": "stderr",
     "output_type": "stream",
     "text": [
      "C:\\ProgramData\\Anaconda3\\lib\\site-packages\\sklearn\\svm\\base.py:193: FutureWarning: The default value of gamma will change from 'auto' to 'scale' in version 0.22 to account better for unscaled features. Set gamma explicitly to 'auto' or 'scale' to avoid this warning.\n",
      "  \"avoid this warning.\", FutureWarning)\n"
     ]
    },
    {
     "name": "stdout",
     "output_type": "stream",
     "text": [
      "Number of components in PCA: 45\n",
      "Train accuracy score:0.9746\n",
      "Test accuracy score:0.9702\n",
      "Execution time: 5.494369745254517 seconds\n"
     ]
    },
    {
     "name": "stderr",
     "output_type": "stream",
     "text": [
      "C:\\ProgramData\\Anaconda3\\lib\\site-packages\\sklearn\\svm\\base.py:193: FutureWarning: The default value of gamma will change from 'auto' to 'scale' in version 0.22 to account better for unscaled features. Set gamma explicitly to 'auto' or 'scale' to avoid this warning.\n",
      "  \"avoid this warning.\", FutureWarning)\n"
     ]
    },
    {
     "name": "stdout",
     "output_type": "stream",
     "text": [
      "Number of components in PCA: 46\n",
      "Train accuracy score:0.9744\n",
      "Test accuracy score:0.9724\n",
      "Execution time: 5.268723011016846 seconds\n"
     ]
    },
    {
     "name": "stderr",
     "output_type": "stream",
     "text": [
      "C:\\ProgramData\\Anaconda3\\lib\\site-packages\\sklearn\\svm\\base.py:193: FutureWarning: The default value of gamma will change from 'auto' to 'scale' in version 0.22 to account better for unscaled features. Set gamma explicitly to 'auto' or 'scale' to avoid this warning.\n",
      "  \"avoid this warning.\", FutureWarning)\n"
     ]
    },
    {
     "name": "stdout",
     "output_type": "stream",
     "text": [
      "Number of components in PCA: 47\n",
      "Train accuracy score:0.9775\n",
      "Test accuracy score:0.9731\n",
      "Execution time: 5.348170042037964 seconds\n"
     ]
    },
    {
     "name": "stderr",
     "output_type": "stream",
     "text": [
      "C:\\ProgramData\\Anaconda3\\lib\\site-packages\\sklearn\\svm\\base.py:193: FutureWarning: The default value of gamma will change from 'auto' to 'scale' in version 0.22 to account better for unscaled features. Set gamma explicitly to 'auto' or 'scale' to avoid this warning.\n",
      "  \"avoid this warning.\", FutureWarning)\n"
     ]
    },
    {
     "name": "stdout",
     "output_type": "stream",
     "text": [
      "Number of components in PCA: 48\n",
      "Train accuracy score:0.9779\n",
      "Test accuracy score:0.9746\n",
      "Execution time: 5.660798072814941 seconds\n"
     ]
    },
    {
     "name": "stderr",
     "output_type": "stream",
     "text": [
      "C:\\ProgramData\\Anaconda3\\lib\\site-packages\\sklearn\\svm\\base.py:193: FutureWarning: The default value of gamma will change from 'auto' to 'scale' in version 0.22 to account better for unscaled features. Set gamma explicitly to 'auto' or 'scale' to avoid this warning.\n",
      "  \"avoid this warning.\", FutureWarning)\n"
     ]
    },
    {
     "name": "stdout",
     "output_type": "stream",
     "text": [
      "Number of components in PCA: 49\n",
      "Train accuracy score:0.9771\n",
      "Test accuracy score:0.9746\n",
      "Execution time: 5.698439121246338 seconds\n"
     ]
    },
    {
     "name": "stderr",
     "output_type": "stream",
     "text": [
      "C:\\ProgramData\\Anaconda3\\lib\\site-packages\\sklearn\\svm\\base.py:193: FutureWarning: The default value of gamma will change from 'auto' to 'scale' in version 0.22 to account better for unscaled features. Set gamma explicitly to 'auto' or 'scale' to avoid this warning.\n",
      "  \"avoid this warning.\", FutureWarning)\n"
     ]
    },
    {
     "name": "stdout",
     "output_type": "stream",
     "text": [
      "Number of components in PCA: 50\n",
      "Train accuracy score:0.9771\n",
      "Test accuracy score:0.9717\n",
      "Execution time: 5.759917497634888 seconds\n"
     ]
    },
    {
     "name": "stderr",
     "output_type": "stream",
     "text": [
      "C:\\ProgramData\\Anaconda3\\lib\\site-packages\\sklearn\\svm\\base.py:193: FutureWarning: The default value of gamma will change from 'auto' to 'scale' in version 0.22 to account better for unscaled features. Set gamma explicitly to 'auto' or 'scale' to avoid this warning.\n",
      "  \"avoid this warning.\", FutureWarning)\n"
     ]
    },
    {
     "name": "stdout",
     "output_type": "stream",
     "text": [
      "Number of components in PCA: 51\n",
      "Train accuracy score:0.9791\n",
      "Test accuracy score:0.9739\n",
      "Execution time: 6.181860446929932 seconds\n"
     ]
    },
    {
     "name": "stderr",
     "output_type": "stream",
     "text": [
      "C:\\ProgramData\\Anaconda3\\lib\\site-packages\\sklearn\\svm\\base.py:193: FutureWarning: The default value of gamma will change from 'auto' to 'scale' in version 0.22 to account better for unscaled features. Set gamma explicitly to 'auto' or 'scale' to avoid this warning.\n",
      "  \"avoid this warning.\", FutureWarning)\n"
     ]
    },
    {
     "name": "stdout",
     "output_type": "stream",
     "text": [
      "Number of components in PCA: 52\n",
      "Train accuracy score:0.9808\n",
      "Test accuracy score:0.9739\n",
      "Execution time: 5.8678436279296875 seconds\n"
     ]
    },
    {
     "name": "stderr",
     "output_type": "stream",
     "text": [
      "C:\\ProgramData\\Anaconda3\\lib\\site-packages\\sklearn\\svm\\base.py:193: FutureWarning: The default value of gamma will change from 'auto' to 'scale' in version 0.22 to account better for unscaled features. Set gamma explicitly to 'auto' or 'scale' to avoid this warning.\n",
      "  \"avoid this warning.\", FutureWarning)\n"
     ]
    },
    {
     "name": "stdout",
     "output_type": "stream",
     "text": [
      "Number of components in PCA: 53\n",
      "Train accuracy score:0.9797\n",
      "Test accuracy score:0.9746\n",
      "Execution time: 5.874493837356567 seconds\n"
     ]
    },
    {
     "name": "stderr",
     "output_type": "stream",
     "text": [
      "C:\\ProgramData\\Anaconda3\\lib\\site-packages\\sklearn\\svm\\base.py:193: FutureWarning: The default value of gamma will change from 'auto' to 'scale' in version 0.22 to account better for unscaled features. Set gamma explicitly to 'auto' or 'scale' to avoid this warning.\n",
      "  \"avoid this warning.\", FutureWarning)\n"
     ]
    },
    {
     "name": "stdout",
     "output_type": "stream",
     "text": [
      "Number of components in PCA: 54\n",
      "Train accuracy score:0.9804\n",
      "Test accuracy score:0.9746\n",
      "Execution time: 6.0665552616119385 seconds\n"
     ]
    },
    {
     "name": "stderr",
     "output_type": "stream",
     "text": [
      "C:\\ProgramData\\Anaconda3\\lib\\site-packages\\sklearn\\svm\\base.py:193: FutureWarning: The default value of gamma will change from 'auto' to 'scale' in version 0.22 to account better for unscaled features. Set gamma explicitly to 'auto' or 'scale' to avoid this warning.\n",
      "  \"avoid this warning.\", FutureWarning)\n"
     ]
    },
    {
     "name": "stdout",
     "output_type": "stream",
     "text": [
      "Number of components in PCA: 55\n",
      "Train accuracy score:0.9826\n",
      "Test accuracy score:0.9804\n",
      "Execution time: 5.999482870101929 seconds\n"
     ]
    },
    {
     "name": "stderr",
     "output_type": "stream",
     "text": [
      "C:\\ProgramData\\Anaconda3\\lib\\site-packages\\sklearn\\svm\\base.py:193: FutureWarning: The default value of gamma will change from 'auto' to 'scale' in version 0.22 to account better for unscaled features. Set gamma explicitly to 'auto' or 'scale' to avoid this warning.\n",
      "  \"avoid this warning.\", FutureWarning)\n"
     ]
    },
    {
     "name": "stdout",
     "output_type": "stream",
     "text": [
      "Number of components in PCA: 56\n",
      "Train accuracy score:0.9853\n",
      "Test accuracy score:0.9804\n",
      "Execution time: 6.096544981002808 seconds\n"
     ]
    },
    {
     "name": "stderr",
     "output_type": "stream",
     "text": [
      "C:\\ProgramData\\Anaconda3\\lib\\site-packages\\sklearn\\svm\\base.py:193: FutureWarning: The default value of gamma will change from 'auto' to 'scale' in version 0.22 to account better for unscaled features. Set gamma explicitly to 'auto' or 'scale' to avoid this warning.\n",
      "  \"avoid this warning.\", FutureWarning)\n"
     ]
    },
    {
     "name": "stdout",
     "output_type": "stream",
     "text": [
      "Number of components in PCA: 57\n",
      "Train accuracy score:0.9855\n",
      "Test accuracy score:0.9826\n",
      "Execution time: 6.047939300537109 seconds\n"
     ]
    },
    {
     "name": "stderr",
     "output_type": "stream",
     "text": [
      "C:\\ProgramData\\Anaconda3\\lib\\site-packages\\sklearn\\svm\\base.py:193: FutureWarning: The default value of gamma will change from 'auto' to 'scale' in version 0.22 to account better for unscaled features. Set gamma explicitly to 'auto' or 'scale' to avoid this warning.\n",
      "  \"avoid this warning.\", FutureWarning)\n"
     ]
    },
    {
     "name": "stdout",
     "output_type": "stream",
     "text": [
      "Number of components in PCA: 58\n",
      "Train accuracy score:0.9857\n",
      "Test accuracy score:0.9833\n",
      "Execution time: 6.1003031730651855 seconds\n"
     ]
    },
    {
     "name": "stderr",
     "output_type": "stream",
     "text": [
      "C:\\ProgramData\\Anaconda3\\lib\\site-packages\\sklearn\\svm\\base.py:193: FutureWarning: The default value of gamma will change from 'auto' to 'scale' in version 0.22 to account better for unscaled features. Set gamma explicitly to 'auto' or 'scale' to avoid this warning.\n",
      "  \"avoid this warning.\", FutureWarning)\n"
     ]
    },
    {
     "name": "stdout",
     "output_type": "stream",
     "text": [
      "Number of components in PCA: 59\n",
      "Train accuracy score:0.9862\n",
      "Test accuracy score:0.9840\n",
      "Execution time: 6.56055474281311 seconds\n"
     ]
    },
    {
     "name": "stderr",
     "output_type": "stream",
     "text": [
      "C:\\ProgramData\\Anaconda3\\lib\\site-packages\\sklearn\\svm\\base.py:193: FutureWarning: The default value of gamma will change from 'auto' to 'scale' in version 0.22 to account better for unscaled features. Set gamma explicitly to 'auto' or 'scale' to avoid this warning.\n",
      "  \"avoid this warning.\", FutureWarning)\n"
     ]
    },
    {
     "name": "stdout",
     "output_type": "stream",
     "text": [
      "Number of components in PCA: 60\n",
      "Train accuracy score:0.9864\n",
      "Test accuracy score:0.9840\n",
      "Execution time: 6.209164142608643 seconds\n"
     ]
    },
    {
     "name": "stderr",
     "output_type": "stream",
     "text": [
      "C:\\ProgramData\\Anaconda3\\lib\\site-packages\\sklearn\\svm\\base.py:193: FutureWarning: The default value of gamma will change from 'auto' to 'scale' in version 0.22 to account better for unscaled features. Set gamma explicitly to 'auto' or 'scale' to avoid this warning.\n",
      "  \"avoid this warning.\", FutureWarning)\n"
     ]
    },
    {
     "name": "stdout",
     "output_type": "stream",
     "text": [
      "Number of components in PCA: 61\n",
      "Train accuracy score:0.9877\n",
      "Test accuracy score:0.9848\n",
      "Execution time: 6.602880001068115 seconds\n"
     ]
    },
    {
     "name": "stderr",
     "output_type": "stream",
     "text": [
      "C:\\ProgramData\\Anaconda3\\lib\\site-packages\\sklearn\\svm\\base.py:193: FutureWarning: The default value of gamma will change from 'auto' to 'scale' in version 0.22 to account better for unscaled features. Set gamma explicitly to 'auto' or 'scale' to avoid this warning.\n",
      "  \"avoid this warning.\", FutureWarning)\n"
     ]
    },
    {
     "name": "stdout",
     "output_type": "stream",
     "text": [
      "Number of components in PCA: 62\n",
      "Train accuracy score:0.9868\n",
      "Test accuracy score:0.9833\n",
      "Execution time: 6.852792739868164 seconds\n"
     ]
    },
    {
     "name": "stderr",
     "output_type": "stream",
     "text": [
      "C:\\ProgramData\\Anaconda3\\lib\\site-packages\\sklearn\\svm\\base.py:193: FutureWarning: The default value of gamma will change from 'auto' to 'scale' in version 0.22 to account better for unscaled features. Set gamma explicitly to 'auto' or 'scale' to avoid this warning.\n",
      "  \"avoid this warning.\", FutureWarning)\n"
     ]
    },
    {
     "name": "stdout",
     "output_type": "stream",
     "text": [
      "Number of components in PCA: 63\n",
      "Train accuracy score:0.9878\n",
      "Test accuracy score:0.9848\n",
      "Execution time: 6.779085636138916 seconds\n"
     ]
    },
    {
     "name": "stderr",
     "output_type": "stream",
     "text": [
      "C:\\ProgramData\\Anaconda3\\lib\\site-packages\\sklearn\\svm\\base.py:193: FutureWarning: The default value of gamma will change from 'auto' to 'scale' in version 0.22 to account better for unscaled features. Set gamma explicitly to 'auto' or 'scale' to avoid this warning.\n",
      "  \"avoid this warning.\", FutureWarning)\n"
     ]
    },
    {
     "name": "stdout",
     "output_type": "stream",
     "text": [
      "Number of components in PCA: 64\n",
      "Train accuracy score:0.9888\n",
      "Test accuracy score:0.9862\n",
      "Execution time: 6.701541900634766 seconds\n"
     ]
    },
    {
     "name": "stderr",
     "output_type": "stream",
     "text": [
      "C:\\ProgramData\\Anaconda3\\lib\\site-packages\\sklearn\\svm\\base.py:193: FutureWarning: The default value of gamma will change from 'auto' to 'scale' in version 0.22 to account better for unscaled features. Set gamma explicitly to 'auto' or 'scale' to avoid this warning.\n",
      "  \"avoid this warning.\", FutureWarning)\n"
     ]
    },
    {
     "name": "stdout",
     "output_type": "stream",
     "text": [
      "Number of components in PCA: 65\n",
      "Train accuracy score:0.9889\n",
      "Test accuracy score:0.9855\n",
      "Execution time: 6.482877492904663 seconds\n"
     ]
    },
    {
     "name": "stderr",
     "output_type": "stream",
     "text": [
      "C:\\ProgramData\\Anaconda3\\lib\\site-packages\\sklearn\\svm\\base.py:193: FutureWarning: The default value of gamma will change from 'auto' to 'scale' in version 0.22 to account better for unscaled features. Set gamma explicitly to 'auto' or 'scale' to avoid this warning.\n",
      "  \"avoid this warning.\", FutureWarning)\n"
     ]
    },
    {
     "name": "stdout",
     "output_type": "stream",
     "text": [
      "Number of components in PCA: 66\n",
      "Train accuracy score:0.9895\n",
      "Test accuracy score:0.9855\n",
      "Execution time: 6.56091570854187 seconds\n"
     ]
    },
    {
     "name": "stderr",
     "output_type": "stream",
     "text": [
      "C:\\ProgramData\\Anaconda3\\lib\\site-packages\\sklearn\\svm\\base.py:193: FutureWarning: The default value of gamma will change from 'auto' to 'scale' in version 0.22 to account better for unscaled features. Set gamma explicitly to 'auto' or 'scale' to avoid this warning.\n",
      "  \"avoid this warning.\", FutureWarning)\n"
     ]
    },
    {
     "name": "stdout",
     "output_type": "stream",
     "text": [
      "Number of components in PCA: 67\n",
      "Train accuracy score:0.9904\n",
      "Test accuracy score:0.9840\n",
      "Execution time: 7.084807395935059 seconds\n"
     ]
    },
    {
     "name": "stderr",
     "output_type": "stream",
     "text": [
      "C:\\ProgramData\\Anaconda3\\lib\\site-packages\\sklearn\\svm\\base.py:193: FutureWarning: The default value of gamma will change from 'auto' to 'scale' in version 0.22 to account better for unscaled features. Set gamma explicitly to 'auto' or 'scale' to avoid this warning.\n",
      "  \"avoid this warning.\", FutureWarning)\n"
     ]
    },
    {
     "name": "stdout",
     "output_type": "stream",
     "text": [
      "Number of components in PCA: 68\n",
      "Train accuracy score:0.9907\n",
      "Test accuracy score:0.9840\n",
      "Execution time: 7.302678346633911 seconds\n"
     ]
    },
    {
     "name": "stderr",
     "output_type": "stream",
     "text": [
      "C:\\ProgramData\\Anaconda3\\lib\\site-packages\\sklearn\\svm\\base.py:193: FutureWarning: The default value of gamma will change from 'auto' to 'scale' in version 0.22 to account better for unscaled features. Set gamma explicitly to 'auto' or 'scale' to avoid this warning.\n",
      "  \"avoid this warning.\", FutureWarning)\n"
     ]
    },
    {
     "name": "stdout",
     "output_type": "stream",
     "text": [
      "Number of components in PCA: 69\n",
      "Train accuracy score:0.9909\n",
      "Test accuracy score:0.9833\n",
      "Execution time: 6.868908643722534 seconds\n"
     ]
    },
    {
     "name": "stderr",
     "output_type": "stream",
     "text": [
      "C:\\ProgramData\\Anaconda3\\lib\\site-packages\\sklearn\\svm\\base.py:193: FutureWarning: The default value of gamma will change from 'auto' to 'scale' in version 0.22 to account better for unscaled features. Set gamma explicitly to 'auto' or 'scale' to avoid this warning.\n",
      "  \"avoid this warning.\", FutureWarning)\n"
     ]
    },
    {
     "name": "stdout",
     "output_type": "stream",
     "text": [
      "Number of components in PCA: 70\n",
      "Train accuracy score:0.9909\n",
      "Test accuracy score:0.9826\n",
      "Execution time: 6.737149953842163 seconds\n"
     ]
    },
    {
     "name": "stderr",
     "output_type": "stream",
     "text": [
      "C:\\ProgramData\\Anaconda3\\lib\\site-packages\\sklearn\\svm\\base.py:193: FutureWarning: The default value of gamma will change from 'auto' to 'scale' in version 0.22 to account better for unscaled features. Set gamma explicitly to 'auto' or 'scale' to avoid this warning.\n",
      "  \"avoid this warning.\", FutureWarning)\n"
     ]
    },
    {
     "name": "stdout",
     "output_type": "stream",
     "text": [
      "Number of components in PCA: 71\n",
      "Train accuracy score:0.9911\n",
      "Test accuracy score:0.9826\n",
      "Execution time: 7.1831440925598145 seconds\n"
     ]
    },
    {
     "name": "stderr",
     "output_type": "stream",
     "text": [
      "C:\\ProgramData\\Anaconda3\\lib\\site-packages\\sklearn\\svm\\base.py:193: FutureWarning: The default value of gamma will change from 'auto' to 'scale' in version 0.22 to account better for unscaled features. Set gamma explicitly to 'auto' or 'scale' to avoid this warning.\n",
      "  \"avoid this warning.\", FutureWarning)\n"
     ]
    },
    {
     "name": "stdout",
     "output_type": "stream",
     "text": [
      "Number of components in PCA: 72\n",
      "Train accuracy score:0.9913\n",
      "Test accuracy score:0.9833\n",
      "Execution time: 6.959890365600586 seconds\n"
     ]
    },
    {
     "name": "stderr",
     "output_type": "stream",
     "text": [
      "C:\\ProgramData\\Anaconda3\\lib\\site-packages\\sklearn\\svm\\base.py:193: FutureWarning: The default value of gamma will change from 'auto' to 'scale' in version 0.22 to account better for unscaled features. Set gamma explicitly to 'auto' or 'scale' to avoid this warning.\n",
      "  \"avoid this warning.\", FutureWarning)\n"
     ]
    },
    {
     "name": "stdout",
     "output_type": "stream",
     "text": [
      "Number of components in PCA: 73\n",
      "Train accuracy score:0.9915\n",
      "Test accuracy score:0.9833\n",
      "Execution time: 6.96527886390686 seconds\n"
     ]
    },
    {
     "name": "stderr",
     "output_type": "stream",
     "text": [
      "C:\\ProgramData\\Anaconda3\\lib\\site-packages\\sklearn\\svm\\base.py:193: FutureWarning: The default value of gamma will change from 'auto' to 'scale' in version 0.22 to account better for unscaled features. Set gamma explicitly to 'auto' or 'scale' to avoid this warning.\n",
      "  \"avoid this warning.\", FutureWarning)\n"
     ]
    },
    {
     "name": "stdout",
     "output_type": "stream",
     "text": [
      "Number of components in PCA: 74\n",
      "Train accuracy score:0.9915\n",
      "Test accuracy score:0.9840\n",
      "Execution time: 6.725322246551514 seconds\n"
     ]
    },
    {
     "name": "stderr",
     "output_type": "stream",
     "text": [
      "C:\\ProgramData\\Anaconda3\\lib\\site-packages\\sklearn\\svm\\base.py:193: FutureWarning: The default value of gamma will change from 'auto' to 'scale' in version 0.22 to account better for unscaled features. Set gamma explicitly to 'auto' or 'scale' to avoid this warning.\n",
      "  \"avoid this warning.\", FutureWarning)\n"
     ]
    },
    {
     "name": "stdout",
     "output_type": "stream",
     "text": [
      "Number of components in PCA: 75\n",
      "Train accuracy score:0.9915\n",
      "Test accuracy score:0.9840\n",
      "Execution time: 7.144811391830444 seconds\n"
     ]
    },
    {
     "name": "stderr",
     "output_type": "stream",
     "text": [
      "C:\\ProgramData\\Anaconda3\\lib\\site-packages\\sklearn\\svm\\base.py:193: FutureWarning: The default value of gamma will change from 'auto' to 'scale' in version 0.22 to account better for unscaled features. Set gamma explicitly to 'auto' or 'scale' to avoid this warning.\n",
      "  \"avoid this warning.\", FutureWarning)\n"
     ]
    },
    {
     "name": "stdout",
     "output_type": "stream",
     "text": [
      "Number of components in PCA: 76\n",
      "Train accuracy score:0.9915\n",
      "Test accuracy score:0.9840\n",
      "Execution time: 7.065277099609375 seconds\n"
     ]
    },
    {
     "name": "stderr",
     "output_type": "stream",
     "text": [
      "C:\\ProgramData\\Anaconda3\\lib\\site-packages\\sklearn\\svm\\base.py:193: FutureWarning: The default value of gamma will change from 'auto' to 'scale' in version 0.22 to account better for unscaled features. Set gamma explicitly to 'auto' or 'scale' to avoid this warning.\n",
      "  \"avoid this warning.\", FutureWarning)\n"
     ]
    },
    {
     "name": "stdout",
     "output_type": "stream",
     "text": [
      "Number of components in PCA: 77\n",
      "Train accuracy score:0.9917\n",
      "Test accuracy score:0.9855\n",
      "Execution time: 7.406692981719971 seconds\n"
     ]
    },
    {
     "name": "stderr",
     "output_type": "stream",
     "text": [
      "C:\\ProgramData\\Anaconda3\\lib\\site-packages\\sklearn\\svm\\base.py:193: FutureWarning: The default value of gamma will change from 'auto' to 'scale' in version 0.22 to account better for unscaled features. Set gamma explicitly to 'auto' or 'scale' to avoid this warning.\n",
      "  \"avoid this warning.\", FutureWarning)\n"
     ]
    },
    {
     "name": "stdout",
     "output_type": "stream",
     "text": [
      "Number of components in PCA: 78\n",
      "Train accuracy score:0.9922\n",
      "Test accuracy score:0.9848\n",
      "Execution time: 7.152404308319092 seconds\n"
     ]
    },
    {
     "name": "stderr",
     "output_type": "stream",
     "text": [
      "C:\\ProgramData\\Anaconda3\\lib\\site-packages\\sklearn\\svm\\base.py:193: FutureWarning: The default value of gamma will change from 'auto' to 'scale' in version 0.22 to account better for unscaled features. Set gamma explicitly to 'auto' or 'scale' to avoid this warning.\n",
      "  \"avoid this warning.\", FutureWarning)\n"
     ]
    },
    {
     "name": "stdout",
     "output_type": "stream",
     "text": [
      "Number of components in PCA: 79\n",
      "Train accuracy score:0.9924\n",
      "Test accuracy score:0.9855\n",
      "Execution time: 7.347621440887451 seconds\n"
     ]
    },
    {
     "name": "stderr",
     "output_type": "stream",
     "text": [
      "C:\\ProgramData\\Anaconda3\\lib\\site-packages\\sklearn\\svm\\base.py:193: FutureWarning: The default value of gamma will change from 'auto' to 'scale' in version 0.22 to account better for unscaled features. Set gamma explicitly to 'auto' or 'scale' to avoid this warning.\n",
      "  \"avoid this warning.\", FutureWarning)\n"
     ]
    },
    {
     "name": "stdout",
     "output_type": "stream",
     "text": [
      "Number of components in PCA: 80\n",
      "Train accuracy score:0.9926\n",
      "Test accuracy score:0.9855\n",
      "Execution time: 7.731201648712158 seconds\n"
     ]
    },
    {
     "name": "stderr",
     "output_type": "stream",
     "text": [
      "C:\\ProgramData\\Anaconda3\\lib\\site-packages\\sklearn\\svm\\base.py:193: FutureWarning: The default value of gamma will change from 'auto' to 'scale' in version 0.22 to account better for unscaled features. Set gamma explicitly to 'auto' or 'scale' to avoid this warning.\n",
      "  \"avoid this warning.\", FutureWarning)\n"
     ]
    },
    {
     "name": "stdout",
     "output_type": "stream",
     "text": [
      "Number of components in PCA: 81\n",
      "Train accuracy score:0.9929\n",
      "Test accuracy score:0.9855\n",
      "Execution time: 7.394794940948486 seconds\n"
     ]
    },
    {
     "name": "stderr",
     "output_type": "stream",
     "text": [
      "C:\\ProgramData\\Anaconda3\\lib\\site-packages\\sklearn\\svm\\base.py:193: FutureWarning: The default value of gamma will change from 'auto' to 'scale' in version 0.22 to account better for unscaled features. Set gamma explicitly to 'auto' or 'scale' to avoid this warning.\n",
      "  \"avoid this warning.\", FutureWarning)\n"
     ]
    },
    {
     "name": "stdout",
     "output_type": "stream",
     "text": [
      "Number of components in PCA: 82\n",
      "Train accuracy score:0.9935\n",
      "Test accuracy score:0.9862\n",
      "Execution time: 7.891803741455078 seconds\n"
     ]
    },
    {
     "name": "stderr",
     "output_type": "stream",
     "text": [
      "C:\\ProgramData\\Anaconda3\\lib\\site-packages\\sklearn\\svm\\base.py:193: FutureWarning: The default value of gamma will change from 'auto' to 'scale' in version 0.22 to account better for unscaled features. Set gamma explicitly to 'auto' or 'scale' to avoid this warning.\n",
      "  \"avoid this warning.\", FutureWarning)\n"
     ]
    },
    {
     "name": "stdout",
     "output_type": "stream",
     "text": [
      "Number of components in PCA: 83\n",
      "Train accuracy score:0.9933\n",
      "Test accuracy score:0.9855\n",
      "Execution time: 7.51702618598938 seconds\n"
     ]
    },
    {
     "name": "stderr",
     "output_type": "stream",
     "text": [
      "C:\\ProgramData\\Anaconda3\\lib\\site-packages\\sklearn\\svm\\base.py:193: FutureWarning: The default value of gamma will change from 'auto' to 'scale' in version 0.22 to account better for unscaled features. Set gamma explicitly to 'auto' or 'scale' to avoid this warning.\n",
      "  \"avoid this warning.\", FutureWarning)\n"
     ]
    },
    {
     "name": "stdout",
     "output_type": "stream",
     "text": [
      "Number of components in PCA: 84\n",
      "Train accuracy score:0.9933\n",
      "Test accuracy score:0.9855\n",
      "Execution time: 7.892554521560669 seconds\n"
     ]
    },
    {
     "name": "stderr",
     "output_type": "stream",
     "text": [
      "C:\\ProgramData\\Anaconda3\\lib\\site-packages\\sklearn\\svm\\base.py:193: FutureWarning: The default value of gamma will change from 'auto' to 'scale' in version 0.22 to account better for unscaled features. Set gamma explicitly to 'auto' or 'scale' to avoid this warning.\n",
      "  \"avoid this warning.\", FutureWarning)\n"
     ]
    },
    {
     "name": "stdout",
     "output_type": "stream",
     "text": [
      "Number of components in PCA: 85\n",
      "Train accuracy score:0.9933\n",
      "Test accuracy score:0.9840\n",
      "Execution time: 8.126256227493286 seconds\n"
     ]
    },
    {
     "name": "stderr",
     "output_type": "stream",
     "text": [
      "C:\\ProgramData\\Anaconda3\\lib\\site-packages\\sklearn\\svm\\base.py:193: FutureWarning: The default value of gamma will change from 'auto' to 'scale' in version 0.22 to account better for unscaled features. Set gamma explicitly to 'auto' or 'scale' to avoid this warning.\n",
      "  \"avoid this warning.\", FutureWarning)\n"
     ]
    },
    {
     "name": "stdout",
     "output_type": "stream",
     "text": [
      "Number of components in PCA: 86\n",
      "Train accuracy score:0.9933\n",
      "Test accuracy score:0.9848\n",
      "Execution time: 8.232284545898438 seconds\n"
     ]
    },
    {
     "name": "stderr",
     "output_type": "stream",
     "text": [
      "C:\\ProgramData\\Anaconda3\\lib\\site-packages\\sklearn\\svm\\base.py:193: FutureWarning: The default value of gamma will change from 'auto' to 'scale' in version 0.22 to account better for unscaled features. Set gamma explicitly to 'auto' or 'scale' to avoid this warning.\n",
      "  \"avoid this warning.\", FutureWarning)\n"
     ]
    },
    {
     "name": "stdout",
     "output_type": "stream",
     "text": [
      "Number of components in PCA: 87\n",
      "Train accuracy score:0.9931\n",
      "Test accuracy score:0.9848\n",
      "Execution time: 7.87862753868103 seconds\n"
     ]
    },
    {
     "name": "stderr",
     "output_type": "stream",
     "text": [
      "C:\\ProgramData\\Anaconda3\\lib\\site-packages\\sklearn\\svm\\base.py:193: FutureWarning: The default value of gamma will change from 'auto' to 'scale' in version 0.22 to account better for unscaled features. Set gamma explicitly to 'auto' or 'scale' to avoid this warning.\n",
      "  \"avoid this warning.\", FutureWarning)\n"
     ]
    },
    {
     "name": "stdout",
     "output_type": "stream",
     "text": [
      "Number of components in PCA: 88\n",
      "Train accuracy score:0.9938\n",
      "Test accuracy score:0.9855\n",
      "Execution time: 8.345850467681885 seconds\n"
     ]
    },
    {
     "name": "stderr",
     "output_type": "stream",
     "text": [
      "C:\\ProgramData\\Anaconda3\\lib\\site-packages\\sklearn\\svm\\base.py:193: FutureWarning: The default value of gamma will change from 'auto' to 'scale' in version 0.22 to account better for unscaled features. Set gamma explicitly to 'auto' or 'scale' to avoid this warning.\n",
      "  \"avoid this warning.\", FutureWarning)\n"
     ]
    },
    {
     "name": "stdout",
     "output_type": "stream",
     "text": [
      "Number of components in PCA: 89\n",
      "Train accuracy score:0.9938\n",
      "Test accuracy score:0.9855\n",
      "Execution time: 8.179108142852783 seconds\n"
     ]
    },
    {
     "name": "stderr",
     "output_type": "stream",
     "text": [
      "C:\\ProgramData\\Anaconda3\\lib\\site-packages\\sklearn\\svm\\base.py:193: FutureWarning: The default value of gamma will change from 'auto' to 'scale' in version 0.22 to account better for unscaled features. Set gamma explicitly to 'auto' or 'scale' to avoid this warning.\n",
      "  \"avoid this warning.\", FutureWarning)\n"
     ]
    },
    {
     "name": "stdout",
     "output_type": "stream",
     "text": [
      "Number of components in PCA: 90\n",
      "Train accuracy score:0.9938\n",
      "Test accuracy score:0.9862\n",
      "Execution time: 8.445168495178223 seconds\n"
     ]
    },
    {
     "name": "stderr",
     "output_type": "stream",
     "text": [
      "C:\\ProgramData\\Anaconda3\\lib\\site-packages\\sklearn\\svm\\base.py:193: FutureWarning: The default value of gamma will change from 'auto' to 'scale' in version 0.22 to account better for unscaled features. Set gamma explicitly to 'auto' or 'scale' to avoid this warning.\n",
      "  \"avoid this warning.\", FutureWarning)\n"
     ]
    },
    {
     "name": "stdout",
     "output_type": "stream",
     "text": [
      "Number of components in PCA: 91\n",
      "Train accuracy score:0.9938\n",
      "Test accuracy score:0.9840\n",
      "Execution time: 8.462413311004639 seconds\n"
     ]
    },
    {
     "name": "stderr",
     "output_type": "stream",
     "text": [
      "C:\\ProgramData\\Anaconda3\\lib\\site-packages\\sklearn\\svm\\base.py:193: FutureWarning: The default value of gamma will change from 'auto' to 'scale' in version 0.22 to account better for unscaled features. Set gamma explicitly to 'auto' or 'scale' to avoid this warning.\n",
      "  \"avoid this warning.\", FutureWarning)\n"
     ]
    },
    {
     "name": "stdout",
     "output_type": "stream",
     "text": [
      "Number of components in PCA: 92\n",
      "Train accuracy score:0.9933\n",
      "Test accuracy score:0.9833\n",
      "Execution time: 8.842980146408081 seconds\n"
     ]
    },
    {
     "name": "stderr",
     "output_type": "stream",
     "text": [
      "C:\\ProgramData\\Anaconda3\\lib\\site-packages\\sklearn\\svm\\base.py:193: FutureWarning: The default value of gamma will change from 'auto' to 'scale' in version 0.22 to account better for unscaled features. Set gamma explicitly to 'auto' or 'scale' to avoid this warning.\n",
      "  \"avoid this warning.\", FutureWarning)\n"
     ]
    },
    {
     "name": "stdout",
     "output_type": "stream",
     "text": [
      "Number of components in PCA: 93\n",
      "Train accuracy score:0.9942\n",
      "Test accuracy score:0.9855\n",
      "Execution time: 8.456408739089966 seconds\n"
     ]
    },
    {
     "name": "stderr",
     "output_type": "stream",
     "text": [
      "C:\\ProgramData\\Anaconda3\\lib\\site-packages\\sklearn\\svm\\base.py:193: FutureWarning: The default value of gamma will change from 'auto' to 'scale' in version 0.22 to account better for unscaled features. Set gamma explicitly to 'auto' or 'scale' to avoid this warning.\n",
      "  \"avoid this warning.\", FutureWarning)\n"
     ]
    },
    {
     "name": "stdout",
     "output_type": "stream",
     "text": [
      "Number of components in PCA: 94\n",
      "Train accuracy score:0.9937\n",
      "Test accuracy score:0.9862\n",
      "Execution time: 8.355089664459229 seconds\n"
     ]
    },
    {
     "name": "stderr",
     "output_type": "stream",
     "text": [
      "C:\\ProgramData\\Anaconda3\\lib\\site-packages\\sklearn\\svm\\base.py:193: FutureWarning: The default value of gamma will change from 'auto' to 'scale' in version 0.22 to account better for unscaled features. Set gamma explicitly to 'auto' or 'scale' to avoid this warning.\n",
      "  \"avoid this warning.\", FutureWarning)\n"
     ]
    },
    {
     "name": "stdout",
     "output_type": "stream",
     "text": [
      "Number of components in PCA: 95\n",
      "Train accuracy score:0.9947\n",
      "Test accuracy score:0.9862\n",
      "Execution time: 8.666597366333008 seconds\n"
     ]
    },
    {
     "name": "stderr",
     "output_type": "stream",
     "text": [
      "C:\\ProgramData\\Anaconda3\\lib\\site-packages\\sklearn\\svm\\base.py:193: FutureWarning: The default value of gamma will change from 'auto' to 'scale' in version 0.22 to account better for unscaled features. Set gamma explicitly to 'auto' or 'scale' to avoid this warning.\n",
      "  \"avoid this warning.\", FutureWarning)\n"
     ]
    },
    {
     "name": "stdout",
     "output_type": "stream",
     "text": [
      "Number of components in PCA: 96\n",
      "Train accuracy score:0.9947\n",
      "Test accuracy score:0.9862\n",
      "Execution time: 8.489173650741577 seconds\n"
     ]
    },
    {
     "name": "stderr",
     "output_type": "stream",
     "text": [
      "C:\\ProgramData\\Anaconda3\\lib\\site-packages\\sklearn\\svm\\base.py:193: FutureWarning: The default value of gamma will change from 'auto' to 'scale' in version 0.22 to account better for unscaled features. Set gamma explicitly to 'auto' or 'scale' to avoid this warning.\n",
      "  \"avoid this warning.\", FutureWarning)\n"
     ]
    },
    {
     "name": "stdout",
     "output_type": "stream",
     "text": [
      "Number of components in PCA: 97\n",
      "Train accuracy score:0.9947\n",
      "Test accuracy score:0.9862\n",
      "Execution time: 8.686065912246704 seconds\n"
     ]
    },
    {
     "name": "stderr",
     "output_type": "stream",
     "text": [
      "C:\\ProgramData\\Anaconda3\\lib\\site-packages\\sklearn\\svm\\base.py:193: FutureWarning: The default value of gamma will change from 'auto' to 'scale' in version 0.22 to account better for unscaled features. Set gamma explicitly to 'auto' or 'scale' to avoid this warning.\n",
      "  \"avoid this warning.\", FutureWarning)\n"
     ]
    },
    {
     "name": "stdout",
     "output_type": "stream",
     "text": [
      "Number of components in PCA: 98\n",
      "Train accuracy score:0.9947\n",
      "Test accuracy score:0.9855\n",
      "Execution time: 8.73513412475586 seconds\n"
     ]
    },
    {
     "name": "stderr",
     "output_type": "stream",
     "text": [
      "C:\\ProgramData\\Anaconda3\\lib\\site-packages\\sklearn\\svm\\base.py:193: FutureWarning: The default value of gamma will change from 'auto' to 'scale' in version 0.22 to account better for unscaled features. Set gamma explicitly to 'auto' or 'scale' to avoid this warning.\n",
      "  \"avoid this warning.\", FutureWarning)\n"
     ]
    },
    {
     "name": "stdout",
     "output_type": "stream",
     "text": [
      "Number of components in PCA: 99\n",
      "Train accuracy score:0.9949\n",
      "Test accuracy score:0.9869\n",
      "Execution time: 9.225612163543701 seconds\n"
     ]
    },
    {
     "name": "stderr",
     "output_type": "stream",
     "text": [
      "C:\\ProgramData\\Anaconda3\\lib\\site-packages\\sklearn\\svm\\base.py:193: FutureWarning: The default value of gamma will change from 'auto' to 'scale' in version 0.22 to account better for unscaled features. Set gamma explicitly to 'auto' or 'scale' to avoid this warning.\n",
      "  \"avoid this warning.\", FutureWarning)\n"
     ]
    },
    {
     "name": "stdout",
     "output_type": "stream",
     "text": [
      "Number of components in PCA: 100\n",
      "Train accuracy score:0.9949\n",
      "Test accuracy score:0.9869\n",
      "Execution time: 9.08246374130249 seconds\n"
     ]
    },
    {
     "data": {
      "image/png": "[encoded data removed]",
      "text/plain": [
       "<Figure size 432x288 with 1 Axes>"
      ]
     },
     "metadata": {
      "needs_background": "light"
     },
     "output_type": "display_data"
    }
   ],
   "source": [
    "#SVM Model Runnning\n",
    "no_components = []\n",
    "train_accuracy_score = []\n",
    "test_accuracy_score = []\n",
    "execution_time = []\n",
    "import time\n",
    "\n",
    "for n in range (1,101,1):\n",
    "    st = time.time()\n",
    "    \n",
    "    n_components = n\n",
    "    pca=PCA(n_components=n_components, whiten=True)\n",
    "    pca.fit(X_train)\n",
    "    \n",
    "    X_train_pca=pca.transform(X_train)\n",
    "    X_test_pca=pca.transform(X_test)\n",
    "\n",
    "    clf = SVC() #change the model name here\n",
    "    clf.fit(X_train_pca, y_train)\n",
    "    y_pred = clf.predict(X_test_pca)\n",
    "    \n",
    "    y_train_pred = clf.predict(X_train_pca)\n",
    "    print(\"Number of components in PCA: {}\".format(n_components))\n",
    "    no_components.append(n_components)\n",
    "    print(\"Train accuracy score:{:.4f}\".format(metrics.accuracy_score(y_train, y_train_pred)))\n",
    "    train_accuracy_score.append(metrics.accuracy_score(y_train, y_train_pred))\n",
    "    print(\"Test accuracy score:{:.4f}\".format(metrics.accuracy_score(y_test, y_pred)))\n",
    "    test_accuracy_score.append((metrics.accuracy_score(y_test, y_pred)))\n",
    "    # get the end time\n",
    "    et = time.time()\n",
    "\n",
    "    # get the execution time\n",
    "    elapsed_time = et - st\n",
    "    print('Execution time:', elapsed_time, 'seconds')\n",
    "    execution_time.append(elapsed_time)\n",
    "\n",
    "import matplotlib.pyplot as plt\n",
    "\n",
    "plt.plot(no_components, train_accuracy_score, label = 'Training Accuracy Score')\n",
    "plt.plot(no_components, test_accuracy_score, label = 'Test Accuracy Score')          \n",
    "plt.xlabel('No of Component')\n",
    "plt.ylabel('Accuracy')\n",
    "plt.title('SVM Model Performance')\n",
    "plt.legend()\n",
    "plt.show()\n",
    "\n",
    "#Transform and save data including train accuracy, test accuracy, and execution for analysis\n",
    "SVMdf = pd.DataFrame(list(zip(train_accuracy_score, test_accuracy_score, execution_time)), columns =['Train accuracy', 'Test accuracy','Execution Time'], index = no_components )\n",
    "SVMdf.head()\n",
    "SVMdf.to_excel(\"SVMdata.xlsx\")"
   ]
  },
  {
   "cell_type": "markdown",
   "id": "525b9835",
   "metadata": {},
   "source": [
    "## Final selection"
   ]
  },
  {
   "cell_type": "code",
   "execution_count": 16,
   "id": "0c370823",
   "metadata": {},
   "outputs": [
    {
     "name": "stdout",
     "output_type": "stream",
     "text": [
      "Number of components in PCA: 58\n",
      "Accuracy score of test set:0.9840\n",
      "Accuracy score of train test:0.9858\n"
     ]
    }
   ],
   "source": [
    "#Final Selection of SVM with 58 components\n",
    "n_components = 58\n",
    "pca=PCA(n_components=n_components, whiten=True)\n",
    "pca.fit(X_train)\n",
    "\n",
    "X_train_pca=pca.transform(X_train)\n",
    "X_test_pca=pca.transform(X_test)\n",
    "\n",
    "clf = SVC()\n",
    "clf.fit(X_train_pca, y_train)\n",
    "y_pred = clf.predict(X_test_pca)\n",
    "y_train_pred = clf.predict(X_train_pca)\n",
    "print(\"Number of components in PCA: {}\".format(n_components))\n",
    "print(\"Accuracy score of test set:{:.4f}\".format(metrics.accuracy_score(y_test, y_pred)))\n",
    "print(\"Accuracy score of train test:{:.4f}\".format(metrics.accuracy_score(y_train, y_train_pred)))"
   ]
  },
  {
   "cell_type": "code",
   "execution_count": 37,
   "id": "0c1e54b7",
   "metadata": {},
   "outputs": [],
   "source": [
    "#Save the report to be more presentable in report\n",
    "report = metrics.classification_report(y_test, y_pred, output_dict=True)\n",
    "reportdf = pd.DataFrame(report)\n",
    "reportdf.to_csv('GaussianNB97ClassReport.csv', index = False)\n"
   ]
  },
  {
   "cell_type": "code",
   "execution_count": 17,
   "id": "4b7c1881",
   "metadata": {},
   "outputs": [
    {
     "name": "stderr",
     "output_type": "stream",
     "text": [
      "C:\\Users\\DELL\\anaconda3\\lib\\site-packages\\sklearn\\linear_model\\_logistic.py:763: ConvergenceWarning: lbfgs failed to converge (status=1):\n",
      "STOP: TOTAL NO. of ITERATIONS REACHED LIMIT.\n",
      "\n",
      "Increase the number of iterations (max_iter) or scale the data as shown in:\n",
      "    https://scikit-learn.org/stable/modules/preprocessing.html\n",
      "Please also refer to the documentation for alternative solver options:\n",
      "    https://scikit-learn.org/stable/modules/linear_model.html#logistic-regression\n",
      "  n_iter_i = _check_optimize_result(\n"
     ]
    },
    {
     "name": "stdout",
     "output_type": "stream",
     "text": [
      "========== LR RESULT ==========\n",
      "Accuracy score:0.9869\n",
      "\n",
      "========== NB RESULT ==========\n",
      "Accuracy score:0.9064\n",
      "\n",
      "========== KNN RESULT ==========\n",
      "Accuracy score:0.9673\n",
      "\n",
      "========== DT RESULT ==========\n",
      "Accuracy score:0.9499\n",
      "\n",
      "========== SVM RESULT ==========\n",
      "Accuracy score:0.9819\n",
      "\n"
     ]
    }
   ],
   "source": [
    "#Present the different cases of using different machine learning model\n",
    "n_components=70\n",
    "pca=PCA(n_components=n_components, whiten=True)\n",
    "pca.fit(X_train)\n",
    "X_train_pca=pca.transform(X_train)\n",
    "X_test_pca=pca.transform(X_test)\n",
    "models=[]\n",
    "models.append((\"LR\",LogisticRegression()))\n",
    "models.append((\"NB\",GaussianNB()))\n",
    "models.append((\"KNN\",KNeighborsClassifier(n_neighbors=5)))\n",
    "models.append((\"DT\",DecisionTreeClassifier()))\n",
    "models.append((\"SVM\",SVC()))\n",
    "\n",
    "\n",
    "for name, model in models:\n",
    "    \n",
    "    clf=model\n",
    "\n",
    "    clf.fit(X_train_pca, y_train)\n",
    "\n",
    "    y_pred=clf.predict(X_test_pca)\n",
    "    print(10*\"=\",\"{} Result\".format(name).upper(),10*\"=\")\n",
    "    print(\"Accuracy score:{:0.4f}\".format(metrics.accuracy_score(y_test, y_pred)))\n",
    "    print()"
   ]
  },
  {
   "cell_type": "code",
   "execution_count": 39,
   "id": "9a17664f",
   "metadata": {},
   "outputs": [],
   "source": [
    "#Save PCA Transformation model\n",
    "import pickle as pk\n",
    "pk.dump(pca, open(\"pca_final.pkl\",\"wb\"))"
   ]
  },
  {
   "cell_type": "code",
   "execution_count": 40,
   "id": "8da71ace",
   "metadata": {},
   "outputs": [],
   "source": [
    "#Save Preidction model\n",
    "import pickle as pk \n",
    "filename = 'model_final.sav'\n",
    "pk.dump(clf, open(filename, 'wb'))"
   ]
  }
 ],
 "metadata": {
  "kernelspec": {
   "display_name": "Python 3",
   "language": "python",
   "name": "python3"
  },
  "language_info": {
   "codemirror_mode": {
    "name": "ipython",
    "version": 3
   },
   "file_extension": ".py",
   "mimetype": "text/x-python",
   "name": "python",
   "nbconvert_exporter": "python",
   "pygments_lexer": "ipython3",
   "version": "3.8.8"
  }
 },
 "nbformat": 4,
 "nbformat_minor": 5
}
