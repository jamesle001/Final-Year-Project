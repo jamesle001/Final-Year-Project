{
 "cells": [
  {
   "cell_type": "code",
   "execution_count": 5,
   "id": "38e51265",
   "metadata": {},
   "outputs": [],
   "source": [
    "import streamlit as st\n",
    "import pandas as pd\n",
    "from sklearn.model_selection import train_test_split\n",
    "from sklearn.preprocessing import  LabelEncoder\n",
    "import numpy as np\n",
    "\n",
    "st.header(\"Fish Weight Prediction App\")\n",
    "st.text_input(\"Enter your Name: \", key=\"name\")\n",
    "\n",
    "st.subheader(\"Please select relevant features of your fish!\")\n",
    "\n",
    "\n",
    "input_Length1 = st.slider('Vertical length(cm)', 0.0, 100.0, 1.0)\n",
    "input_Length2 = st.slider('Diagonal length(cm)', 0.0, 100.0, 1.0)\n",
    "input_Length3 = st.slider('Cross length(cm)', 0.0, 100.0, 1.0)\n",
    "input_Height = st.slider('Height(cm)', 0.0, 100.0, 1.0)\n",
    "input_Width = st.slider('Diagonal width(cm)', 0.0, 100.0, 1.0)\n"
   ]
  }
 ],
 "metadata": {
  "kernelspec": {
   "display_name": "Python 3",
   "language": "python",
   "name": "python3"
  },
  "language_info": {
   "codemirror_mode": {
    "name": "ipython",
    "version": 3
   },
   "file_extension": ".py",
   "mimetype": "text/x-python",
   "name": "python",
   "nbconvert_exporter": "python",
   "pygments_lexer": "ipython3",
   "version": "3.8.8"
  }
 },
 "nbformat": 4,
 "nbformat_minor": 5
}
